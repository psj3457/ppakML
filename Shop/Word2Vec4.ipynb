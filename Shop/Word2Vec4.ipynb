{
 "cells": [
  {
   "cell_type": "code",
   "execution_count": 2,
   "metadata": {},
   "outputs": [],
   "source": [
    "import pandas as pd \n",
    "import numpy as np\n"
   ]
  },
  {
   "cell_type": "code",
   "execution_count": 3,
   "metadata": {},
   "outputs": [],
   "source": [
    "data = pd.read_csv('hadoop.csv')\n"
   ]
  },
  {
   "cell_type": "code",
   "execution_count": 4,
   "metadata": {},
   "outputs": [],
   "source": [
    "data = data.drop(['idx','access_date','access_time','access_page','access_referer','item_name'],axis=1)"
   ]
  },
  {
   "cell_type": "code",
   "execution_count": 5,
   "metadata": {},
   "outputs": [],
   "source": [
    "unique_ip = data[data['item_type']=='cart']['access_ip'].unique()"
   ]
  },
  {
   "cell_type": "markdown",
   "metadata": {},
   "source": [
    "## Make Dict_ip insert key is ip item is values"
   ]
  },
  {
   "cell_type": "code",
   "execution_count": 6,
   "metadata": {},
   "outputs": [],
   "source": [
    "dict_ip = dict.fromkeys(unique_ip)   #dict key 생성\n",
    "\n",
    "for i in dict_ip.keys():\n",
    "    dict_ip[i] = []\n",
    "\n",
    "#-----------------------------------------------#\n",
    "\n",
    "for i in range(len(data)):          #dict value 삽입\n",
    "    if (data['access_ip'].iloc[i] in dict_ip.keys()):\n",
    "        key = data['access_ip'].iloc[i]\n",
    "        dict_ip[key].append(data['item_id'].iloc[i])"
   ]
  },
  {
   "cell_type": "code",
   "execution_count": 7,
   "metadata": {},
   "outputs": [],
   "source": [
    "for i,j in dict_ip.items():\n",
    "    dict_ip[i] = list(map(str,j))        #dict value를 string으로 매핑\n",
    "    \n",
    "#------------------------------------------------#\n",
    "#dict의 벨류가 4 미만이면 삭제\n",
    "dict_ip = {key:value for key, value in dict_ip.items() if len(value) >4} "
   ]
  },
  {
   "cell_type": "code",
   "execution_count": 8,
   "metadata": {},
   "outputs": [],
   "source": [
    "cart_item = []       #dict의 마지막 아이템을 카트 아이템배열에 넣음\n",
    "for i,j in dict_ip.items():\n",
    "    cart_item.append(j[-1])"
   ]
  },
  {
   "cell_type": "code",
   "execution_count": 9,
   "metadata": {},
   "outputs": [],
   "source": [
    "columns_name = []      #column이름을 string으로 변환\n",
    "for i in range(14):\n",
    "    columns_name.append(str(i))"
   ]
  },
  {
   "cell_type": "markdown",
   "metadata": {},
   "source": [
    "## Make DataFrame New"
   ]
  },
  {
   "cell_type": "code",
   "execution_count": 10,
   "metadata": {},
   "outputs": [],
   "source": [
    "df = pd.DataFrame.from_dict(dict_ip,orient='index',columns=columns_name)\n",
    "df['13'] = cart_item"
   ]
  },
  {
   "cell_type": "code",
   "execution_count": 11,
   "metadata": {},
   "outputs": [],
   "source": [
    "mask = df.applymap(lambda x: x is None)         #None값들 삭제\n",
    "cols = df.columns[(mask).any()]\n",
    "for col in df[cols]:\n",
    "    df.loc[mask[col], col] = ''\n"
   ]
  },
  {
   "cell_type": "code",
   "execution_count": 12,
   "metadata": {},
   "outputs": [],
   "source": [
    "item_list = []                 #item들을 뽑아서 한 row씩 한 리스트로 묶어 배열 생성\n",
    "for i in range(len(df)):\n",
    "    item_list.append(df.iloc[i,:].tolist())"
   ]
  },
  {
   "cell_type": "markdown",
   "metadata": {},
   "source": [
    "# Word2Vec"
   ]
  },
  {
   "cell_type": "code",
   "execution_count": 13,
   "metadata": {},
   "outputs": [],
   "source": [
    "from gensim.models import Word2Vec\n",
    "from gensim.test.utils import common_texts, get_tmpfile"
   ]
  },
  {
   "cell_type": "code",
   "execution_count": 14,
   "metadata": {},
   "outputs": [],
   "source": [
    "path = get_tmpfile('word2vec.model')"
   ]
  },
  {
   "cell_type": "code",
   "execution_count": 15,
   "metadata": {},
   "outputs": [],
   "source": [
    "model = Word2Vec(item_list, size=1, window=5, min_count=1,workers=4)\n",
    "model.save('word2vec.model')"
   ]
  },
  {
   "cell_type": "code",
   "execution_count": 16,
   "metadata": {},
   "outputs": [],
   "source": [
    "model = Word2Vec.load('word2vec.model')"
   ]
  },
  {
   "cell_type": "code",
   "execution_count": 17,
   "metadata": {},
   "outputs": [
    {
     "data": {
      "text/plain": [
       "(0, 2)"
      ]
     },
     "execution_count": 17,
     "metadata": {},
     "output_type": "execute_result"
    }
   ],
   "source": [
    "model.train([['0','12']],total_examples=1 , epochs=1)"
   ]
  },
  {
   "cell_type": "code",
   "execution_count": 18,
   "metadata": {},
   "outputs": [],
   "source": [
    "word_vectors = model.wv  \n",
    "vocabs = word_vectors.vocab.keys() #vocabs has keys that is item number\n",
    "\n",
    "#word_vectors_list has values that is vector value from item number\n",
    "word_vectors_list = [word_vectors[v] for v in vocabs] \n"
   ]
  },
  {
   "cell_type": "code",
   "execution_count": 19,
   "metadata": {},
   "outputs": [],
   "source": [
    "import matplotlib.pyplot as plt\n",
    "from sklearn.decomposition import PCA"
   ]
  },
  {
   "cell_type": "code",
   "execution_count": 20,
   "metadata": {},
   "outputs": [],
   "source": [
    "# def plot_2d_graph(vocabs, xs, ys):\n",
    "#     plt.figure(figsize=(12,6))\n",
    "#     plt.scatter(xs,ys,marker='o')\n",
    "#     for i, v in enumerate(vocabs):\n",
    "#         plt.annotate(v,xy=(xs[i],ys[i]))"
   ]
  },
  {
   "cell_type": "code",
   "execution_count": 21,
   "metadata": {},
   "outputs": [],
   "source": [
    "#pca = PCA(n_components=2)"
   ]
  },
  {
   "cell_type": "code",
   "execution_count": 22,
   "metadata": {},
   "outputs": [],
   "source": [
    "# xys = pca.fit_transform(word_vectors_list)\n",
    "# xs = xys[0]\n",
    "# ys = xys[1]"
   ]
  },
  {
   "cell_type": "code",
   "execution_count": 23,
   "metadata": {},
   "outputs": [],
   "source": [
    "# plot_2d_graph(vocabs,xs,ys)"
   ]
  },
  {
   "cell_type": "code",
   "execution_count": 24,
   "metadata": {},
   "outputs": [],
   "source": [
    "for i in range(len(df)):            #word2vec value를 df로 넣음\n",
    "    for j in range(len(df.iloc[i])):\n",
    "        key=str(df.iloc[i,j])\n",
    "        df.iloc[i,j] = word_vectors[key].tolist()[0]"
   ]
  },
  {
   "cell_type": "code",
   "execution_count": 25,
   "metadata": {},
   "outputs": [],
   "source": [
    "df.index = range(len(df))"
   ]
  },
  {
   "cell_type": "code",
   "execution_count": 26,
   "metadata": {},
   "outputs": [],
   "source": [
    "df = df.apply(pd.to_numeric)"
   ]
  },
  {
   "cell_type": "markdown",
   "metadata": {},
   "source": [
    "# Data split && Learning"
   ]
  },
  {
   "cell_type": "code",
   "execution_count": 27,
   "metadata": {},
   "outputs": [],
   "source": [
    "from sklearn.model_selection import train_test_split\n",
    "import xgboost as xgb"
   ]
  },
  {
   "cell_type": "code",
   "execution_count": 28,
   "metadata": {},
   "outputs": [],
   "source": [
    "X_data = df.drop('13',axis=1)\n",
    "y_data = df['13']"
   ]
  },
  {
   "cell_type": "code",
   "execution_count": 29,
   "metadata": {},
   "outputs": [],
   "source": [
    "seed = 7\n",
    "test_size = 0.3\n",
    "X_train,X_test,y_train,y_test = train_test_split(X_data,y_data,test_size=test_size, random_state=seed)"
   ]
  },
  {
   "cell_type": "code",
   "execution_count": 36,
   "metadata": {},
   "outputs": [],
   "source": [
    "model1 = xgb.XGBClassifier()\n",
    "model2= xgb.XGBClassifier(num_class = 828, n_estimators=100,max_depth=8,learning_rate=0.1,subsample=0.5)\n",
    "eval_set = [(X_train, y_train), (X_test, y_test)]"
   ]
  },
  {
   "cell_type": "code",
   "execution_count": 37,
   "metadata": {},
   "outputs": [
    {
     "ename": "ValueError",
     "evalue": "y contains previously unseen labels: [0.38278645277023315, 0.4481535255908966, 0.5450780391693115, 0.5601896047592163, 0.6879556179046631, 0.6989572644233704, 0.7717557549476624, 0.8054739236831665, 0.8320490717887878, 0.8357860445976257, 0.8387987613677979, 0.8609676361083984, 0.8807662129402161, 0.8855785131454468, 0.8855860829353333, 0.8878364562988281, 0.8913403749465942, 0.8951379656791687, 0.935180127620697, 0.9387589693069458, 0.9408422708511353, 0.9721554517745972, 0.9793010354042053, 0.9812204241752625, 0.9902193546295166, 0.9916657209396362, 0.997627854347229, 0.9989503026008606, 1.0047544240951538, 1.0419447422027588, 1.0487127304077148, 1.0493791103363037, 1.0509411096572876, 1.0588736534118652, 1.078368067741394, 1.08403480052948, 1.0856430530548096, 1.0885889530181885, 1.0930970907211304, 1.0987509489059448, 1.126847505569458, 1.132609486579895, 1.1331249475479126, 1.1422039270401, 1.1472387313842773, 1.155752182006836, 1.1727383136749268, 1.18197500705719, 1.1825988292694092, 1.190546989440918, 1.198193073272705, 1.226884365081787, 1.2303522825241089, 1.2448188066482544, 1.25287663936615, 1.2555110454559326, 1.269670844078064, 1.2771666049957275, 1.2797951698303223, 1.2800012826919556, 1.284908652305603, 1.2902716398239136, 1.294328212738037, 1.296103596687317, 1.3074067831039429, 1.3242435455322266, 1.3272428512573242, 1.3365488052368164, 1.345072865486145, 1.3457326889038086, 1.345823049545288, 1.3543723821640015, 1.3624764680862427, 1.3651829957962036, 1.3842322826385498, 1.4242899417877197, 1.4521061182022095, 1.4523768424987793, 1.4632517099380493, 1.468217372894287, 1.47657310962677, 1.4791672229766846, 1.4850784540176392, 1.50376558303833, 1.504045844078064, 1.5045868158340454, 1.5055512189865112, 1.5078661441802979, 1.5087132453918457, 1.5158755779266357, 1.5184276103973389, 1.519017219543457, 1.5282235145568848, 1.5551820993423462, 1.559190034866333, 1.5600658655166626, 1.5602914094924927, 1.5626388788223267, 1.5713629722595215, 1.5787850618362427, 1.5818297863006592, 1.5828856229782104, 1.5903987884521484, 1.6049436330795288, 1.6107103824615479, 1.6214008331298828, 1.62531578540802, 1.6281378269195557, 1.657545804977417, 1.6581332683563232, 1.6649715900421143, 1.6670963764190674, 1.6702780723571777, 1.6714609861373901, 1.68062162399292, 1.6821125745773315, 1.68996262550354, 1.6924444437026978, 1.694458246231079, 1.7004865407943726, 1.72687828540802, 1.7292391061782837, 1.7316372394561768, 1.745931625366211, 1.7468881607055664, 1.7569509744644165, 1.7770195007324219, 1.7849516868591309, 1.7879971265792847, 1.8185421228408813, 1.8234366178512573, 1.8371121883392334, 1.8444699048995972, 1.8632038831710815, 1.9087752103805542, 1.9401261806488037, 1.946108102798462, 2.059358835220337, 2.0628812313079834, 2.0943069458007812, 2.1294050216674805, 2.1308047771453857, 2.2517664432525635, 2.3233842849731445, 2.3514904975891113]",
     "output_type": "error",
     "traceback": [
      "\u001b[1;31m---------------------------------------------------------------------------\u001b[0m",
      "\u001b[1;31mValueError\u001b[0m                                Traceback (most recent call last)",
      "\u001b[1;32m<ipython-input-37-81b321ef1c6c>\u001b[0m in \u001b[0;36m<module>\u001b[1;34m\u001b[0m\n\u001b[1;32m----> 1\u001b[1;33m \u001b[0mmodel2\u001b[0m\u001b[1;33m.\u001b[0m\u001b[0mfit\u001b[0m\u001b[1;33m(\u001b[0m\u001b[0mX_train\u001b[0m\u001b[1;33m,\u001b[0m\u001b[0my_train\u001b[0m\u001b[1;33m,\u001b[0m \u001b[0meval_metric\u001b[0m\u001b[1;33m=\u001b[0m\u001b[1;33m[\u001b[0m\u001b[1;34m\"error\"\u001b[0m\u001b[1;33m,\u001b[0m \u001b[1;34m\"logloss\"\u001b[0m\u001b[1;33m]\u001b[0m\u001b[1;33m,\u001b[0m \u001b[0meval_set\u001b[0m\u001b[1;33m=\u001b[0m\u001b[0meval_set\u001b[0m\u001b[1;33m,\u001b[0m \u001b[0mverbose\u001b[0m\u001b[1;33m=\u001b[0m\u001b[1;32mFalse\u001b[0m\u001b[1;33m)\u001b[0m\u001b[1;33m\u001b[0m\u001b[1;33m\u001b[0m\u001b[0m\n\u001b[0m",
      "\u001b[1;32m~\\Anaconda3\\lib\\site-packages\\xgboost\\sklearn.py\u001b[0m in \u001b[0;36mfit\u001b[1;34m(self, X, y, sample_weight, base_margin, eval_set, eval_metric, early_stopping_rounds, verbose, xgb_model, sample_weight_eval_set, callbacks)\u001b[0m\n\u001b[0;32m    798\u001b[0m                         \u001b[0mmissing\u001b[0m\u001b[1;33m=\u001b[0m\u001b[0mself\u001b[0m\u001b[1;33m.\u001b[0m\u001b[0mmissing\u001b[0m\u001b[1;33m,\u001b[0m \u001b[0mweight\u001b[0m\u001b[1;33m=\u001b[0m\u001b[0msample_weight_eval_set\u001b[0m\u001b[1;33m[\u001b[0m\u001b[0mi\u001b[0m\u001b[1;33m]\u001b[0m\u001b[1;33m,\u001b[0m\u001b[1;33m\u001b[0m\u001b[1;33m\u001b[0m\u001b[0m\n\u001b[0;32m    799\u001b[0m                         nthread=self.n_jobs)\n\u001b[1;32m--> 800\u001b[1;33m                 \u001b[1;32mfor\u001b[0m \u001b[0mi\u001b[0m \u001b[1;32min\u001b[0m \u001b[0mrange\u001b[0m\u001b[1;33m(\u001b[0m\u001b[0mlen\u001b[0m\u001b[1;33m(\u001b[0m\u001b[0meval_set\u001b[0m\u001b[1;33m)\u001b[0m\u001b[1;33m)\u001b[0m\u001b[1;33m\u001b[0m\u001b[1;33m\u001b[0m\u001b[0m\n\u001b[0m\u001b[0;32m    801\u001b[0m             )\n\u001b[0;32m    802\u001b[0m             \u001b[0mnevals\u001b[0m \u001b[1;33m=\u001b[0m \u001b[0mlen\u001b[0m\u001b[1;33m(\u001b[0m\u001b[0mevals\u001b[0m\u001b[1;33m)\u001b[0m\u001b[1;33m\u001b[0m\u001b[1;33m\u001b[0m\u001b[0m\n",
      "\u001b[1;32m~\\Anaconda3\\lib\\site-packages\\xgboost\\sklearn.py\u001b[0m in \u001b[0;36m<genexpr>\u001b[1;34m(.0)\u001b[0m\n\u001b[0;32m    798\u001b[0m                         \u001b[0mmissing\u001b[0m\u001b[1;33m=\u001b[0m\u001b[0mself\u001b[0m\u001b[1;33m.\u001b[0m\u001b[0mmissing\u001b[0m\u001b[1;33m,\u001b[0m \u001b[0mweight\u001b[0m\u001b[1;33m=\u001b[0m\u001b[0msample_weight_eval_set\u001b[0m\u001b[1;33m[\u001b[0m\u001b[0mi\u001b[0m\u001b[1;33m]\u001b[0m\u001b[1;33m,\u001b[0m\u001b[1;33m\u001b[0m\u001b[1;33m\u001b[0m\u001b[0m\n\u001b[0;32m    799\u001b[0m                         nthread=self.n_jobs)\n\u001b[1;32m--> 800\u001b[1;33m                 \u001b[1;32mfor\u001b[0m \u001b[0mi\u001b[0m \u001b[1;32min\u001b[0m \u001b[0mrange\u001b[0m\u001b[1;33m(\u001b[0m\u001b[0mlen\u001b[0m\u001b[1;33m(\u001b[0m\u001b[0meval_set\u001b[0m\u001b[1;33m)\u001b[0m\u001b[1;33m)\u001b[0m\u001b[1;33m\u001b[0m\u001b[1;33m\u001b[0m\u001b[0m\n\u001b[0m\u001b[0;32m    801\u001b[0m             )\n\u001b[0;32m    802\u001b[0m             \u001b[0mnevals\u001b[0m \u001b[1;33m=\u001b[0m \u001b[0mlen\u001b[0m\u001b[1;33m(\u001b[0m\u001b[0mevals\u001b[0m\u001b[1;33m)\u001b[0m\u001b[1;33m\u001b[0m\u001b[1;33m\u001b[0m\u001b[0m\n",
      "\u001b[1;32m~\\Anaconda3\\lib\\site-packages\\sklearn\\preprocessing\\_label.py\u001b[0m in \u001b[0;36mtransform\u001b[1;34m(self, y)\u001b[0m\n\u001b[0;32m    271\u001b[0m             \u001b[1;32mreturn\u001b[0m \u001b[0mnp\u001b[0m\u001b[1;33m.\u001b[0m\u001b[0marray\u001b[0m\u001b[1;33m(\u001b[0m\u001b[1;33m[\u001b[0m\u001b[1;33m]\u001b[0m\u001b[1;33m)\u001b[0m\u001b[1;33m\u001b[0m\u001b[1;33m\u001b[0m\u001b[0m\n\u001b[0;32m    272\u001b[0m \u001b[1;33m\u001b[0m\u001b[0m\n\u001b[1;32m--> 273\u001b[1;33m         \u001b[0m_\u001b[0m\u001b[1;33m,\u001b[0m \u001b[0my\u001b[0m \u001b[1;33m=\u001b[0m \u001b[0m_encode\u001b[0m\u001b[1;33m(\u001b[0m\u001b[0my\u001b[0m\u001b[1;33m,\u001b[0m \u001b[0muniques\u001b[0m\u001b[1;33m=\u001b[0m\u001b[0mself\u001b[0m\u001b[1;33m.\u001b[0m\u001b[0mclasses_\u001b[0m\u001b[1;33m,\u001b[0m \u001b[0mencode\u001b[0m\u001b[1;33m=\u001b[0m\u001b[1;32mTrue\u001b[0m\u001b[1;33m)\u001b[0m\u001b[1;33m\u001b[0m\u001b[1;33m\u001b[0m\u001b[0m\n\u001b[0m\u001b[0;32m    274\u001b[0m         \u001b[1;32mreturn\u001b[0m \u001b[0my\u001b[0m\u001b[1;33m\u001b[0m\u001b[1;33m\u001b[0m\u001b[0m\n\u001b[0;32m    275\u001b[0m \u001b[1;33m\u001b[0m\u001b[0m\n",
      "\u001b[1;32m~\\Anaconda3\\lib\\site-packages\\sklearn\\preprocessing\\_label.py\u001b[0m in \u001b[0;36m_encode\u001b[1;34m(values, uniques, encode, check_unknown)\u001b[0m\n\u001b[0;32m    116\u001b[0m     \u001b[1;32melse\u001b[0m\u001b[1;33m:\u001b[0m\u001b[1;33m\u001b[0m\u001b[1;33m\u001b[0m\u001b[0m\n\u001b[0;32m    117\u001b[0m         return _encode_numpy(values, uniques, encode,\n\u001b[1;32m--> 118\u001b[1;33m                              check_unknown=check_unknown)\n\u001b[0m\u001b[0;32m    119\u001b[0m \u001b[1;33m\u001b[0m\u001b[0m\n\u001b[0;32m    120\u001b[0m \u001b[1;33m\u001b[0m\u001b[0m\n",
      "\u001b[1;32m~\\Anaconda3\\lib\\site-packages\\sklearn\\preprocessing\\_label.py\u001b[0m in \u001b[0;36m_encode_numpy\u001b[1;34m(values, uniques, encode, check_unknown)\u001b[0m\n\u001b[0;32m     48\u001b[0m             \u001b[1;32mif\u001b[0m \u001b[0mdiff\u001b[0m\u001b[1;33m:\u001b[0m\u001b[1;33m\u001b[0m\u001b[1;33m\u001b[0m\u001b[0m\n\u001b[0;32m     49\u001b[0m                 raise ValueError(\"y contains previously unseen labels: %s\"\n\u001b[1;32m---> 50\u001b[1;33m                                  % str(diff))\n\u001b[0m\u001b[0;32m     51\u001b[0m         \u001b[0mencoded\u001b[0m \u001b[1;33m=\u001b[0m \u001b[0mnp\u001b[0m\u001b[1;33m.\u001b[0m\u001b[0msearchsorted\u001b[0m\u001b[1;33m(\u001b[0m\u001b[0muniques\u001b[0m\u001b[1;33m,\u001b[0m \u001b[0mvalues\u001b[0m\u001b[1;33m)\u001b[0m\u001b[1;33m\u001b[0m\u001b[1;33m\u001b[0m\u001b[0m\n\u001b[0;32m     52\u001b[0m         \u001b[1;32mreturn\u001b[0m \u001b[0muniques\u001b[0m\u001b[1;33m,\u001b[0m \u001b[0mencoded\u001b[0m\u001b[1;33m\u001b[0m\u001b[1;33m\u001b[0m\u001b[0m\n",
      "\u001b[1;31mValueError\u001b[0m: y contains previously unseen labels: [0.38278645277023315, 0.4481535255908966, 0.5450780391693115, 0.5601896047592163, 0.6879556179046631, 0.6989572644233704, 0.7717557549476624, 0.8054739236831665, 0.8320490717887878, 0.8357860445976257, 0.8387987613677979, 0.8609676361083984, 0.8807662129402161, 0.8855785131454468, 0.8855860829353333, 0.8878364562988281, 0.8913403749465942, 0.8951379656791687, 0.935180127620697, 0.9387589693069458, 0.9408422708511353, 0.9721554517745972, 0.9793010354042053, 0.9812204241752625, 0.9902193546295166, 0.9916657209396362, 0.997627854347229, 0.9989503026008606, 1.0047544240951538, 1.0419447422027588, 1.0487127304077148, 1.0493791103363037, 1.0509411096572876, 1.0588736534118652, 1.078368067741394, 1.08403480052948, 1.0856430530548096, 1.0885889530181885, 1.0930970907211304, 1.0987509489059448, 1.126847505569458, 1.132609486579895, 1.1331249475479126, 1.1422039270401, 1.1472387313842773, 1.155752182006836, 1.1727383136749268, 1.18197500705719, 1.1825988292694092, 1.190546989440918, 1.198193073272705, 1.226884365081787, 1.2303522825241089, 1.2448188066482544, 1.25287663936615, 1.2555110454559326, 1.269670844078064, 1.2771666049957275, 1.2797951698303223, 1.2800012826919556, 1.284908652305603, 1.2902716398239136, 1.294328212738037, 1.296103596687317, 1.3074067831039429, 1.3242435455322266, 1.3272428512573242, 1.3365488052368164, 1.345072865486145, 1.3457326889038086, 1.345823049545288, 1.3543723821640015, 1.3624764680862427, 1.3651829957962036, 1.3842322826385498, 1.4242899417877197, 1.4521061182022095, 1.4523768424987793, 1.4632517099380493, 1.468217372894287, 1.47657310962677, 1.4791672229766846, 1.4850784540176392, 1.50376558303833, 1.504045844078064, 1.5045868158340454, 1.5055512189865112, 1.5078661441802979, 1.5087132453918457, 1.5158755779266357, 1.5184276103973389, 1.519017219543457, 1.5282235145568848, 1.5551820993423462, 1.559190034866333, 1.5600658655166626, 1.5602914094924927, 1.5626388788223267, 1.5713629722595215, 1.5787850618362427, 1.5818297863006592, 1.5828856229782104, 1.5903987884521484, 1.6049436330795288, 1.6107103824615479, 1.6214008331298828, 1.62531578540802, 1.6281378269195557, 1.657545804977417, 1.6581332683563232, 1.6649715900421143, 1.6670963764190674, 1.6702780723571777, 1.6714609861373901, 1.68062162399292, 1.6821125745773315, 1.68996262550354, 1.6924444437026978, 1.694458246231079, 1.7004865407943726, 1.72687828540802, 1.7292391061782837, 1.7316372394561768, 1.745931625366211, 1.7468881607055664, 1.7569509744644165, 1.7770195007324219, 1.7849516868591309, 1.7879971265792847, 1.8185421228408813, 1.8234366178512573, 1.8371121883392334, 1.8444699048995972, 1.8632038831710815, 1.9087752103805542, 1.9401261806488037, 1.946108102798462, 2.059358835220337, 2.0628812313079834, 2.0943069458007812, 2.1294050216674805, 2.1308047771453857, 2.2517664432525635, 2.3233842849731445, 2.3514904975891113]"
     ]
    }
   ],
   "source": [
    "model2.fit(X_train,y_train, eval_metric=[\"error\", \"logloss\"], eval_set=eval_set, verbose=False)"
   ]
  },
  {
   "cell_type": "code",
   "execution_count": null,
   "metadata": {},
   "outputs": [],
   "source": [
    "result = pd.DataFrame()"
   ]
  },
  {
   "cell_type": "code",
   "execution_count": null,
   "metadata": {},
   "outputs": [],
   "source": [
    "prediction = model2.predict(X_test)"
   ]
  },
  {
   "cell_type": "code",
   "execution_count": null,
   "metadata": {},
   "outputs": [],
   "source": [
    "result['X_test'] = prediction\n",
    "result['Y_test'] = y_test.tolist()"
   ]
  },
  {
   "cell_type": "code",
   "execution_count": null,
   "metadata": {},
   "outputs": [],
   "source": [
    "result"
   ]
  },
  {
   "cell_type": "code",
   "execution_count": null,
   "metadata": {},
   "outputs": [],
   "source": [
    "X_train.index = range(len(X_train))"
   ]
  },
  {
   "cell_type": "code",
   "execution_count": null,
   "metadata": {},
   "outputs": [],
   "source": [
    "y_train.index = range(len(y_train))"
   ]
  },
  {
   "cell_type": "code",
   "execution_count": null,
   "metadata": {},
   "outputs": [],
   "source": [
    "from sklearn.metrics import confusion_matrix"
   ]
  },
  {
   "cell_type": "code",
   "execution_count": null,
   "metadata": {},
   "outputs": [],
   "source": [
    "# confusion_matrix(prediction,y_test)"
   ]
  },
  {
   "cell_type": "markdown",
   "metadata": {},
   "source": [
    "# Test"
   ]
  }
 ],
 "metadata": {
  "kernelspec": {
   "display_name": "Python 3",
   "language": "python",
   "name": "python3"
  },
  "language_info": {
   "codemirror_mode": {
    "name": "ipython",
    "version": 3
   },
   "file_extension": ".py",
   "mimetype": "text/x-python",
   "name": "python",
   "nbconvert_exporter": "python",
   "pygments_lexer": "ipython3",
   "version": "3.7.6"
  }
 },
 "nbformat": 4,
 "nbformat_minor": 4
}

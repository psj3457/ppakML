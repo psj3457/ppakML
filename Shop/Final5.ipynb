{
 "cells": [
  {
   "cell_type": "code",
   "execution_count": 87,
   "metadata": {},
   "outputs": [],
   "source": [
    "import pandas as pd\n",
    "import numpy as np\n",
    "import warnings\n",
    "warnings.filterwarnings(action='ignore')"
   ]
  },
  {
   "cell_type": "code",
   "execution_count": 88,
   "metadata": {},
   "outputs": [],
   "source": [
    "data = pd.read_csv('Final.csv')"
   ]
  },
  {
   "cell_type": "code",
   "execution_count": 89,
   "metadata": {},
   "outputs": [],
   "source": [
    "data_list = data.values.tolist()"
   ]
  },
  {
   "cell_type": "code",
   "execution_count": 90,
   "metadata": {},
   "outputs": [],
   "source": [
    "item_list = []\n",
    "\n",
    "for i in data_list:\n",
    "    item_list.append(list(map(str,i)))"
   ]
  },
  {
   "cell_type": "code",
   "execution_count": 91,
   "metadata": {},
   "outputs": [],
   "source": [
    "data = data.astype(float)"
   ]
  },
  {
   "cell_type": "code",
   "execution_count": 92,
   "metadata": {},
   "outputs": [],
   "source": [
    "data = data.applymap(str)"
   ]
  },
  {
   "cell_type": "markdown",
   "metadata": {},
   "source": [
    "# Word2Vec"
   ]
  },
  {
   "cell_type": "code",
   "execution_count": 93,
   "metadata": {},
   "outputs": [],
   "source": [
    "from gensim.models import Word2Vec\n",
    "from gensim.test.utils import common_texts, get_tmpfile"
   ]
  },
  {
   "cell_type": "code",
   "execution_count": 94,
   "metadata": {},
   "outputs": [],
   "source": [
    "path = get_tmpfile('word2vec.model')"
   ]
  },
  {
   "cell_type": "code",
   "execution_count": 95,
   "metadata": {},
   "outputs": [],
   "source": [
    "model = Word2Vec(item_list, size=1 ,window=5, min_count=1,workers=5)\n",
    "model.save('word2vec.model')"
   ]
  },
  {
   "cell_type": "code",
   "execution_count": 96,
   "metadata": {},
   "outputs": [],
   "source": [
    "model = Word2Vec.load('word2vec.model')"
   ]
  },
  {
   "cell_type": "code",
   "execution_count": 97,
   "metadata": {},
   "outputs": [],
   "source": [
    "word_vectors = model.wv  \n",
    "vocabs = word_vectors.vocab.keys() #vocabs has keys that is item number\n",
    "\n",
    "#word_vectors_list has values that is vector value from item number\n",
    "word_vectors_list = [word_vectors[v] for v in vocabs] "
   ]
  },
  {
   "cell_type": "code",
   "execution_count": 98,
   "metadata": {},
   "outputs": [],
   "source": [
    "for i in range(len(data)):            #word2vec value를 data로 넣음\n",
    "    for j in range(len(data.iloc[i])):\n",
    "        key=str(data.iloc[i,j])\n",
    "        data.iloc[i,j] = word_vectors[key].tolist()[0]"
   ]
  },
  {
   "cell_type": "code",
   "execution_count": 99,
   "metadata": {},
   "outputs": [],
   "source": [
    "data = data.apply(pd.to_numeric)"
   ]
  },
  {
   "cell_type": "markdown",
   "metadata": {},
   "source": [
    "# Data split && Learning"
   ]
  },
  {
   "cell_type": "code",
   "execution_count": 100,
   "metadata": {},
   "outputs": [],
   "source": [
    "from sklearn.model_selection import train_test_split\n",
    "import xgboost as xgb\n",
    "from heapq import nsmallest\n",
    "import time"
   ]
  },
  {
   "cell_type": "code",
   "execution_count": 101,
   "metadata": {},
   "outputs": [],
   "source": [
    "X_data = data.drop('13',axis=1)\n",
    "y_data = data['13']"
   ]
  },
  {
   "cell_type": "markdown",
   "metadata": {},
   "source": [
    "# Result"
   ]
  },
  {
   "cell_type": "code",
   "execution_count": 102,
   "metadata": {},
   "outputs": [
    {
     "name": "stdout",
     "output_type": "stream",
     "text": [
      "781.923483133316\n"
     ]
    }
   ],
   "source": [
    "seed = 6\n",
    "test_size = 0.2\n",
    "X_train,X_test,y_train,y_test = train_test_split(X_data,y_data,test_size=test_size, random_state=seed)\n",
    "model = xgb.XGBClassifier(n_estimators=1000,max_depth=8,learning_rate=0.1,subsample=0.5)\n",
    "time1 = time.time()\n",
    "model.fit(X_train,y_train)\n",
    "time2 = time.time()\n",
    "print(time2-time1)"
   ]
  },
  {
   "cell_type": "code",
   "execution_count": 17,
   "metadata": {
    "scrolled": false
   },
   "outputs": [
    {
     "name": "stdout",
     "output_type": "stream",
     "text": [
      "1 번째 추천 시작\n",
      "1 번째 추천(2000건)에 걸린 시간(초): 125.40708565711975\n",
      "1 번째 데이터 한개당 걸린 시간 : 0.06270354282855987\n",
      "예측한 값과 가까운 아이템 5개의 Accuracy : 0.9475\n",
      "----------------------------------------------------\n",
      "2 번째 추천 시작\n",
      "2 번째 추천(2000건)에 걸린 시간(초): 127.96811175346375\n",
      "2 번째 데이터 한개당 걸린 시간 : 0.06398405587673187\n",
      "예측한 값과 가까운 아이템 5개의 Accuracy : 0.937\n",
      "----------------------------------------------------\n",
      "3 번째 추천 시작\n",
      "3 번째 추천(2000건)에 걸린 시간(초): 132.65303230285645\n",
      "3 번째 데이터 한개당 걸린 시간 : 0.06632651615142822\n",
      "예측한 값과 가까운 아이템 5개의 Accuracy : 0.9345\n",
      "----------------------------------------------------\n",
      "4 번째 추천 시작\n",
      "4 번째 추천(2000건)에 걸린 시간(초): 130.75527691841125\n",
      "4 번째 데이터 한개당 걸린 시간 : 0.06537763845920563\n",
      "예측한 값과 가까운 아이템 5개의 Accuracy : 0.9445\n",
      "----------------------------------------------------\n",
      "5 번째 추천 시작\n",
      "5 번째 추천(2000건)에 걸린 시간(초): 127.99315333366394\n",
      "5 번째 데이터 한개당 걸린 시간 : 0.06399657666683196\n",
      "예측한 값과 가까운 아이템 5개의 Accuracy : 0.935\n",
      "----------------------------------------------------\n",
      "6 번째 추천 시작\n",
      "6 번째 추천(2000건)에 걸린 시간(초): 128.62337493896484\n",
      "6 번째 데이터 한개당 걸린 시간 : 0.06431168746948242\n",
      "예측한 값과 가까운 아이템 5개의 Accuracy : 0.9425\n",
      "----------------------------------------------------\n",
      "7 번째 추천 시작\n",
      "7 번째 추천(2000건)에 걸린 시간(초): 126.95806622505188\n",
      "7 번째 데이터 한개당 걸린 시간 : 0.06347903311252594\n",
      "예측한 값과 가까운 아이템 5개의 Accuracy : 0.856\n",
      "----------------------------------------------------\n",
      "8 번째 추천 시작\n",
      "8 번째 추천(2000건)에 걸린 시간(초): 127.37851762771606\n",
      "8 번째 데이터 한개당 걸린 시간 : 0.06368925881385804\n",
      "예측한 값과 가까운 아이템 5개의 Accuracy : 0.9395\n",
      "----------------------------------------------------\n",
      "9 번째 추천 시작\n",
      "9 번째 추천(2000건)에 걸린 시간(초): 130.3555793762207\n",
      "9 번째 데이터 한개당 걸린 시간 : 0.06517778968811035\n",
      "예측한 값과 가까운 아이템 5개의 Accuracy : 0.934\n",
      "----------------------------------------------------\n",
      "10 번째 추천 시작\n",
      "10 번째 추천(2000건)에 걸린 시간(초): 137.08876204490662\n",
      "10 번째 데이터 한개당 걸린 시간 : 0.0685443810224533\n",
      "예측한 값과 가까운 아이템 5개의 Accuracy : 0.943\n",
      "----------------------------------------------------\n",
      "추천 정확도의 평균 : 0.9313499999999999\n",
      "데이터 한개당 걸린 시간의 평균 : 0.06475904800891877\n"
     ]
    }
   ],
   "source": [
    "avg_time = []\n",
    "avg_acu = []\n",
    "\n",
    "for i in range(10):\n",
    "    print(i+1, \"번째 추천 시작\")\n",
    "    \n",
    "    result = pd.DataFrame()\n",
    "    start = time.time()\n",
    "    seed = i\n",
    "    X_train,X_test,y_train,y_test = train_test_split(X_data,y_data,test_size=test_size, random_state=seed)\n",
    "    prediction = model.predict(X_test)\n",
    "    end = time.time()\n",
    "    print(i+1, \"번째 추천(2000건)에 걸린 시간(초):\", end-start)\n",
    "    print(i+1, \"번째 데이터 한개당 걸린 시간 :\", (end-start)/2000)\n",
    "    \n",
    "    result['predicted'] = prediction\n",
    "    result['Y_test'] = y_test.tolist()\n",
    "    \n",
    "    #예측값과 근사한 값 5개 출력\n",
    "    vector_list = []\n",
    "\n",
    "    for i in range(len(result)):\n",
    "        vector_list.append(nsmallest(6, word_vectors_list, key=lambda x: abs(x-result['predicted'].iloc[i])))\n",
    "    \n",
    "    result['Nearby5'] = pd.Series(vector_list)\n",
    "    \n",
    "    for i in range(len(result)):\n",
    "        result['Nearby5'].iloc[i] = vector_list[i]\n",
    "    \n",
    "    T_F = []\n",
    "    for i in range(len(result)):\n",
    "        if result['Y_test'].iloc[i] in result['Nearby5'].iloc[i]:\n",
    "            T_F.append('True')\n",
    "        else:\n",
    "            T_F.append('False')\n",
    "    \n",
    "    result['T_F'] = T_F\n",
    "    \n",
    "    print(\"예측한 값과 가까운 아이템 5개의 Accuracy :\", len(result[result['T_F']=='True'])/len(result))\n",
    "    \n",
    "    \n",
    "    avg_acu.append(len(result[result['T_F']=='True'])/len(result))\n",
    "\n",
    "    \n",
    "    avg_time.append((end - start)/2000)\n",
    "    print(\"----------------------------------------------------\")\n",
    "    \n",
    "print(\"추천 정확도의 평균 :\", sum(avg_acu)/len(avg_acu))\n",
    "print(\"데이터 한개당 걸린 시간의 평균 :\", sum(avg_time)/len(avg_time))"
   ]
  },
  {
   "cell_type": "code",
   "execution_count": 33,
   "metadata": {
    "scrolled": true
   },
   "outputs": [
    {
     "data": {
      "image/png": "[encoded data removed]",
      "text/plain": [
       "<Figure size 720x360 with 1 Axes>"
      ]
     },
     "metadata": {
      "needs_background": "light"
     },
     "output_type": "display_data"
    }
   ],
   "source": [
    "import matplotlib.pyplot as plt\n",
    "\n",
    "plt.plot(avg_acu)\n",
    "plt.xlabel(\"Recommendation time\")\n",
    "plt.ylabel(\"Accuracy(num_item=2000)\")\n",
    "plt.xlim(0,10)\n",
    "plt.ylim(0,1)\n",
    "plt.rcParams[\"figure.figsize\"] = 10, 6\n",
    "plt.show()"
   ]
  },
  {
   "cell_type": "code",
   "execution_count": 2,
   "metadata": {},
   "outputs": [],
   "source": [
    "ap = [1, 2, 3]"
   ]
  },
  {
   "cell_type": "code",
   "execution_count": 8,
   "metadata": {},
   "outputs": [],
   "source": [
    "ap[0] = 0"
   ]
  },
  {
   "cell_type": "code",
   "execution_count": 34,
   "metadata": {
    "scrolled": true
   },
   "outputs": [
    {
     "data": {
      "image/png": "[encoded data removed]",
      "text/plain": [
       "<Figure size 720x432 with 1 Axes>"
      ]
     },
     "metadata": {
      "needs_background": "light"
     },
     "output_type": "display_data"
    }
   ],
   "source": [
    "import matplotlib.pyplot as plt\n",
    "\n",
    "plt.plot(avg_time)\n",
    "plt.xlabel(\"Recommendation time\")\n",
    "plt.ylabel(\"Take time per item(sec)\")\n",
    "plt.xlim(0,10)\n",
    "plt.ylim(0,0.1)\n",
    "plt.rcParams[\"figure.figsize\"] = 10, 6\n",
    "plt.show()"
   ]
  }
 ],
 "metadata": {
  "kernelspec": {
   "display_name": "Python 3",
   "language": "python",
   "name": "python3"
  },
  "language_info": {
   "codemirror_mode": {
    "name": "ipython",
    "version": 3
   },
   "file_extension": ".py",
   "mimetype": "text/x-python",
   "name": "python",
   "nbconvert_exporter": "python",
   "pygments_lexer": "ipython3",
   "version": "3.7.6"
  }
 },
 "nbformat": 4,
 "nbformat_minor": 4
}

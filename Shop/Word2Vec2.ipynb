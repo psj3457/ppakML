{
 "cells": [
  {
   "cell_type": "code",
   "execution_count": 1,
   "metadata": {},
   "outputs": [],
   "source": [
    "import pandas as pd \n",
    "import numpy as np\n"
   ]
  },
  {
   "cell_type": "code",
   "execution_count": 2,
   "metadata": {},
   "outputs": [],
   "source": [
    "data = pd.read_csv('hadoop.csv')\n"
   ]
  },
  {
   "cell_type": "code",
   "execution_count": 3,
   "metadata": {},
   "outputs": [],
   "source": [
    "data = data.drop(['idx','access_date','access_time','access_page','access_referer','item_name'],axis=1)"
   ]
  },
  {
   "cell_type": "code",
   "execution_count": 4,
   "metadata": {},
   "outputs": [],
   "source": [
    "unique_ip = data[data['item_type']=='cart']['access_ip'].unique()"
   ]
  },
  {
   "cell_type": "markdown",
   "metadata": {},
   "source": [
    "## Make Dict_ip insert key is ip item is values"
   ]
  },
  {
   "cell_type": "code",
   "execution_count": 5,
   "metadata": {},
   "outputs": [],
   "source": [
    "dict_ip = dict.fromkeys(unique_ip)   #dict key 생성\n",
    "\n",
    "for i in dict_ip.keys():\n",
    "    dict_ip[i] = []\n",
    "\n",
    "#-----------------------------------------------#\n",
    "\n",
    "for i in range(len(data)):          #dict value 삽입\n",
    "    if (data['access_ip'].iloc[i] in dict_ip.keys()):\n",
    "        key = data['access_ip'].iloc[i]\n",
    "        dict_ip[key].append(data['item_id'].iloc[i])"
   ]
  },
  {
   "cell_type": "code",
   "execution_count": 6,
   "metadata": {},
   "outputs": [],
   "source": [
    "for i,j in dict_ip.items():\n",
    "    dict_ip[i] = list(map(str,j))        #dict value를 string으로 매핑\n",
    "    \n",
    "#------------------------------------------------#\n",
    "#dict의 벨류가 4 미만이면 삭제\n",
    "dict_ip = {key:value for key, value in dict_ip.items() if len(value) >4} "
   ]
  },
  {
   "cell_type": "code",
   "execution_count": 7,
   "metadata": {},
   "outputs": [],
   "source": [
    "cart_item = []       #dict의 마지막 아이템을 카트 아이템배열에 넣음\n",
    "for i,j in dict_ip.items():\n",
    "    cart_item.append(j[-1])"
   ]
  },
  {
   "cell_type": "code",
   "execution_count": 8,
   "metadata": {},
   "outputs": [],
   "source": [
    "columns_name = []      #column이름을 string으로 변환\n",
    "for i in range(14):\n",
    "    columns_name.append(str(i))"
   ]
  },
  {
   "cell_type": "markdown",
   "metadata": {},
   "source": [
    "## Make DataFrame New"
   ]
  },
  {
   "cell_type": "code",
   "execution_count": 78,
   "metadata": {},
   "outputs": [
    {
     "data": {
      "text/html": [
       "<div>\n",
       "<style scoped>\n",
       "    .dataframe tbody tr th:only-of-type {\n",
       "        vertical-align: middle;\n",
       "    }\n",
       "\n",
       "    .dataframe tbody tr th {\n",
       "        vertical-align: top;\n",
       "    }\n",
       "\n",
       "    .dataframe thead th {\n",
       "        text-align: right;\n",
       "    }\n",
       "</style>\n",
       "<table border=\"1\" class=\"dataframe\">\n",
       "  <thead>\n",
       "    <tr style=\"text-align: right;\">\n",
       "      <th></th>\n",
       "      <th>0</th>\n",
       "      <th>1</th>\n",
       "      <th>2</th>\n",
       "      <th>3</th>\n",
       "      <th>4</th>\n",
       "      <th>5</th>\n",
       "      <th>6</th>\n",
       "      <th>7</th>\n",
       "      <th>8</th>\n",
       "      <th>9</th>\n",
       "      <th>10</th>\n",
       "      <th>11</th>\n",
       "      <th>12</th>\n",
       "      <th>13</th>\n",
       "    </tr>\n",
       "  </thead>\n",
       "  <tbody>\n",
       "    <tr>\n",
       "      <th>0</th>\n",
       "      <td>-0.471253</td>\n",
       "      <td>-0.534887</td>\n",
       "      <td>-0.544340</td>\n",
       "      <td>-0.534887</td>\n",
       "      <td>-0.522199</td>\n",
       "      <td>-0.534887</td>\n",
       "      <td>-0.527233</td>\n",
       "      <td>-0.544340</td>\n",
       "      <td>-0.522199</td>\n",
       "      <td>-0.522199</td>\n",
       "      <td>-0.534887</td>\n",
       "      <td>-0.527233</td>\n",
       "      <td>-0.522199</td>\n",
       "      <td>-0.522199</td>\n",
       "    </tr>\n",
       "    <tr>\n",
       "      <th>1</th>\n",
       "      <td>-0.291721</td>\n",
       "      <td>-0.365402</td>\n",
       "      <td>-0.365402</td>\n",
       "      <td>-0.365989</td>\n",
       "      <td>-0.365402</td>\n",
       "      <td>-0.348770</td>\n",
       "      <td>-0.365989</td>\n",
       "      <td>-0.365989</td>\n",
       "      <td>-0.348770</td>\n",
       "      <td>-0.348770</td>\n",
       "      <td>-0.348770</td>\n",
       "      <td>-0.348770</td>\n",
       "      <td>-0.365402</td>\n",
       "      <td>-0.365402</td>\n",
       "    </tr>\n",
       "    <tr>\n",
       "      <th>2</th>\n",
       "      <td>-4.510532</td>\n",
       "      <td>-1.671708</td>\n",
       "      <td>-1.325030</td>\n",
       "      <td>-1.850459</td>\n",
       "      <td>-2.837550</td>\n",
       "      <td>-1.597191</td>\n",
       "      <td>-2.165611</td>\n",
       "      <td>-1.629844</td>\n",
       "      <td>-2.234840</td>\n",
       "      <td>-1.562182</td>\n",
       "      <td>-1.783685</td>\n",
       "      <td>-1.656702</td>\n",
       "      <td>-1.863676</td>\n",
       "      <td>-1.863676</td>\n",
       "    </tr>\n",
       "    <tr>\n",
       "      <th>3</th>\n",
       "      <td>-4.510532</td>\n",
       "      <td>-1.647365</td>\n",
       "      <td>-1.627058</td>\n",
       "      <td>-1.690243</td>\n",
       "      <td>-1.579481</td>\n",
       "      <td>-1.092230</td>\n",
       "      <td>-3.945206</td>\n",
       "      <td>-3.945206</td>\n",
       "      <td>-1.492767</td>\n",
       "      <td>-1.398932</td>\n",
       "      <td>-3.821677</td>\n",
       "      <td>-1.901273</td>\n",
       "      <td>-1.625965</td>\n",
       "      <td>-1.625965</td>\n",
       "    </tr>\n",
       "    <tr>\n",
       "      <th>4</th>\n",
       "      <td>-0.895579</td>\n",
       "      <td>-1.005187</td>\n",
       "      <td>-1.005187</td>\n",
       "      <td>-0.999168</td>\n",
       "      <td>-0.992357</td>\n",
       "      <td>-1.000765</td>\n",
       "      <td>-1.000765</td>\n",
       "      <td>-0.985653</td>\n",
       "      <td>-0.993855</td>\n",
       "      <td>-0.981220</td>\n",
       "      <td>-0.992357</td>\n",
       "      <td>-0.985653</td>\n",
       "      <td>-1.005187</td>\n",
       "      <td>-1.005187</td>\n",
       "    </tr>\n",
       "    <tr>\n",
       "      <th>...</th>\n",
       "      <td>...</td>\n",
       "      <td>...</td>\n",
       "      <td>...</td>\n",
       "      <td>...</td>\n",
       "      <td>...</td>\n",
       "      <td>...</td>\n",
       "      <td>...</td>\n",
       "      <td>...</td>\n",
       "      <td>...</td>\n",
       "      <td>...</td>\n",
       "      <td>...</td>\n",
       "      <td>...</td>\n",
       "      <td>...</td>\n",
       "      <td>...</td>\n",
       "    </tr>\n",
       "    <tr>\n",
       "      <th>6963</th>\n",
       "      <td>-3.945206</td>\n",
       "      <td>-3.945206</td>\n",
       "      <td>-4.140063</td>\n",
       "      <td>-4.140063</td>\n",
       "      <td>-2.271880</td>\n",
       "      <td>-3.684368</td>\n",
       "      <td>-0.522199</td>\n",
       "      <td>-0.522199</td>\n",
       "      <td>-0.893878</td>\n",
       "      <td>-0.893878</td>\n",
       "      <td>-0.893878</td>\n",
       "      <td>-0.893878</td>\n",
       "      <td>-0.893878</td>\n",
       "      <td>-0.522199</td>\n",
       "    </tr>\n",
       "    <tr>\n",
       "      <th>6964</th>\n",
       "      <td>-1.719576</td>\n",
       "      <td>-1.937196</td>\n",
       "      <td>-1.740164</td>\n",
       "      <td>-2.093109</td>\n",
       "      <td>-1.638971</td>\n",
       "      <td>-1.638971</td>\n",
       "      <td>-0.893878</td>\n",
       "      <td>-0.893878</td>\n",
       "      <td>-0.893878</td>\n",
       "      <td>-0.893878</td>\n",
       "      <td>-0.893878</td>\n",
       "      <td>-0.893878</td>\n",
       "      <td>-0.893878</td>\n",
       "      <td>-1.638971</td>\n",
       "    </tr>\n",
       "    <tr>\n",
       "      <th>6965</th>\n",
       "      <td>-4.789981</td>\n",
       "      <td>-1.820540</td>\n",
       "      <td>0.105234</td>\n",
       "      <td>-1.372041</td>\n",
       "      <td>-1.468511</td>\n",
       "      <td>-0.893878</td>\n",
       "      <td>-0.893878</td>\n",
       "      <td>-0.893878</td>\n",
       "      <td>-0.893878</td>\n",
       "      <td>-0.893878</td>\n",
       "      <td>-0.893878</td>\n",
       "      <td>-0.893878</td>\n",
       "      <td>-0.893878</td>\n",
       "      <td>-1.468511</td>\n",
       "    </tr>\n",
       "    <tr>\n",
       "      <th>6966</th>\n",
       "      <td>-0.365989</td>\n",
       "      <td>-0.365989</td>\n",
       "      <td>-0.365989</td>\n",
       "      <td>-0.544340</td>\n",
       "      <td>-0.348770</td>\n",
       "      <td>-0.544340</td>\n",
       "      <td>-0.893878</td>\n",
       "      <td>-0.893878</td>\n",
       "      <td>-0.893878</td>\n",
       "      <td>-0.893878</td>\n",
       "      <td>-0.893878</td>\n",
       "      <td>-0.893878</td>\n",
       "      <td>-0.893878</td>\n",
       "      <td>-0.544340</td>\n",
       "    </tr>\n",
       "    <tr>\n",
       "      <th>6967</th>\n",
       "      <td>-1.050005</td>\n",
       "      <td>-1.048728</td>\n",
       "      <td>-1.021930</td>\n",
       "      <td>-1.021930</td>\n",
       "      <td>-1.021930</td>\n",
       "      <td>-0.893878</td>\n",
       "      <td>-0.893878</td>\n",
       "      <td>-0.893878</td>\n",
       "      <td>-0.893878</td>\n",
       "      <td>-0.893878</td>\n",
       "      <td>-0.893878</td>\n",
       "      <td>-0.893878</td>\n",
       "      <td>-0.893878</td>\n",
       "      <td>-1.021930</td>\n",
       "    </tr>\n",
       "  </tbody>\n",
       "</table>\n",
       "<p>6968 rows × 14 columns</p>\n",
       "</div>"
      ],
      "text/plain": [
       "             0         1         2         3         4         5         6  \\\n",
       "0    -0.471253 -0.534887 -0.544340 -0.534887 -0.522199 -0.534887 -0.527233   \n",
       "1    -0.291721 -0.365402 -0.365402 -0.365989 -0.365402 -0.348770 -0.365989   \n",
       "2    -4.510532 -1.671708 -1.325030 -1.850459 -2.837550 -1.597191 -2.165611   \n",
       "3    -4.510532 -1.647365 -1.627058 -1.690243 -1.579481 -1.092230 -3.945206   \n",
       "4    -0.895579 -1.005187 -1.005187 -0.999168 -0.992357 -1.000765 -1.000765   \n",
       "...        ...       ...       ...       ...       ...       ...       ...   \n",
       "6963 -3.945206 -3.945206 -4.140063 -4.140063 -2.271880 -3.684368 -0.522199   \n",
       "6964 -1.719576 -1.937196 -1.740164 -2.093109 -1.638971 -1.638971 -0.893878   \n",
       "6965 -4.789981 -1.820540  0.105234 -1.372041 -1.468511 -0.893878 -0.893878   \n",
       "6966 -0.365989 -0.365989 -0.365989 -0.544340 -0.348770 -0.544340 -0.893878   \n",
       "6967 -1.050005 -1.048728 -1.021930 -1.021930 -1.021930 -0.893878 -0.893878   \n",
       "\n",
       "             7         8         9        10        11        12        13  \n",
       "0    -0.544340 -0.522199 -0.522199 -0.534887 -0.527233 -0.522199 -0.522199  \n",
       "1    -0.365989 -0.348770 -0.348770 -0.348770 -0.348770 -0.365402 -0.365402  \n",
       "2    -1.629844 -2.234840 -1.562182 -1.783685 -1.656702 -1.863676 -1.863676  \n",
       "3    -3.945206 -1.492767 -1.398932 -3.821677 -1.901273 -1.625965 -1.625965  \n",
       "4    -0.985653 -0.993855 -0.981220 -0.992357 -0.985653 -1.005187 -1.005187  \n",
       "...        ...       ...       ...       ...       ...       ...       ...  \n",
       "6963 -0.522199 -0.893878 -0.893878 -0.893878 -0.893878 -0.893878 -0.522199  \n",
       "6964 -0.893878 -0.893878 -0.893878 -0.893878 -0.893878 -0.893878 -1.638971  \n",
       "6965 -0.893878 -0.893878 -0.893878 -0.893878 -0.893878 -0.893878 -1.468511  \n",
       "6966 -0.893878 -0.893878 -0.893878 -0.893878 -0.893878 -0.893878 -0.544340  \n",
       "6967 -0.893878 -0.893878 -0.893878 -0.893878 -0.893878 -0.893878 -1.021930  \n",
       "\n",
       "[6968 rows x 14 columns]"
      ]
     },
     "execution_count": 78,
     "metadata": {},
     "output_type": "execute_result"
    }
   ],
   "source": [
    "df"
   ]
  },
  {
   "cell_type": "code",
   "execution_count": 9,
   "metadata": {},
   "outputs": [],
   "source": [
    "df = pd.DataFrame.from_dict(dict_ip,orient='index',columns=columns_name)\n",
    "df['13'] = cart_item"
   ]
  },
  {
   "cell_type": "code",
   "execution_count": 10,
   "metadata": {},
   "outputs": [],
   "source": [
    "mask = df.applymap(lambda x: x is None)         #None값들 삭제\n",
    "cols = df.columns[(mask).any()]\n",
    "for col in df[cols]:\n",
    "    df.loc[mask[col], col] = ''\n"
   ]
  },
  {
   "cell_type": "code",
   "execution_count": 11,
   "metadata": {},
   "outputs": [],
   "source": [
    "item_list = []                 #item들을 뽑아서 한 row씩 한 리스트로 묶어 배열 생성\n",
    "for i in range(len(df)):\n",
    "    item_list.append(df.iloc[i,:].tolist())"
   ]
  },
  {
   "cell_type": "markdown",
   "metadata": {},
   "source": [
    "# Word2Vec"
   ]
  },
  {
   "cell_type": "code",
   "execution_count": 12,
   "metadata": {},
   "outputs": [],
   "source": [
    "from gensim.models import Word2Vec\n",
    "from gensim.test.utils import common_texts, get_tmpfile"
   ]
  },
  {
   "cell_type": "code",
   "execution_count": 13,
   "metadata": {},
   "outputs": [],
   "source": [
    "path = get_tmpfile('word2vec.model')"
   ]
  },
  {
   "cell_type": "code",
   "execution_count": 14,
   "metadata": {},
   "outputs": [],
   "source": [
    "model = Word2Vec(item_list, size=1, window=5, min_count=1,workers=4)\n",
    "model.save('word2vec.model')"
   ]
  },
  {
   "cell_type": "code",
   "execution_count": 15,
   "metadata": {},
   "outputs": [],
   "source": [
    "model = Word2Vec.load('word2vec.model')"
   ]
  },
  {
   "cell_type": "code",
   "execution_count": 16,
   "metadata": {},
   "outputs": [
    {
     "data": {
      "text/plain": [
       "(0, 2)"
      ]
     },
     "execution_count": 16,
     "metadata": {},
     "output_type": "execute_result"
    }
   ],
   "source": [
    "model.train([['0','12']],total_examples=1 , epochs=1)"
   ]
  },
  {
   "cell_type": "code",
   "execution_count": 17,
   "metadata": {},
   "outputs": [],
   "source": [
    "word_vectors = model.wv  \n",
    "vocabs = word_vectors.vocab.keys() #vocabs has keys that is item number\n",
    "\n",
    "#word_vectors_list has values that is vector value from item number\n",
    "word_vectors_list = [word_vectors[v] for v in vocabs] \n"
   ]
  },
  {
   "cell_type": "code",
   "execution_count": 18,
   "metadata": {},
   "outputs": [],
   "source": [
    "import matplotlib.pyplot as plt\n",
    "from sklearn.decomposition import PCA"
   ]
  },
  {
   "cell_type": "code",
   "execution_count": 19,
   "metadata": {},
   "outputs": [],
   "source": [
    "# def plot_2d_graph(vocabs, xs, ys):\n",
    "#     plt.figure(figsize=(12,6))\n",
    "#     plt.scatter(xs,ys,marker='o')\n",
    "#     for i, v in enumerate(vocabs):\n",
    "#         plt.annotate(v,xy=(xs[i],ys[i]))"
   ]
  },
  {
   "cell_type": "code",
   "execution_count": 20,
   "metadata": {},
   "outputs": [],
   "source": [
    "#pca = PCA(n_components=2)"
   ]
  },
  {
   "cell_type": "code",
   "execution_count": 21,
   "metadata": {},
   "outputs": [],
   "source": [
    "# xys = pca.fit_transform(word_vectors_list)\n",
    "# xs = xys[0]\n",
    "# ys = xys[1]"
   ]
  },
  {
   "cell_type": "code",
   "execution_count": 22,
   "metadata": {},
   "outputs": [],
   "source": [
    "# plot_2d_graph(vocabs,xs,ys)"
   ]
  },
  {
   "cell_type": "code",
   "execution_count": 23,
   "metadata": {},
   "outputs": [],
   "source": [
    "for i in range(len(df)):            #word2vec value를 df로 넣음\n",
    "    for j in range(len(df.iloc[i])):\n",
    "        key=str(df.iloc[i,j])\n",
    "        df.iloc[i,j] = word_vectors[key].tolist()[0]"
   ]
  },
  {
   "cell_type": "code",
   "execution_count": 24,
   "metadata": {},
   "outputs": [],
   "source": [
    "df.index = range(len(df))"
   ]
  },
  {
   "cell_type": "code",
   "execution_count": 95,
   "metadata": {},
   "outputs": [
    {
     "data": {
      "text/html": [
       "<div>\n",
       "<style scoped>\n",
       "    .dataframe tbody tr th:only-of-type {\n",
       "        vertical-align: middle;\n",
       "    }\n",
       "\n",
       "    .dataframe tbody tr th {\n",
       "        vertical-align: top;\n",
       "    }\n",
       "\n",
       "    .dataframe thead th {\n",
       "        text-align: right;\n",
       "    }\n",
       "</style>\n",
       "<table border=\"1\" class=\"dataframe\">\n",
       "  <thead>\n",
       "    <tr style=\"text-align: right;\">\n",
       "      <th></th>\n",
       "      <th>0</th>\n",
       "      <th>1</th>\n",
       "      <th>2</th>\n",
       "      <th>3</th>\n",
       "      <th>4</th>\n",
       "      <th>5</th>\n",
       "      <th>6</th>\n",
       "      <th>7</th>\n",
       "      <th>8</th>\n",
       "      <th>9</th>\n",
       "      <th>10</th>\n",
       "      <th>11</th>\n",
       "      <th>12</th>\n",
       "      <th>13</th>\n",
       "    </tr>\n",
       "  </thead>\n",
       "  <tbody>\n",
       "    <tr>\n",
       "      <th>0</th>\n",
       "      <td>-0.471253</td>\n",
       "      <td>-0.534887</td>\n",
       "      <td>-0.544340</td>\n",
       "      <td>-0.534887</td>\n",
       "      <td>-0.522199</td>\n",
       "      <td>-0.534887</td>\n",
       "      <td>-0.527233</td>\n",
       "      <td>-0.544340</td>\n",
       "      <td>-0.522199</td>\n",
       "      <td>-0.522199</td>\n",
       "      <td>-0.534887</td>\n",
       "      <td>-0.527233</td>\n",
       "      <td>-0.522199</td>\n",
       "      <td>-0.522199</td>\n",
       "    </tr>\n",
       "    <tr>\n",
       "      <th>1</th>\n",
       "      <td>-0.291721</td>\n",
       "      <td>-0.365402</td>\n",
       "      <td>-0.365402</td>\n",
       "      <td>-0.365989</td>\n",
       "      <td>-0.365402</td>\n",
       "      <td>-0.348770</td>\n",
       "      <td>-0.365989</td>\n",
       "      <td>-0.365989</td>\n",
       "      <td>-0.348770</td>\n",
       "      <td>-0.348770</td>\n",
       "      <td>-0.348770</td>\n",
       "      <td>-0.348770</td>\n",
       "      <td>-0.365402</td>\n",
       "      <td>-0.365402</td>\n",
       "    </tr>\n",
       "    <tr>\n",
       "      <th>2</th>\n",
       "      <td>-4.510532</td>\n",
       "      <td>-1.671708</td>\n",
       "      <td>-1.325030</td>\n",
       "      <td>-1.850459</td>\n",
       "      <td>-2.837550</td>\n",
       "      <td>-1.597191</td>\n",
       "      <td>-2.165611</td>\n",
       "      <td>-1.629844</td>\n",
       "      <td>-2.234840</td>\n",
       "      <td>-1.562182</td>\n",
       "      <td>-1.783685</td>\n",
       "      <td>-1.656702</td>\n",
       "      <td>-1.863676</td>\n",
       "      <td>-1.863676</td>\n",
       "    </tr>\n",
       "    <tr>\n",
       "      <th>3</th>\n",
       "      <td>-4.510532</td>\n",
       "      <td>-1.647365</td>\n",
       "      <td>-1.627058</td>\n",
       "      <td>-1.690243</td>\n",
       "      <td>-1.579481</td>\n",
       "      <td>-1.092230</td>\n",
       "      <td>-3.945206</td>\n",
       "      <td>-3.945206</td>\n",
       "      <td>-1.492767</td>\n",
       "      <td>-1.398932</td>\n",
       "      <td>-3.821677</td>\n",
       "      <td>-1.901273</td>\n",
       "      <td>-1.625965</td>\n",
       "      <td>-1.625965</td>\n",
       "    </tr>\n",
       "    <tr>\n",
       "      <th>4</th>\n",
       "      <td>-0.895579</td>\n",
       "      <td>-1.005187</td>\n",
       "      <td>-1.005187</td>\n",
       "      <td>-0.999168</td>\n",
       "      <td>-0.992357</td>\n",
       "      <td>-1.000765</td>\n",
       "      <td>-1.000765</td>\n",
       "      <td>-0.985653</td>\n",
       "      <td>-0.993855</td>\n",
       "      <td>-0.981220</td>\n",
       "      <td>-0.992357</td>\n",
       "      <td>-0.985653</td>\n",
       "      <td>-1.005187</td>\n",
       "      <td>-1.005187</td>\n",
       "    </tr>\n",
       "    <tr>\n",
       "      <th>...</th>\n",
       "      <td>...</td>\n",
       "      <td>...</td>\n",
       "      <td>...</td>\n",
       "      <td>...</td>\n",
       "      <td>...</td>\n",
       "      <td>...</td>\n",
       "      <td>...</td>\n",
       "      <td>...</td>\n",
       "      <td>...</td>\n",
       "      <td>...</td>\n",
       "      <td>...</td>\n",
       "      <td>...</td>\n",
       "      <td>...</td>\n",
       "      <td>...</td>\n",
       "    </tr>\n",
       "    <tr>\n",
       "      <th>6963</th>\n",
       "      <td>-3.945206</td>\n",
       "      <td>-3.945206</td>\n",
       "      <td>-4.140063</td>\n",
       "      <td>-4.140063</td>\n",
       "      <td>-2.271880</td>\n",
       "      <td>-3.684368</td>\n",
       "      <td>-0.522199</td>\n",
       "      <td>-0.522199</td>\n",
       "      <td>-0.893878</td>\n",
       "      <td>-0.893878</td>\n",
       "      <td>-0.893878</td>\n",
       "      <td>-0.893878</td>\n",
       "      <td>-0.893878</td>\n",
       "      <td>-0.522199</td>\n",
       "    </tr>\n",
       "    <tr>\n",
       "      <th>6964</th>\n",
       "      <td>-1.719576</td>\n",
       "      <td>-1.937196</td>\n",
       "      <td>-1.740164</td>\n",
       "      <td>-2.093109</td>\n",
       "      <td>-1.638971</td>\n",
       "      <td>-1.638971</td>\n",
       "      <td>-0.893878</td>\n",
       "      <td>-0.893878</td>\n",
       "      <td>-0.893878</td>\n",
       "      <td>-0.893878</td>\n",
       "      <td>-0.893878</td>\n",
       "      <td>-0.893878</td>\n",
       "      <td>-0.893878</td>\n",
       "      <td>-1.638971</td>\n",
       "    </tr>\n",
       "    <tr>\n",
       "      <th>6965</th>\n",
       "      <td>-4.789981</td>\n",
       "      <td>-1.820540</td>\n",
       "      <td>0.105234</td>\n",
       "      <td>-1.372041</td>\n",
       "      <td>-1.468511</td>\n",
       "      <td>-0.893878</td>\n",
       "      <td>-0.893878</td>\n",
       "      <td>-0.893878</td>\n",
       "      <td>-0.893878</td>\n",
       "      <td>-0.893878</td>\n",
       "      <td>-0.893878</td>\n",
       "      <td>-0.893878</td>\n",
       "      <td>-0.893878</td>\n",
       "      <td>-1.468511</td>\n",
       "    </tr>\n",
       "    <tr>\n",
       "      <th>6966</th>\n",
       "      <td>-0.365989</td>\n",
       "      <td>-0.365989</td>\n",
       "      <td>-0.365989</td>\n",
       "      <td>-0.544340</td>\n",
       "      <td>-0.348770</td>\n",
       "      <td>-0.544340</td>\n",
       "      <td>-0.893878</td>\n",
       "      <td>-0.893878</td>\n",
       "      <td>-0.893878</td>\n",
       "      <td>-0.893878</td>\n",
       "      <td>-0.893878</td>\n",
       "      <td>-0.893878</td>\n",
       "      <td>-0.893878</td>\n",
       "      <td>-0.544340</td>\n",
       "    </tr>\n",
       "    <tr>\n",
       "      <th>6967</th>\n",
       "      <td>-1.050005</td>\n",
       "      <td>-1.048728</td>\n",
       "      <td>-1.021930</td>\n",
       "      <td>-1.021930</td>\n",
       "      <td>-1.021930</td>\n",
       "      <td>-0.893878</td>\n",
       "      <td>-0.893878</td>\n",
       "      <td>-0.893878</td>\n",
       "      <td>-0.893878</td>\n",
       "      <td>-0.893878</td>\n",
       "      <td>-0.893878</td>\n",
       "      <td>-0.893878</td>\n",
       "      <td>-0.893878</td>\n",
       "      <td>-1.021930</td>\n",
       "    </tr>\n",
       "  </tbody>\n",
       "</table>\n",
       "<p>6968 rows × 14 columns</p>\n",
       "</div>"
      ],
      "text/plain": [
       "             0         1         2         3         4         5         6  \\\n",
       "0    -0.471253 -0.534887 -0.544340 -0.534887 -0.522199 -0.534887 -0.527233   \n",
       "1    -0.291721 -0.365402 -0.365402 -0.365989 -0.365402 -0.348770 -0.365989   \n",
       "2    -4.510532 -1.671708 -1.325030 -1.850459 -2.837550 -1.597191 -2.165611   \n",
       "3    -4.510532 -1.647365 -1.627058 -1.690243 -1.579481 -1.092230 -3.945206   \n",
       "4    -0.895579 -1.005187 -1.005187 -0.999168 -0.992357 -1.000765 -1.000765   \n",
       "...        ...       ...       ...       ...       ...       ...       ...   \n",
       "6963 -3.945206 -3.945206 -4.140063 -4.140063 -2.271880 -3.684368 -0.522199   \n",
       "6964 -1.719576 -1.937196 -1.740164 -2.093109 -1.638971 -1.638971 -0.893878   \n",
       "6965 -4.789981 -1.820540  0.105234 -1.372041 -1.468511 -0.893878 -0.893878   \n",
       "6966 -0.365989 -0.365989 -0.365989 -0.544340 -0.348770 -0.544340 -0.893878   \n",
       "6967 -1.050005 -1.048728 -1.021930 -1.021930 -1.021930 -0.893878 -0.893878   \n",
       "\n",
       "             7         8         9        10        11        12        13  \n",
       "0    -0.544340 -0.522199 -0.522199 -0.534887 -0.527233 -0.522199 -0.522199  \n",
       "1    -0.365989 -0.348770 -0.348770 -0.348770 -0.348770 -0.365402 -0.365402  \n",
       "2    -1.629844 -2.234840 -1.562182 -1.783685 -1.656702 -1.863676 -1.863676  \n",
       "3    -3.945206 -1.492767 -1.398932 -3.821677 -1.901273 -1.625965 -1.625965  \n",
       "4    -0.985653 -0.993855 -0.981220 -0.992357 -0.985653 -1.005187 -1.005187  \n",
       "...        ...       ...       ...       ...       ...       ...       ...  \n",
       "6963 -0.522199 -0.893878 -0.893878 -0.893878 -0.893878 -0.893878 -0.522199  \n",
       "6964 -0.893878 -0.893878 -0.893878 -0.893878 -0.893878 -0.893878 -1.638971  \n",
       "6965 -0.893878 -0.893878 -0.893878 -0.893878 -0.893878 -0.893878 -1.468511  \n",
       "6966 -0.893878 -0.893878 -0.893878 -0.893878 -0.893878 -0.893878 -0.544340  \n",
       "6967 -0.893878 -0.893878 -0.893878 -0.893878 -0.893878 -0.893878 -1.021930  \n",
       "\n",
       "[6968 rows x 14 columns]"
      ]
     },
     "execution_count": 95,
     "metadata": {},
     "output_type": "execute_result"
    }
   ],
   "source": [
    "df = df.apply(pd.to_numeric)\n",
    "df"
   ]
  },
  {
   "cell_type": "markdown",
   "metadata": {},
   "source": [
    "# Data split && Learning"
   ]
  },
  {
   "cell_type": "code",
   "execution_count": 26,
   "metadata": {},
   "outputs": [],
   "source": [
    "from sklearn.model_selection import train_test_split\n",
    "import xgboost as xgb"
   ]
  },
  {
   "cell_type": "code",
   "execution_count": 27,
   "metadata": {},
   "outputs": [],
   "source": [
    "X_data = df.drop('13',axis=1)\n",
    "y_data = df['13']"
   ]
  },
  {
   "cell_type": "code",
   "execution_count": 28,
   "metadata": {},
   "outputs": [],
   "source": [
    "seed = 7\n",
    "test_size = 0.3\n",
    "X_train,X_test,y_train,y_test = train_test_split(X_data,y_data,test_size=test_size, random_state=seed)"
   ]
  },
  {
   "cell_type": "code",
   "execution_count": 29,
   "metadata": {},
   "outputs": [],
   "source": [
    "model = xgb.XGBClassifier()"
   ]
  },
  {
   "cell_type": "code",
   "execution_count": 30,
   "metadata": {},
   "outputs": [
    {
     "data": {
      "text/plain": [
       "XGBClassifier(base_score=0.5, booster='gbtree', colsample_bylevel=1,\n",
       "              colsample_bynode=1, colsample_bytree=1, gamma=0, gpu_id=-1,\n",
       "              importance_type='gain', interaction_constraints='',\n",
       "              learning_rate=0.1, max_delta_step=0, max_depth=8,\n",
       "              min_child_weight=1, missing=nan, monotone_constraints='()',\n",
       "              n_estimators=100, n_jobs=0, num_parallel_tree=1,\n",
       "              objective='multi:softprob', random_state=0, reg_alpha=0,\n",
       "              reg_lambda=1, scale_pos_weight=None, subsample=0.5,\n",
       "              tree_method='exact', validate_parameters=1, verbosity=None)"
      ]
     },
     "execution_count": 30,
     "metadata": {},
     "output_type": "execute_result"
    }
   ],
   "source": [
    "model.fit(X_train,y_train)"
   ]
  },
  {
   "cell_type": "code",
   "execution_count": 31,
   "metadata": {},
   "outputs": [],
   "source": [
    "result = pd.DataFrame()"
   ]
  },
  {
   "cell_type": "code",
   "execution_count": 32,
   "metadata": {},
   "outputs": [],
   "source": [
    "prediction = model.predict(X_test)"
   ]
  },
  {
   "cell_type": "code",
   "execution_count": 33,
   "metadata": {},
   "outputs": [],
   "source": [
    "result['X_test'] = prediction\n",
    "result['Y_test'] = y_test.tolist()"
   ]
  },
  {
   "cell_type": "code",
   "execution_count": 90,
   "metadata": {},
   "outputs": [
    {
     "data": {
      "text/plain": [
       "array(None, dtype=object)"
      ]
     },
     "metadata": {},
     "output_type": "display_data"
    }
   ],
   "source": [
    "from IPython.display import display\n",
    "result = np.transpose(result)\n",
    "pd.options.display.max_columns = None\n",
    "display(result)"
   ]
  },
  {
   "cell_type": "code",
   "execution_count": 35,
   "metadata": {},
   "outputs": [],
   "source": [
    "X_train.index = range(len(X_train))"
   ]
  },
  {
   "cell_type": "code",
   "execution_count": 36,
   "metadata": {},
   "outputs": [],
   "source": [
    "y_train.index = range(len(y_train))"
   ]
  },
  {
   "cell_type": "code",
   "execution_count": 41,
   "metadata": {},
   "outputs": [],
   "source": [
    "from sklearn import metrics"
   ]
  },
  {
   "cell_type": "code",
   "execution_count": 42,
   "metadata": {},
   "outputs": [],
   "source": [
    "# confusion_matrix(prediction,y_test)"
   ]
  },
  {
   "cell_type": "markdown",
   "metadata": {},
   "source": [
    "# Test"
   ]
  },
  {
   "cell_type": "code",
   "execution_count": 63,
   "metadata": {},
   "outputs": [],
   "source": [
    "import matplotlib.pyplot as plt\n",
    "from sklearn.decomposition import PCA"
   ]
  },
  {
   "cell_type": "code",
   "execution_count": 75,
   "metadata": {},
   "outputs": [],
   "source": [
    "pca = PCA(n_components=1)\n",
    "xys = pca.fit_transform(word_vectors_list)\n",
    "xs = xys[:,0]"
   ]
  },
  {
   "cell_type": "code",
   "execution_count": 94,
   "metadata": {
    "scrolled": false
   },
   "outputs": [
    {
     "data": {
      "text/plain": [
       "0      -0.522199\n",
       "1      -0.365402\n",
       "2      -1.863676\n",
       "3      -1.625965\n",
       "4      -1.005187\n",
       "          ...   \n",
       "6963   -0.522199\n",
       "6964   -1.638971\n",
       "6965   -1.468511\n",
       "6966   -0.544340\n",
       "6967   -1.021930\n",
       "Name: 13, Length: 6968, dtype: float64"
      ]
     },
     "execution_count": 94,
     "metadata": {},
     "output_type": "execute_result"
    }
   ],
   "source": [
    "y_data"
   ]
  },
  {
   "cell_type": "code",
   "execution_count": 80,
   "metadata": {
    "scrolled": true
   },
   "outputs": [
    {
     "data": {
      "text/html": [
       "<div>\n",
       "<style scoped>\n",
       "    .dataframe tbody tr th:only-of-type {\n",
       "        vertical-align: middle;\n",
       "    }\n",
       "\n",
       "    .dataframe tbody tr th {\n",
       "        vertical-align: top;\n",
       "    }\n",
       "\n",
       "    .dataframe thead th {\n",
       "        text-align: right;\n",
       "    }\n",
       "</style>\n",
       "<table border=\"1\" class=\"dataframe\">\n",
       "  <thead>\n",
       "    <tr style=\"text-align: right;\">\n",
       "      <th></th>\n",
       "      <th>0</th>\n",
       "      <th>1</th>\n",
       "      <th>2</th>\n",
       "      <th>3</th>\n",
       "      <th>4</th>\n",
       "      <th>5</th>\n",
       "      <th>6</th>\n",
       "      <th>7</th>\n",
       "      <th>8</th>\n",
       "      <th>9</th>\n",
       "      <th>10</th>\n",
       "      <th>11</th>\n",
       "      <th>12</th>\n",
       "    </tr>\n",
       "  </thead>\n",
       "  <tbody>\n",
       "    <tr>\n",
       "      <th>0</th>\n",
       "      <td>-0.291721</td>\n",
       "      <td>-0.348770</td>\n",
       "      <td>-0.365989</td>\n",
       "      <td>-0.348770</td>\n",
       "      <td>-0.365402</td>\n",
       "      <td>-0.365989</td>\n",
       "      <td>-0.348770</td>\n",
       "      <td>-0.365989</td>\n",
       "      <td>-0.365989</td>\n",
       "      <td>-0.365402</td>\n",
       "      <td>-0.348770</td>\n",
       "      <td>-0.365989</td>\n",
       "      <td>-0.365989</td>\n",
       "    </tr>\n",
       "    <tr>\n",
       "      <th>1</th>\n",
       "      <td>-0.895579</td>\n",
       "      <td>-0.985653</td>\n",
       "      <td>-1.000765</td>\n",
       "      <td>-0.992357</td>\n",
       "      <td>-1.005187</td>\n",
       "      <td>-0.985653</td>\n",
       "      <td>-0.981220</td>\n",
       "      <td>-0.992357</td>\n",
       "      <td>-0.999168</td>\n",
       "      <td>-1.000765</td>\n",
       "      <td>-0.985653</td>\n",
       "      <td>-1.005187</td>\n",
       "      <td>-0.981220</td>\n",
       "    </tr>\n",
       "    <tr>\n",
       "      <th>2</th>\n",
       "      <td>-0.940116</td>\n",
       "      <td>-1.191396</td>\n",
       "      <td>-1.191396</td>\n",
       "      <td>-1.021930</td>\n",
       "      <td>-1.045920</td>\n",
       "      <td>-1.191396</td>\n",
       "      <td>-1.059488</td>\n",
       "      <td>-1.048728</td>\n",
       "      <td>-1.050005</td>\n",
       "      <td>-1.045920</td>\n",
       "      <td>-1.021930</td>\n",
       "      <td>-1.059488</td>\n",
       "      <td>-1.059488</td>\n",
       "    </tr>\n",
       "    <tr>\n",
       "      <th>3</th>\n",
       "      <td>-0.940116</td>\n",
       "      <td>-1.059488</td>\n",
       "      <td>-1.021930</td>\n",
       "      <td>-1.048728</td>\n",
       "      <td>-1.059488</td>\n",
       "      <td>-1.059488</td>\n",
       "      <td>-1.021930</td>\n",
       "      <td>-1.045920</td>\n",
       "      <td>-1.021930</td>\n",
       "      <td>-1.053053</td>\n",
       "      <td>-1.050005</td>\n",
       "      <td>-1.050005</td>\n",
       "      <td>-1.191396</td>\n",
       "    </tr>\n",
       "    <tr>\n",
       "      <th>4</th>\n",
       "      <td>-4.789981</td>\n",
       "      <td>-1.412159</td>\n",
       "      <td>-3.945206</td>\n",
       "      <td>-1.650466</td>\n",
       "      <td>-3.684368</td>\n",
       "      <td>-1.268069</td>\n",
       "      <td>-1.528863</td>\n",
       "      <td>-4.319551</td>\n",
       "      <td>-1.498557</td>\n",
       "      <td>-1.574312</td>\n",
       "      <td>-0.892759</td>\n",
       "      <td>-1.191396</td>\n",
       "      <td>-1.152024</td>\n",
       "    </tr>\n",
       "    <tr>\n",
       "      <th>...</th>\n",
       "      <td>...</td>\n",
       "      <td>...</td>\n",
       "      <td>...</td>\n",
       "      <td>...</td>\n",
       "      <td>...</td>\n",
       "      <td>...</td>\n",
       "      <td>...</td>\n",
       "      <td>...</td>\n",
       "      <td>...</td>\n",
       "      <td>...</td>\n",
       "      <td>...</td>\n",
       "      <td>...</td>\n",
       "      <td>...</td>\n",
       "    </tr>\n",
       "    <tr>\n",
       "      <th>4872</th>\n",
       "      <td>-0.048665</td>\n",
       "      <td>-0.125691</td>\n",
       "      <td>-0.125691</td>\n",
       "      <td>-0.118668</td>\n",
       "      <td>-0.125691</td>\n",
       "      <td>-0.125691</td>\n",
       "      <td>-0.125691</td>\n",
       "      <td>-0.125691</td>\n",
       "      <td>-0.125691</td>\n",
       "      <td>-0.118668</td>\n",
       "      <td>-0.125691</td>\n",
       "      <td>-0.125691</td>\n",
       "      <td>-0.118668</td>\n",
       "    </tr>\n",
       "    <tr>\n",
       "      <th>4873</th>\n",
       "      <td>-0.471253</td>\n",
       "      <td>-0.544340</td>\n",
       "      <td>-0.544340</td>\n",
       "      <td>-0.544340</td>\n",
       "      <td>-0.544340</td>\n",
       "      <td>-0.534887</td>\n",
       "      <td>-0.534887</td>\n",
       "      <td>-0.544340</td>\n",
       "      <td>-0.534887</td>\n",
       "      <td>-0.534887</td>\n",
       "      <td>-0.534887</td>\n",
       "      <td>-0.534887</td>\n",
       "      <td>-0.527233</td>\n",
       "    </tr>\n",
       "    <tr>\n",
       "      <th>4874</th>\n",
       "      <td>-0.895579</td>\n",
       "      <td>-0.999168</td>\n",
       "      <td>-0.992357</td>\n",
       "      <td>-0.992357</td>\n",
       "      <td>-0.993855</td>\n",
       "      <td>-0.999168</td>\n",
       "      <td>-0.999168</td>\n",
       "      <td>-0.993855</td>\n",
       "      <td>-0.993855</td>\n",
       "      <td>-0.999168</td>\n",
       "      <td>-0.993855</td>\n",
       "      <td>-1.005187</td>\n",
       "      <td>-1.000765</td>\n",
       "    </tr>\n",
       "    <tr>\n",
       "      <th>4875</th>\n",
       "      <td>-4.510532</td>\n",
       "      <td>-2.039547</td>\n",
       "      <td>-3.821677</td>\n",
       "      <td>-1.863135</td>\n",
       "      <td>-2.272730</td>\n",
       "      <td>-1.468608</td>\n",
       "      <td>-1.425416</td>\n",
       "      <td>-3.821677</td>\n",
       "      <td>-1.868956</td>\n",
       "      <td>-3.945206</td>\n",
       "      <td>-1.587632</td>\n",
       "      <td>-4.319551</td>\n",
       "      <td>-1.458987</td>\n",
       "    </tr>\n",
       "    <tr>\n",
       "      <th>4876</th>\n",
       "      <td>-0.471253</td>\n",
       "      <td>-0.527233</td>\n",
       "      <td>-0.527233</td>\n",
       "      <td>-0.544340</td>\n",
       "      <td>-0.534887</td>\n",
       "      <td>-0.534887</td>\n",
       "      <td>-0.522199</td>\n",
       "      <td>-0.544340</td>\n",
       "      <td>-0.527233</td>\n",
       "      <td>-0.534887</td>\n",
       "      <td>-0.522199</td>\n",
       "      <td>-0.522199</td>\n",
       "      <td>-0.544340</td>\n",
       "    </tr>\n",
       "  </tbody>\n",
       "</table>\n",
       "<p>4877 rows × 13 columns</p>\n",
       "</div>"
      ],
      "text/plain": [
       "             0         1         2         3         4         5         6  \\\n",
       "0    -0.291721 -0.348770 -0.365989 -0.348770 -0.365402 -0.365989 -0.348770   \n",
       "1    -0.895579 -0.985653 -1.000765 -0.992357 -1.005187 -0.985653 -0.981220   \n",
       "2    -0.940116 -1.191396 -1.191396 -1.021930 -1.045920 -1.191396 -1.059488   \n",
       "3    -0.940116 -1.059488 -1.021930 -1.048728 -1.059488 -1.059488 -1.021930   \n",
       "4    -4.789981 -1.412159 -3.945206 -1.650466 -3.684368 -1.268069 -1.528863   \n",
       "...        ...       ...       ...       ...       ...       ...       ...   \n",
       "4872 -0.048665 -0.125691 -0.125691 -0.118668 -0.125691 -0.125691 -0.125691   \n",
       "4873 -0.471253 -0.544340 -0.544340 -0.544340 -0.544340 -0.534887 -0.534887   \n",
       "4874 -0.895579 -0.999168 -0.992357 -0.992357 -0.993855 -0.999168 -0.999168   \n",
       "4875 -4.510532 -2.039547 -3.821677 -1.863135 -2.272730 -1.468608 -1.425416   \n",
       "4876 -0.471253 -0.527233 -0.527233 -0.544340 -0.534887 -0.534887 -0.522199   \n",
       "\n",
       "             7         8         9        10        11        12  \n",
       "0    -0.365989 -0.365989 -0.365402 -0.348770 -0.365989 -0.365989  \n",
       "1    -0.992357 -0.999168 -1.000765 -0.985653 -1.005187 -0.981220  \n",
       "2    -1.048728 -1.050005 -1.045920 -1.021930 -1.059488 -1.059488  \n",
       "3    -1.045920 -1.021930 -1.053053 -1.050005 -1.050005 -1.191396  \n",
       "4    -4.319551 -1.498557 -1.574312 -0.892759 -1.191396 -1.152024  \n",
       "...        ...       ...       ...       ...       ...       ...  \n",
       "4872 -0.125691 -0.125691 -0.118668 -0.125691 -0.125691 -0.118668  \n",
       "4873 -0.544340 -0.534887 -0.534887 -0.534887 -0.534887 -0.527233  \n",
       "4874 -0.993855 -0.993855 -0.999168 -0.993855 -1.005187 -1.000765  \n",
       "4875 -3.821677 -1.868956 -3.945206 -1.587632 -4.319551 -1.458987  \n",
       "4876 -0.544340 -0.527233 -0.534887 -0.522199 -0.522199 -0.544340  \n",
       "\n",
       "[4877 rows x 13 columns]"
      ]
     },
     "execution_count": 80,
     "metadata": {},
     "output_type": "execute_result"
    }
   ],
   "source": [
    "X_train"
   ]
  },
  {
   "cell_type": "code",
   "execution_count": null,
   "metadata": {},
   "outputs": [],
   "source": []
  }
 ],
 "metadata": {
  "kernelspec": {
   "display_name": "Python 3",
   "language": "python",
   "name": "python3"
  },
  "language_info": {
   "codemirror_mode": {
    "name": "ipython",
    "version": 3
   },
   "file_extension": ".py",
   "mimetype": "text/x-python",
   "name": "python",
   "nbconvert_exporter": "python",
   "pygments_lexer": "ipython3",
   "version": "3.7.6"
  }
 },
 "nbformat": 4,
 "nbformat_minor": 4
}

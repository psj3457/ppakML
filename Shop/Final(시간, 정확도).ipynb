{
 "cells": [
  {
   "cell_type": "code",
   "execution_count": 42,
   "metadata": {},
   "outputs": [],
   "source": [
    "import pandas as pd\n",
    "import numpy as np\n",
    "import warnings\n",
    "warnings.filterwarnings(action='ignore') "
   ]
  },
  {
   "cell_type": "code",
   "execution_count": 43,
   "metadata": {},
   "outputs": [],
   "source": [
    "data = pd.read_csv('Final1.csv')"
   ]
  },
  {
   "cell_type": "code",
   "execution_count": 44,
   "metadata": {},
   "outputs": [],
   "source": [
    "data_list = data.values.tolist()"
   ]
  },
  {
   "cell_type": "code",
   "execution_count": 45,
   "metadata": {},
   "outputs": [],
   "source": [
    "item_list = []\n",
    "\n",
    "for i in data_list:\n",
    "    item_list.append(list(map(str,i)))"
   ]
  },
  {
   "cell_type": "code",
   "execution_count": 46,
   "metadata": {},
   "outputs": [],
   "source": [
    "data = data.astype(float)"
   ]
  },
  {
   "cell_type": "code",
   "execution_count": 28,
   "metadata": {},
   "outputs": [],
   "source": [
    "data = data.applymap(str)"
   ]
  },
  {
   "cell_type": "code",
   "execution_count": 47,
   "metadata": {},
   "outputs": [
    {
     "data": {
      "text/html": [
       "<div>\n",
       "<style scoped>\n",
       "    .dataframe tbody tr th:only-of-type {\n",
       "        vertical-align: middle;\n",
       "    }\n",
       "\n",
       "    .dataframe tbody tr th {\n",
       "        vertical-align: top;\n",
       "    }\n",
       "\n",
       "    .dataframe thead th {\n",
       "        text-align: right;\n",
       "    }\n",
       "</style>\n",
       "<table border=\"1\" class=\"dataframe\">\n",
       "  <thead>\n",
       "    <tr style=\"text-align: right;\">\n",
       "      <th></th>\n",
       "      <th>1st</th>\n",
       "      <th>2nd</th>\n",
       "      <th>3rd</th>\n",
       "      <th>4th</th>\n",
       "      <th>5th</th>\n",
       "      <th>6th</th>\n",
       "      <th>7th</th>\n",
       "      <th>8th</th>\n",
       "      <th>9th</th>\n",
       "      <th>10th</th>\n",
       "      <th>11th</th>\n",
       "      <th>12th</th>\n",
       "      <th>13th</th>\n",
       "    </tr>\n",
       "  </thead>\n",
       "  <tbody>\n",
       "    <tr>\n",
       "      <th>0</th>\n",
       "      <td>1.531788e+09</td>\n",
       "      <td>1.531801e+09</td>\n",
       "      <td>1.531788e+09</td>\n",
       "      <td>1.531788e+09</td>\n",
       "      <td>1.531788e+09</td>\n",
       "      <td>1.531801e+09</td>\n",
       "      <td>1.531801e+09</td>\n",
       "      <td>1.531788e+09</td>\n",
       "      <td>1.531788e+09</td>\n",
       "      <td>1.531788e+09</td>\n",
       "      <td>1.531801e+09</td>\n",
       "      <td>1.531788e+09</td>\n",
       "      <td>1.531788e+09</td>\n",
       "    </tr>\n",
       "    <tr>\n",
       "      <th>1</th>\n",
       "      <td>1.547018e+09</td>\n",
       "      <td>1.547018e+09</td>\n",
       "      <td>1.547017e+09</td>\n",
       "      <td>1.547018e+09</td>\n",
       "      <td>1.547014e+09</td>\n",
       "      <td>1.547017e+09</td>\n",
       "      <td>1.547017e+09</td>\n",
       "      <td>1.547014e+09</td>\n",
       "      <td>1.547014e+09</td>\n",
       "      <td>1.547014e+09</td>\n",
       "      <td>1.547014e+09</td>\n",
       "      <td>1.547018e+09</td>\n",
       "      <td>1.547018e+09</td>\n",
       "    </tr>\n",
       "    <tr>\n",
       "      <th>2</th>\n",
       "      <td>4.813896e+08</td>\n",
       "      <td>4.699785e+08</td>\n",
       "      <td>4.459413e+08</td>\n",
       "      <td>3.484898e+08</td>\n",
       "      <td>4.819000e+08</td>\n",
       "      <td>4.813851e+08</td>\n",
       "      <td>3.974571e+08</td>\n",
       "      <td>5.049037e+08</td>\n",
       "      <td>1.888644e+08</td>\n",
       "      <td>4.938551e+08</td>\n",
       "      <td>3.974571e+08</td>\n",
       "      <td>3.650988e+08</td>\n",
       "      <td>3.650988e+08</td>\n",
       "    </tr>\n",
       "    <tr>\n",
       "      <th>3</th>\n",
       "      <td>1.941064e+08</td>\n",
       "      <td>2.568826e+08</td>\n",
       "      <td>5.876319e+08</td>\n",
       "      <td>4.560993e+08</td>\n",
       "      <td>5.575372e+08</td>\n",
       "      <td>1.888627e+08</td>\n",
       "      <td>1.888627e+08</td>\n",
       "      <td>4.547710e+08</td>\n",
       "      <td>4.812085e+08</td>\n",
       "      <td>3.079984e+08</td>\n",
       "      <td>5.049056e+08</td>\n",
       "      <td>4.510875e+08</td>\n",
       "      <td>4.510875e+08</td>\n",
       "    </tr>\n",
       "    <tr>\n",
       "      <th>4</th>\n",
       "      <td>1.547429e+09</td>\n",
       "      <td>1.547429e+09</td>\n",
       "      <td>1.547431e+09</td>\n",
       "      <td>1.547431e+09</td>\n",
       "      <td>1.547430e+09</td>\n",
       "      <td>1.547430e+09</td>\n",
       "      <td>1.547428e+09</td>\n",
       "      <td>1.547429e+09</td>\n",
       "      <td>1.547430e+09</td>\n",
       "      <td>1.547431e+09</td>\n",
       "      <td>1.547428e+09</td>\n",
       "      <td>1.547429e+09</td>\n",
       "      <td>1.547429e+09</td>\n",
       "    </tr>\n",
       "    <tr>\n",
       "      <th>...</th>\n",
       "      <td>...</td>\n",
       "      <td>...</td>\n",
       "      <td>...</td>\n",
       "      <td>...</td>\n",
       "      <td>...</td>\n",
       "      <td>...</td>\n",
       "      <td>...</td>\n",
       "      <td>...</td>\n",
       "      <td>...</td>\n",
       "      <td>...</td>\n",
       "      <td>...</td>\n",
       "      <td>...</td>\n",
       "      <td>...</td>\n",
       "    </tr>\n",
       "    <tr>\n",
       "      <th>9995</th>\n",
       "      <td>1.543287e+09</td>\n",
       "      <td>1.543285e+09</td>\n",
       "      <td>1.543285e+09</td>\n",
       "      <td>1.543287e+09</td>\n",
       "      <td>1.543286e+09</td>\n",
       "      <td>1.543287e+09</td>\n",
       "      <td>1.543287e+09</td>\n",
       "      <td>1.543285e+09</td>\n",
       "      <td>1.543286e+09</td>\n",
       "      <td>1.543286e+09</td>\n",
       "      <td>1.543285e+09</td>\n",
       "      <td>1.543286e+09</td>\n",
       "      <td>1.543286e+09</td>\n",
       "    </tr>\n",
       "    <tr>\n",
       "      <th>9996</th>\n",
       "      <td>1.547428e+09</td>\n",
       "      <td>1.547430e+09</td>\n",
       "      <td>1.547430e+09</td>\n",
       "      <td>1.547429e+09</td>\n",
       "      <td>1.547431e+09</td>\n",
       "      <td>1.547429e+09</td>\n",
       "      <td>1.547429e+09</td>\n",
       "      <td>1.547431e+09</td>\n",
       "      <td>1.547430e+09</td>\n",
       "      <td>1.547429e+09</td>\n",
       "      <td>1.547430e+09</td>\n",
       "      <td>1.547429e+09</td>\n",
       "      <td>1.547429e+09</td>\n",
       "    </tr>\n",
       "    <tr>\n",
       "      <th>9997</th>\n",
       "      <td>1.547014e+09</td>\n",
       "      <td>1.547018e+09</td>\n",
       "      <td>1.547017e+09</td>\n",
       "      <td>1.547018e+09</td>\n",
       "      <td>1.547018e+09</td>\n",
       "      <td>1.547018e+09</td>\n",
       "      <td>1.547018e+09</td>\n",
       "      <td>1.547017e+09</td>\n",
       "      <td>1.547017e+09</td>\n",
       "      <td>1.547017e+09</td>\n",
       "      <td>1.547018e+09</td>\n",
       "      <td>1.547018e+09</td>\n",
       "      <td>1.547018e+09</td>\n",
       "    </tr>\n",
       "    <tr>\n",
       "      <th>9998</th>\n",
       "      <td>1.543285e+09</td>\n",
       "      <td>1.543285e+09</td>\n",
       "      <td>1.543286e+09</td>\n",
       "      <td>1.543285e+09</td>\n",
       "      <td>1.543287e+09</td>\n",
       "      <td>1.543287e+09</td>\n",
       "      <td>1.543287e+09</td>\n",
       "      <td>1.543286e+09</td>\n",
       "      <td>1.543287e+09</td>\n",
       "      <td>1.543285e+09</td>\n",
       "      <td>1.543287e+09</td>\n",
       "      <td>1.543286e+09</td>\n",
       "      <td>1.543286e+09</td>\n",
       "    </tr>\n",
       "    <tr>\n",
       "      <th>9999</th>\n",
       "      <td>1.547196e+09</td>\n",
       "      <td>1.547196e+09</td>\n",
       "      <td>1.547196e+09</td>\n",
       "      <td>1.547195e+09</td>\n",
       "      <td>1.547196e+09</td>\n",
       "      <td>1.547196e+09</td>\n",
       "      <td>1.547196e+09</td>\n",
       "      <td>1.547197e+09</td>\n",
       "      <td>1.547197e+09</td>\n",
       "      <td>1.547197e+09</td>\n",
       "      <td>1.547196e+09</td>\n",
       "      <td>1.547196e+09</td>\n",
       "      <td>1.547196e+09</td>\n",
       "    </tr>\n",
       "  </tbody>\n",
       "</table>\n",
       "<p>10000 rows × 13 columns</p>\n",
       "</div>"
      ],
      "text/plain": [
       "               1st           2nd           3rd           4th           5th  \\\n",
       "0     1.531788e+09  1.531801e+09  1.531788e+09  1.531788e+09  1.531788e+09   \n",
       "1     1.547018e+09  1.547018e+09  1.547017e+09  1.547018e+09  1.547014e+09   \n",
       "2     4.813896e+08  4.699785e+08  4.459413e+08  3.484898e+08  4.819000e+08   \n",
       "3     1.941064e+08  2.568826e+08  5.876319e+08  4.560993e+08  5.575372e+08   \n",
       "4     1.547429e+09  1.547429e+09  1.547431e+09  1.547431e+09  1.547430e+09   \n",
       "...            ...           ...           ...           ...           ...   \n",
       "9995  1.543287e+09  1.543285e+09  1.543285e+09  1.543287e+09  1.543286e+09   \n",
       "9996  1.547428e+09  1.547430e+09  1.547430e+09  1.547429e+09  1.547431e+09   \n",
       "9997  1.547014e+09  1.547018e+09  1.547017e+09  1.547018e+09  1.547018e+09   \n",
       "9998  1.543285e+09  1.543285e+09  1.543286e+09  1.543285e+09  1.543287e+09   \n",
       "9999  1.547196e+09  1.547196e+09  1.547196e+09  1.547195e+09  1.547196e+09   \n",
       "\n",
       "               6th           7th           8th           9th          10th  \\\n",
       "0     1.531801e+09  1.531801e+09  1.531788e+09  1.531788e+09  1.531788e+09   \n",
       "1     1.547017e+09  1.547017e+09  1.547014e+09  1.547014e+09  1.547014e+09   \n",
       "2     4.813851e+08  3.974571e+08  5.049037e+08  1.888644e+08  4.938551e+08   \n",
       "3     1.888627e+08  1.888627e+08  4.547710e+08  4.812085e+08  3.079984e+08   \n",
       "4     1.547430e+09  1.547428e+09  1.547429e+09  1.547430e+09  1.547431e+09   \n",
       "...            ...           ...           ...           ...           ...   \n",
       "9995  1.543287e+09  1.543287e+09  1.543285e+09  1.543286e+09  1.543286e+09   \n",
       "9996  1.547429e+09  1.547429e+09  1.547431e+09  1.547430e+09  1.547429e+09   \n",
       "9997  1.547018e+09  1.547018e+09  1.547017e+09  1.547017e+09  1.547017e+09   \n",
       "9998  1.543287e+09  1.543287e+09  1.543286e+09  1.543287e+09  1.543285e+09   \n",
       "9999  1.547196e+09  1.547196e+09  1.547197e+09  1.547197e+09  1.547197e+09   \n",
       "\n",
       "              11th          12th          13th  \n",
       "0     1.531801e+09  1.531788e+09  1.531788e+09  \n",
       "1     1.547014e+09  1.547018e+09  1.547018e+09  \n",
       "2     3.974571e+08  3.650988e+08  3.650988e+08  \n",
       "3     5.049056e+08  4.510875e+08  4.510875e+08  \n",
       "4     1.547428e+09  1.547429e+09  1.547429e+09  \n",
       "...            ...           ...           ...  \n",
       "9995  1.543285e+09  1.543286e+09  1.543286e+09  \n",
       "9996  1.547430e+09  1.547429e+09  1.547429e+09  \n",
       "9997  1.547018e+09  1.547018e+09  1.547018e+09  \n",
       "9998  1.543287e+09  1.543286e+09  1.543286e+09  \n",
       "9999  1.547196e+09  1.547196e+09  1.547196e+09  \n",
       "\n",
       "[10000 rows x 13 columns]"
      ]
     },
     "execution_count": 47,
     "metadata": {},
     "output_type": "execute_result"
    }
   ],
   "source": [
    "data"
   ]
  },
  {
   "cell_type": "code",
   "execution_count": 48,
   "metadata": {},
   "outputs": [],
   "source": [
    "X_data = data.drop('13th',axis=1)\n",
    "Y_data = data['13th']"
   ]
  },
  {
   "cell_type": "code",
   "execution_count": 49,
   "metadata": {},
   "outputs": [],
   "source": [
    "from sklearn.model_selection import train_test_split\n",
    "import xgboost as xgb\n",
    "X_train, X_test, Y_train, Y_test = train_test_split(X_data, Y_data, test_size=0.2, random_state=6)\n",
    "model = xgb.XGBClassifier(n_estimators=500, max_depth=8, learning_rate=0.1, subsample=0.5)\n",
    "model.fit(X_train, Y_train)\n",
    "pred = model.predict(X_test)"
   ]
  },
  {
   "cell_type": "code",
   "execution_count": 66,
   "metadata": {},
   "outputs": [
    {
     "data": {
      "text/plain": [
       "0.837"
      ]
     },
     "execution_count": 66,
     "metadata": {},
     "output_type": "execute_result"
    }
   ],
   "source": [
    "from sklearn.metrics import precision_score\n",
    "from sklearn.metrics import recall_score\n",
    "from sklearn.metrics import f1_score\n",
    "recall_score(Y_test, pred, average='micro')"
   ]
  },
  {
   "cell_type": "markdown",
   "metadata": {},
   "source": [
    "# Word2Vec"
   ]
  },
  {
   "cell_type": "code",
   "execution_count": 7,
   "metadata": {},
   "outputs": [],
   "source": [
    "from gensim.models import Word2Vec\n",
    "from gensim.test.utils import common_texts, get_tmpfile"
   ]
  },
  {
   "cell_type": "code",
   "execution_count": 8,
   "metadata": {},
   "outputs": [],
   "source": [
    "path = get_tmpfile('word2vec.model')"
   ]
  },
  {
   "cell_type": "code",
   "execution_count": 9,
   "metadata": {},
   "outputs": [],
   "source": [
    "model = Word2Vec(item_list, size=1 ,window=5, min_count=1,workers=5)\n",
    "model.save('word2vec.model')"
   ]
  },
  {
   "cell_type": "code",
   "execution_count": 10,
   "metadata": {},
   "outputs": [],
   "source": [
    "model = Word2Vec.load('word2vec.model')"
   ]
  },
  {
   "cell_type": "code",
   "execution_count": 11,
   "metadata": {},
   "outputs": [],
   "source": [
    "word_vectors = model.wv  \n",
    "vocabs = word_vectors.vocab.keys() #vocabs has keys that is item number\n",
    "\n",
    "#word_vectors_list has values that is vector value from item number\n",
    "word_vectors_list = [word_vectors[v] for v in vocabs] "
   ]
  },
  {
   "cell_type": "code",
   "execution_count": 12,
   "metadata": {
    "scrolled": true
   },
   "outputs": [
    {
     "ename": "KeyboardInterrupt",
     "evalue": "",
     "output_type": "error",
     "traceback": [
      "\u001b[1;31m---------------------------------------------------------------------------\u001b[0m",
      "\u001b[1;31mKeyboardInterrupt\u001b[0m                         Traceback (most recent call last)",
      "\u001b[1;32m<ipython-input-12-200931f76a48>\u001b[0m in \u001b[0;36m<module>\u001b[1;34m\u001b[0m\n\u001b[0;32m      2\u001b[0m     \u001b[1;32mfor\u001b[0m \u001b[0mj\u001b[0m \u001b[1;32min\u001b[0m \u001b[0mrange\u001b[0m\u001b[1;33m(\u001b[0m\u001b[0mlen\u001b[0m\u001b[1;33m(\u001b[0m\u001b[0mdata\u001b[0m\u001b[1;33m.\u001b[0m\u001b[0miloc\u001b[0m\u001b[1;33m[\u001b[0m\u001b[0mi\u001b[0m\u001b[1;33m]\u001b[0m\u001b[1;33m)\u001b[0m\u001b[1;33m)\u001b[0m\u001b[1;33m:\u001b[0m\u001b[1;33m\u001b[0m\u001b[1;33m\u001b[0m\u001b[0m\n\u001b[0;32m      3\u001b[0m         \u001b[0mkey\u001b[0m\u001b[1;33m=\u001b[0m\u001b[0mstr\u001b[0m\u001b[1;33m(\u001b[0m\u001b[0mdata\u001b[0m\u001b[1;33m.\u001b[0m\u001b[0miloc\u001b[0m\u001b[1;33m[\u001b[0m\u001b[0mi\u001b[0m\u001b[1;33m,\u001b[0m\u001b[0mj\u001b[0m\u001b[1;33m]\u001b[0m\u001b[1;33m)\u001b[0m\u001b[1;33m\u001b[0m\u001b[1;33m\u001b[0m\u001b[0m\n\u001b[1;32m----> 4\u001b[1;33m         \u001b[0mdata\u001b[0m\u001b[1;33m.\u001b[0m\u001b[0miloc\u001b[0m\u001b[1;33m[\u001b[0m\u001b[0mi\u001b[0m\u001b[1;33m,\u001b[0m\u001b[0mj\u001b[0m\u001b[1;33m]\u001b[0m \u001b[1;33m=\u001b[0m \u001b[0mword_vectors\u001b[0m\u001b[1;33m[\u001b[0m\u001b[0mkey\u001b[0m\u001b[1;33m]\u001b[0m\u001b[1;33m.\u001b[0m\u001b[0mtolist\u001b[0m\u001b[1;33m(\u001b[0m\u001b[1;33m)\u001b[0m\u001b[1;33m[\u001b[0m\u001b[1;36m0\u001b[0m\u001b[1;33m]\u001b[0m\u001b[1;33m\u001b[0m\u001b[1;33m\u001b[0m\u001b[0m\n\u001b[0m",
      "\u001b[1;32m~\\Anaconda3\\lib\\site-packages\\pandas\\core\\indexing.py\u001b[0m in \u001b[0;36m__setitem__\u001b[1;34m(self, key, value)\u001b[0m\n\u001b[0;32m    668\u001b[0m             \u001b[0mkey\u001b[0m \u001b[1;33m=\u001b[0m \u001b[0mcom\u001b[0m\u001b[1;33m.\u001b[0m\u001b[0mapply_if_callable\u001b[0m\u001b[1;33m(\u001b[0m\u001b[0mkey\u001b[0m\u001b[1;33m,\u001b[0m \u001b[0mself\u001b[0m\u001b[1;33m.\u001b[0m\u001b[0mobj\u001b[0m\u001b[1;33m)\u001b[0m\u001b[1;33m\u001b[0m\u001b[1;33m\u001b[0m\u001b[0m\n\u001b[0;32m    669\u001b[0m         \u001b[0mindexer\u001b[0m \u001b[1;33m=\u001b[0m \u001b[0mself\u001b[0m\u001b[1;33m.\u001b[0m\u001b[0m_get_setitem_indexer\u001b[0m\u001b[1;33m(\u001b[0m\u001b[0mkey\u001b[0m\u001b[1;33m)\u001b[0m\u001b[1;33m\u001b[0m\u001b[1;33m\u001b[0m\u001b[0m\n\u001b[1;32m--> 670\u001b[1;33m         \u001b[0mself\u001b[0m\u001b[1;33m.\u001b[0m\u001b[0m_setitem_with_indexer\u001b[0m\u001b[1;33m(\u001b[0m\u001b[0mindexer\u001b[0m\u001b[1;33m,\u001b[0m \u001b[0mvalue\u001b[0m\u001b[1;33m)\u001b[0m\u001b[1;33m\u001b[0m\u001b[1;33m\u001b[0m\u001b[0m\n\u001b[0m\u001b[0;32m    671\u001b[0m \u001b[1;33m\u001b[0m\u001b[0m\n\u001b[0;32m    672\u001b[0m     \u001b[1;32mdef\u001b[0m \u001b[0m_validate_key\u001b[0m\u001b[1;33m(\u001b[0m\u001b[0mself\u001b[0m\u001b[1;33m,\u001b[0m \u001b[0mkey\u001b[0m\u001b[1;33m,\u001b[0m \u001b[0maxis\u001b[0m\u001b[1;33m:\u001b[0m \u001b[0mint\u001b[0m\u001b[1;33m)\u001b[0m\u001b[1;33m:\u001b[0m\u001b[1;33m\u001b[0m\u001b[1;33m\u001b[0m\u001b[0m\n",
      "\u001b[1;32m~\\Anaconda3\\lib\\site-packages\\pandas\\core\\indexing.py\u001b[0m in \u001b[0;36m_setitem_with_indexer\u001b[1;34m(self, indexer, value)\u001b[0m\n\u001b[0;32m   1062\u001b[0m             \u001b[1;31m# actually do the set\u001b[0m\u001b[1;33m\u001b[0m\u001b[1;33m\u001b[0m\u001b[1;33m\u001b[0m\u001b[0m\n\u001b[0;32m   1063\u001b[0m             \u001b[0mself\u001b[0m\u001b[1;33m.\u001b[0m\u001b[0mobj\u001b[0m\u001b[1;33m.\u001b[0m\u001b[0m_consolidate_inplace\u001b[0m\u001b[1;33m(\u001b[0m\u001b[1;33m)\u001b[0m\u001b[1;33m\u001b[0m\u001b[1;33m\u001b[0m\u001b[0m\n\u001b[1;32m-> 1064\u001b[1;33m             \u001b[0mself\u001b[0m\u001b[1;33m.\u001b[0m\u001b[0mobj\u001b[0m\u001b[1;33m.\u001b[0m\u001b[0m_data\u001b[0m \u001b[1;33m=\u001b[0m \u001b[0mself\u001b[0m\u001b[1;33m.\u001b[0m\u001b[0mobj\u001b[0m\u001b[1;33m.\u001b[0m\u001b[0m_data\u001b[0m\u001b[1;33m.\u001b[0m\u001b[0msetitem\u001b[0m\u001b[1;33m(\u001b[0m\u001b[0mindexer\u001b[0m\u001b[1;33m=\u001b[0m\u001b[0mindexer\u001b[0m\u001b[1;33m,\u001b[0m \u001b[0mvalue\u001b[0m\u001b[1;33m=\u001b[0m\u001b[0mvalue\u001b[0m\u001b[1;33m)\u001b[0m\u001b[1;33m\u001b[0m\u001b[1;33m\u001b[0m\u001b[0m\n\u001b[0m\u001b[0;32m   1065\u001b[0m             \u001b[0mself\u001b[0m\u001b[1;33m.\u001b[0m\u001b[0mobj\u001b[0m\u001b[1;33m.\u001b[0m\u001b[0m_maybe_update_cacher\u001b[0m\u001b[1;33m(\u001b[0m\u001b[0mclear\u001b[0m\u001b[1;33m=\u001b[0m\u001b[1;32mTrue\u001b[0m\u001b[1;33m)\u001b[0m\u001b[1;33m\u001b[0m\u001b[1;33m\u001b[0m\u001b[0m\n\u001b[0;32m   1066\u001b[0m \u001b[1;33m\u001b[0m\u001b[0m\n",
      "\u001b[1;32m~\\Anaconda3\\lib\\site-packages\\pandas\\core\\internals\\managers.py\u001b[0m in \u001b[0;36msetitem\u001b[1;34m(self, **kwargs)\u001b[0m\n\u001b[0;32m    559\u001b[0m \u001b[1;33m\u001b[0m\u001b[0m\n\u001b[0;32m    560\u001b[0m     \u001b[1;32mdef\u001b[0m \u001b[0msetitem\u001b[0m\u001b[1;33m(\u001b[0m\u001b[0mself\u001b[0m\u001b[1;33m,\u001b[0m \u001b[1;33m**\u001b[0m\u001b[0mkwargs\u001b[0m\u001b[1;33m)\u001b[0m\u001b[1;33m:\u001b[0m\u001b[1;33m\u001b[0m\u001b[1;33m\u001b[0m\u001b[0m\n\u001b[1;32m--> 561\u001b[1;33m         \u001b[1;32mreturn\u001b[0m \u001b[0mself\u001b[0m\u001b[1;33m.\u001b[0m\u001b[0mapply\u001b[0m\u001b[1;33m(\u001b[0m\u001b[1;34m\"setitem\"\u001b[0m\u001b[1;33m,\u001b[0m \u001b[1;33m**\u001b[0m\u001b[0mkwargs\u001b[0m\u001b[1;33m)\u001b[0m\u001b[1;33m\u001b[0m\u001b[1;33m\u001b[0m\u001b[0m\n\u001b[0m\u001b[0;32m    562\u001b[0m \u001b[1;33m\u001b[0m\u001b[0m\n\u001b[0;32m    563\u001b[0m     \u001b[1;32mdef\u001b[0m \u001b[0mputmask\u001b[0m\u001b[1;33m(\u001b[0m\u001b[0mself\u001b[0m\u001b[1;33m,\u001b[0m \u001b[1;33m**\u001b[0m\u001b[0mkwargs\u001b[0m\u001b[1;33m)\u001b[0m\u001b[1;33m:\u001b[0m\u001b[1;33m\u001b[0m\u001b[1;33m\u001b[0m\u001b[0m\n",
      "\u001b[1;32m~\\Anaconda3\\lib\\site-packages\\pandas\\core\\internals\\managers.py\u001b[0m in \u001b[0;36mapply\u001b[1;34m(self, f, filter, **kwargs)\u001b[0m\n\u001b[0;32m    445\u001b[0m         \u001b[1;32mif\u001b[0m \u001b[0mlen\u001b[0m\u001b[1;33m(\u001b[0m\u001b[0mresult_blocks\u001b[0m\u001b[1;33m)\u001b[0m \u001b[1;33m==\u001b[0m \u001b[1;36m0\u001b[0m\u001b[1;33m:\u001b[0m\u001b[1;33m\u001b[0m\u001b[1;33m\u001b[0m\u001b[0m\n\u001b[0;32m    446\u001b[0m             \u001b[1;32mreturn\u001b[0m \u001b[0mself\u001b[0m\u001b[1;33m.\u001b[0m\u001b[0mmake_empty\u001b[0m\u001b[1;33m(\u001b[0m\u001b[0mself\u001b[0m\u001b[1;33m.\u001b[0m\u001b[0maxes\u001b[0m\u001b[1;33m)\u001b[0m\u001b[1;33m\u001b[0m\u001b[1;33m\u001b[0m\u001b[0m\n\u001b[1;32m--> 447\u001b[1;33m         \u001b[0mbm\u001b[0m \u001b[1;33m=\u001b[0m \u001b[0mtype\u001b[0m\u001b[1;33m(\u001b[0m\u001b[0mself\u001b[0m\u001b[1;33m)\u001b[0m\u001b[1;33m(\u001b[0m\u001b[0mresult_blocks\u001b[0m\u001b[1;33m,\u001b[0m \u001b[0mself\u001b[0m\u001b[1;33m.\u001b[0m\u001b[0maxes\u001b[0m\u001b[1;33m,\u001b[0m \u001b[0mdo_integrity_check\u001b[0m\u001b[1;33m=\u001b[0m\u001b[1;32mFalse\u001b[0m\u001b[1;33m)\u001b[0m\u001b[1;33m\u001b[0m\u001b[1;33m\u001b[0m\u001b[0m\n\u001b[0m\u001b[0;32m    448\u001b[0m         \u001b[1;32mreturn\u001b[0m \u001b[0mbm\u001b[0m\u001b[1;33m\u001b[0m\u001b[1;33m\u001b[0m\u001b[0m\n\u001b[0;32m    449\u001b[0m \u001b[1;33m\u001b[0m\u001b[0m\n",
      "\u001b[1;32m~\\Anaconda3\\lib\\site-packages\\pandas\\core\\internals\\managers.py\u001b[0m in \u001b[0;36m__init__\u001b[1;34m(self, blocks, axes, do_integrity_check)\u001b[0m\n\u001b[0;32m    141\u001b[0m         \u001b[0mself\u001b[0m\u001b[1;33m.\u001b[0m\u001b[0m_consolidate_check\u001b[0m\u001b[1;33m(\u001b[0m\u001b[1;33m)\u001b[0m\u001b[1;33m\u001b[0m\u001b[1;33m\u001b[0m\u001b[0m\n\u001b[0;32m    142\u001b[0m \u001b[1;33m\u001b[0m\u001b[0m\n\u001b[1;32m--> 143\u001b[1;33m         \u001b[0mself\u001b[0m\u001b[1;33m.\u001b[0m\u001b[0m_rebuild_blknos_and_blklocs\u001b[0m\u001b[1;33m(\u001b[0m\u001b[1;33m)\u001b[0m\u001b[1;33m\u001b[0m\u001b[1;33m\u001b[0m\u001b[0m\n\u001b[0m\u001b[0;32m    144\u001b[0m \u001b[1;33m\u001b[0m\u001b[0m\n\u001b[0;32m    145\u001b[0m     \u001b[1;32mdef\u001b[0m \u001b[0mmake_empty\u001b[0m\u001b[1;33m(\u001b[0m\u001b[0mself\u001b[0m\u001b[1;33m,\u001b[0m \u001b[0maxes\u001b[0m\u001b[1;33m=\u001b[0m\u001b[1;32mNone\u001b[0m\u001b[1;33m)\u001b[0m\u001b[1;33m:\u001b[0m\u001b[1;33m\u001b[0m\u001b[1;33m\u001b[0m\u001b[0m\n",
      "\u001b[1;32m~\\Anaconda3\\lib\\site-packages\\pandas\\core\\internals\\managers.py\u001b[0m in \u001b[0;36m_rebuild_blknos_and_blklocs\u001b[1;34m(self)\u001b[0m\n\u001b[0;32m    222\u001b[0m             \u001b[0mrl\u001b[0m \u001b[1;33m=\u001b[0m \u001b[0mblk\u001b[0m\u001b[1;33m.\u001b[0m\u001b[0mmgr_locs\u001b[0m\u001b[1;33m\u001b[0m\u001b[1;33m\u001b[0m\u001b[0m\n\u001b[0;32m    223\u001b[0m             \u001b[0mnew_blknos\u001b[0m\u001b[1;33m[\u001b[0m\u001b[0mrl\u001b[0m\u001b[1;33m.\u001b[0m\u001b[0mindexer\u001b[0m\u001b[1;33m]\u001b[0m \u001b[1;33m=\u001b[0m \u001b[0mblkno\u001b[0m\u001b[1;33m\u001b[0m\u001b[1;33m\u001b[0m\u001b[0m\n\u001b[1;32m--> 224\u001b[1;33m             \u001b[0mnew_blklocs\u001b[0m\u001b[1;33m[\u001b[0m\u001b[0mrl\u001b[0m\u001b[1;33m.\u001b[0m\u001b[0mindexer\u001b[0m\u001b[1;33m]\u001b[0m \u001b[1;33m=\u001b[0m \u001b[0mnp\u001b[0m\u001b[1;33m.\u001b[0m\u001b[0marange\u001b[0m\u001b[1;33m(\u001b[0m\u001b[0mlen\u001b[0m\u001b[1;33m(\u001b[0m\u001b[0mrl\u001b[0m\u001b[1;33m)\u001b[0m\u001b[1;33m)\u001b[0m\u001b[1;33m\u001b[0m\u001b[1;33m\u001b[0m\u001b[0m\n\u001b[0m\u001b[0;32m    225\u001b[0m \u001b[1;33m\u001b[0m\u001b[0m\n\u001b[0;32m    226\u001b[0m         \u001b[1;32mif\u001b[0m \u001b[1;33m(\u001b[0m\u001b[0mnew_blknos\u001b[0m \u001b[1;33m==\u001b[0m \u001b[1;33m-\u001b[0m\u001b[1;36m1\u001b[0m\u001b[1;33m)\u001b[0m\u001b[1;33m.\u001b[0m\u001b[0many\u001b[0m\u001b[1;33m(\u001b[0m\u001b[1;33m)\u001b[0m\u001b[1;33m:\u001b[0m\u001b[1;33m\u001b[0m\u001b[1;33m\u001b[0m\u001b[0m\n",
      "\u001b[1;31mKeyboardInterrupt\u001b[0m: "
     ]
    }
   ],
   "source": [
    "for i in range(len(data)):            #word2vec value를 data로 넣음\n",
    "    for j in range(len(data.iloc[i])):\n",
    "        key=str(data.iloc[i,j])\n",
    "        data.iloc[i,j] = word_vectors[key].tolist()[0]"
   ]
  },
  {
   "cell_type": "code",
   "execution_count": null,
   "metadata": {},
   "outputs": [],
   "source": [
    "data = data.apply(pd.to_numeric)"
   ]
  },
  {
   "cell_type": "code",
   "execution_count": null,
   "metadata": {},
   "outputs": [],
   "source": [
    "data"
   ]
  },
  {
   "cell_type": "markdown",
   "metadata": {},
   "source": [
    "# {item_id : word2vec}"
   ]
  },
  {
   "cell_type": "code",
   "execution_count": null,
   "metadata": {},
   "outputs": [],
   "source": [
    "num_vec = {}"
   ]
  },
  {
   "cell_type": "code",
   "execution_count": null,
   "metadata": {},
   "outputs": [],
   "source": [
    "item_id = word_vectors.vocab"
   ]
  },
  {
   "cell_type": "code",
   "execution_count": null,
   "metadata": {},
   "outputs": [],
   "source": [
    "item_num = []\n",
    "for i in item_id.keys():\n",
    "    item_num.append(i)"
   ]
  },
  {
   "cell_type": "code",
   "execution_count": null,
   "metadata": {},
   "outputs": [],
   "source": [
    "item_vec = []\n",
    "for i in vocabs:\n",
    "    item_vec.append(word_vectors[i][0])"
   ]
  },
  {
   "cell_type": "code",
   "execution_count": null,
   "metadata": {},
   "outputs": [],
   "source": [
    "num_vec = num_vec.fromkeys(item_vec)"
   ]
  },
  {
   "cell_type": "code",
   "execution_count": null,
   "metadata": {},
   "outputs": [],
   "source": [
    "j = 0\n",
    "for i in num_vec.keys():\n",
    "    num_vec[i] = item_num[j]\n",
    "    j = j+1"
   ]
  },
  {
   "cell_type": "markdown",
   "metadata": {},
   "source": [
    "# Data split && Learning"
   ]
  },
  {
   "cell_type": "code",
   "execution_count": 21,
   "metadata": {},
   "outputs": [],
   "source": [
    "from sklearn.model_selection import train_test_split\n",
    "import xgboost as xgb\n",
    "from heapq import nsmallest\n",
    "import time"
   ]
  },
  {
   "cell_type": "markdown",
   "metadata": {},
   "source": [
    "# 학습 데이터, 테스트 데이터 형태"
   ]
  },
  {
   "cell_type": "code",
   "execution_count": null,
   "metadata": {},
   "outputs": [],
   "source": [
    "X_data = data.drop('13th',axis=1)\n",
    "Y_data = data['13th']"
   ]
  },
  {
   "cell_type": "code",
   "execution_count": 23,
   "metadata": {},
   "outputs": [],
   "source": [
    "from sklearn.linear_model import LinearRegression\n",
    "from sklearn.ensemble import RandomForestClassifier"
   ]
  },
  {
   "cell_type": "code",
   "execution_count": 24,
   "metadata": {},
   "outputs": [],
   "source": [
    "X_train, X_test, Y_train, Y_test = train_test_split(X_data, Y_data, test_size=0.2, random_state=6)\n",
    "model = xgb.XGBClassifier(n_estimators=500, max_depth=8, learning_rate=0.1, subsample=0.5)\n",
    "model.fit(X_train, Y_train)\n",
    "pred = model.predict(X_test)"
   ]
  },
  {
   "cell_type": "code",
   "execution_count": 25,
   "metadata": {},
   "outputs": [
    {
     "data": {
      "text/html": [
       "<div>\n",
       "<style scoped>\n",
       "    .dataframe tbody tr th:only-of-type {\n",
       "        vertical-align: middle;\n",
       "    }\n",
       "\n",
       "    .dataframe tbody tr th {\n",
       "        vertical-align: top;\n",
       "    }\n",
       "\n",
       "    .dataframe thead th {\n",
       "        text-align: right;\n",
       "    }\n",
       "</style>\n",
       "<table border=\"1\" class=\"dataframe\">\n",
       "  <thead>\n",
       "    <tr style=\"text-align: right;\">\n",
       "      <th></th>\n",
       "      <th>features</th>\n",
       "      <th>importances</th>\n",
       "    </tr>\n",
       "  </thead>\n",
       "  <tbody>\n",
       "    <tr>\n",
       "      <th>11</th>\n",
       "      <td>12th</td>\n",
       "      <td>0.335751</td>\n",
       "    </tr>\n",
       "    <tr>\n",
       "      <th>0</th>\n",
       "      <td>1st</td>\n",
       "      <td>0.229555</td>\n",
       "    </tr>\n",
       "    <tr>\n",
       "      <th>4</th>\n",
       "      <td>5th</td>\n",
       "      <td>0.095067</td>\n",
       "    </tr>\n",
       "    <tr>\n",
       "      <th>2</th>\n",
       "      <td>3rd</td>\n",
       "      <td>0.078684</td>\n",
       "    </tr>\n",
       "    <tr>\n",
       "      <th>1</th>\n",
       "      <td>2nd</td>\n",
       "      <td>0.049371</td>\n",
       "    </tr>\n",
       "    <tr>\n",
       "      <th>3</th>\n",
       "      <td>4th</td>\n",
       "      <td>0.047041</td>\n",
       "    </tr>\n",
       "    <tr>\n",
       "      <th>5</th>\n",
       "      <td>6th</td>\n",
       "      <td>0.033387</td>\n",
       "    </tr>\n",
       "    <tr>\n",
       "      <th>10</th>\n",
       "      <td>11th</td>\n",
       "      <td>0.028089</td>\n",
       "    </tr>\n",
       "    <tr>\n",
       "      <th>9</th>\n",
       "      <td>10th</td>\n",
       "      <td>0.027691</td>\n",
       "    </tr>\n",
       "    <tr>\n",
       "      <th>8</th>\n",
       "      <td>9th</td>\n",
       "      <td>0.025974</td>\n",
       "    </tr>\n",
       "    <tr>\n",
       "      <th>6</th>\n",
       "      <td>7th</td>\n",
       "      <td>0.024965</td>\n",
       "    </tr>\n",
       "    <tr>\n",
       "      <th>7</th>\n",
       "      <td>8th</td>\n",
       "      <td>0.024425</td>\n",
       "    </tr>\n",
       "  </tbody>\n",
       "</table>\n",
       "</div>"
      ],
      "text/plain": [
       "   features  importances\n",
       "11     12th     0.335751\n",
       "0       1st     0.229555\n",
       "4       5th     0.095067\n",
       "2       3rd     0.078684\n",
       "1       2nd     0.049371\n",
       "3       4th     0.047041\n",
       "5       6th     0.033387\n",
       "10     11th     0.028089\n",
       "9      10th     0.027691\n",
       "8       9th     0.025974\n",
       "6       7th     0.024965\n",
       "7       8th     0.024425"
      ]
     },
     "execution_count": 25,
     "metadata": {},
     "output_type": "execute_result"
    }
   ],
   "source": [
    "df_plot = pd.DataFrame({'features':X_train.columns, 'importances': model.feature_importances_})\n",
    "df_plot = df_plot.sort_values('importances', ascending=False)\n",
    "df_plot"
   ]
  },
  {
   "cell_type": "code",
   "execution_count": 26,
   "metadata": {},
   "outputs": [
    {
     "data": {
      "image/png": "[encoded data removed]",
      "text/plain": [
       "<Figure size 792x360 with 1 Axes>"
      ]
     },
     "metadata": {
      "needs_background": "light"
     },
     "output_type": "display_data"
    }
   ],
   "source": [
    "import matplotlib.pyplot as plt\n",
    "import seaborn as sns\n",
    "plt.figure(figsize=[11,5])\n",
    "sns.barplot(x = df_plot.importances, y = df_plot.features)\n",
    "plt.title('Importances of Features Plot')\n",
    "plt.show()"
   ]
  },
  {
   "cell_type": "markdown",
   "metadata": {},
   "source": [
    "# 추천 정확도 (TC2)"
   ]
  },
  {
   "cell_type": "code",
   "execution_count": 14,
   "metadata": {
    "scrolled": false
   },
   "outputs": [
    {
     "name": "stdout",
     "output_type": "stream",
     "text": [
      "1 번째 추천 시작\n",
      "예측한 값과 가까운 아이템 5개의 Accuracy : 0.8505\n",
      "----------------------------------------------------\n",
      "2 번째 추천 시작\n",
      "예측한 값과 가까운 아이템 5개의 Accuracy : 0.826\n",
      "----------------------------------------------------\n",
      "3 번째 추천 시작\n",
      "예측한 값과 가까운 아이템 5개의 Accuracy : 0.843\n",
      "----------------------------------------------------\n",
      "4 번째 추천 시작\n",
      "예측한 값과 가까운 아이템 5개의 Accuracy : 0.8405\n",
      "----------------------------------------------------\n",
      "5 번째 추천 시작\n",
      "예측한 값과 가까운 아이템 5개의 Accuracy : 0.8385\n",
      "----------------------------------------------------\n",
      "6 번째 추천 시작\n",
      "예측한 값과 가까운 아이템 5개의 Accuracy : 0.836\n",
      "----------------------------------------------------\n",
      "7 번째 추천 시작\n",
      "예측한 값과 가까운 아이템 5개의 Accuracy : 0.8375\n",
      "----------------------------------------------------\n",
      "8 번째 추천 시작\n",
      "예측한 값과 가까운 아이템 5개의 Accuracy : 0.8255\n",
      "----------------------------------------------------\n",
      "9 번째 추천 시작\n",
      "예측한 값과 가까운 아이템 5개의 Accuracy : 0.84\n",
      "----------------------------------------------------\n",
      "10 번째 추천 시작\n",
      "예측한 값과 가까운 아이템 5개의 Accuracy : 0.8355\n",
      "----------------------------------------------------\n",
      "추천 정확도의 평균 : 0.8373000000000002\n"
     ]
    },
    {
     "data": {
      "image/png": "[encoded data removed]",
      "text/plain": [
       "<Figure size 432x288 with 1 Axes>"
      ]
     },
     "metadata": {
      "needs_background": "light"
     },
     "output_type": "display_data"
    }
   ],
   "source": [
    "avg_acu = [0]\n",
    "\n",
    "for i in range(1, 11):\n",
    "    print(i, \"번째 추천 시작\")\n",
    "    \n",
    "    result = pd.DataFrame()\n",
    "    seed = i\n",
    "    test_size = 0.2\n",
    "    X_train,X_test,y_train,y_test = train_test_split(X_data,y_data,test_size=test_size, random_state=seed)\n",
    "    model = xgb.XGBClassifier(n_estimators=500,max_depth=8,learning_rate=0.05,subsample=0.5)\n",
    "    model.fit(X_train,y_train)\n",
    "    prediction = model.predict(X_test)\n",
    "    \n",
    "    result['predicted'] = prediction\n",
    "    result['Y_test'] = y_test.tolist()\n",
    "    \n",
    "    \n",
    "    #정확도 측정\n",
    "    T_F = []\n",
    "    for i in range(len(result)):\n",
    "        if result['Y_test'][i] == result['predicted'][i]:\n",
    "            T_F.append('True')\n",
    "        else:\n",
    "            T_F.append('False')\n",
    "    \n",
    "    result['T_F'] = T_F\n",
    "    \n",
    "    print(\"예측한 값과 가까운 아이템 5개의 Accuracy :\", len(result[result['T_F']=='True'])/len(result))\n",
    "    \n",
    "    \n",
    "    avg_acu.append(len(result[result['T_F']=='True'])/len(result))\n",
    "\n",
    "    \n",
    "    print(\"----------------------------------------------------\")\n",
    "\n",
    "print(\"추천 정확도의 평균 :\", sum(avg_acu[1:])/len(avg_acu[1:]))\n",
    "import matplotlib.pyplot as plt\n",
    "\n",
    "plt.plot(avg_acu)\n",
    "plt.xlabel(\"Recommendation time\")\n",
    "plt.ylabel(\"Accuracy(num_item=2000)\")\n",
    "plt.xlim(1,10)\n",
    "plt.ylim(0.8,1)\n",
    "plt.rcParams[\"figure.figsize\"] = 10, 6\n",
    "plt.show()"
   ]
  },
  {
   "cell_type": "code",
   "execution_count": 13,
   "metadata": {},
   "outputs": [
    {
     "data": {
      "text/plain": [
       "1547017446.0"
      ]
     },
     "execution_count": 13,
     "metadata": {},
     "output_type": "execute_result"
    }
   ],
   "source": []
  },
  {
   "cell_type": "markdown",
   "metadata": {},
   "source": [
    "# 추천 시간 (TC3)"
   ]
  },
  {
   "cell_type": "code",
   "execution_count": null,
   "metadata": {
    "scrolled": false
   },
   "outputs": [],
   "source": [
    "avg_time = [0]\n",
    "\n",
    "\n",
    "X_train,X_test,y_train,y_test = train_test_split(X_data,y_data,test_size=0.2)\n",
    "model = xgb.XGBClassifier(n_estimators=500,max_depth=8,learning_rate=0.05,subsample=0.5)\n",
    "model.fit(X_train,y_train)\n",
    "\n",
    "for i in range(1, 11):\n",
    "    print(i, \"번째 추천 시작\")\n",
    "    \n",
    "    result = pd.DataFrame()\n",
    "    seed = i\n",
    "    X_train,X_test,y_train,y_test = train_test_split(X_data,y_data,test_size=0.2,random_state=seed)\n",
    "    start = time.time()\n",
    "    prediction = model.predict(X_test)\n",
    "    \n",
    "    \n",
    "    result['predicted'] = prediction\n",
    "    result['Y_test'] = y_test.tolist()\n",
    "    \n",
    "    #예측값과 근사한 값 5개 출력\n",
    "    vector_list = []\n",
    "\n",
    "    for i in range(len(result)):\n",
    "        vector_list.append(nsmallest(5, word_vectors_list, key=lambda x: abs(x-result['predicted'].iloc[i])))\n",
    "    \n",
    "    result['Nearby5'] = pd.Series(vector_list)\n",
    "    \n",
    "    for i in range(len(result)):\n",
    "        result['Nearby5'].iloc[i] = vector_list[i]\n",
    "        \n",
    "    end = time.time()\n",
    "    \n",
    "    #정확도 측정\n",
    "    T_F = []\n",
    "    for i in range(len(result)):\n",
    "        if result['Y_test'].iloc[i] in result['Nearby5'].iloc[i]:\n",
    "            T_F.append('True')\n",
    "        else:\n",
    "            T_F.append('False')\n",
    "    \n",
    "    result['T_F'] = T_F\n",
    "    \n",
    "    print(\"추천(2000건)에 걸린 시간(초):\", end-start)\n",
    "    print(\"데이터 한개당 걸린 시간 :\", (end-start)/2000)\n",
    "    \n",
    "    avg_time.append((end - start)/2000)\n",
    "    print(\"----------------------------------------------------\")\n",
    "\n",
    "print(\"데이터 한개당 걸린 시간의 평균 :\", sum(avg_time[1:])/len(avg_time[1:]))\n",
    "\n",
    "import matplotlib.pyplot as plt\n",
    "\n",
    "plt.plot(avg_time)\n",
    "plt.xlabel(\"Recommendation time\")\n",
    "plt.ylabel(\"Take time per item(sec)\")\n",
    "plt.xlim(1,10)\n",
    "plt.ylim(0,0.1)\n",
    "plt.rcParams[\"figure.figsize\"] = 10, 6\n",
    "plt.show()"
   ]
  },
  {
   "cell_type": "code",
   "execution_count": null,
   "metadata": {},
   "outputs": [],
   "source": [
    "print(X_train.shape)\n",
    "print(X_test.shape)"
   ]
  },
  {
   "cell_type": "code",
   "execution_count": null,
   "metadata": {},
   "outputs": [],
   "source": [
    "result.head(10)"
   ]
  },
  {
   "cell_type": "code",
   "execution_count": null,
   "metadata": {},
   "outputs": [],
   "source": [
    "result.tail(10)"
   ]
  },
  {
   "cell_type": "code",
   "execution_count": null,
   "metadata": {
    "scrolled": false
   },
   "outputs": [],
   "source": [
    "result['Nearby5'][0]"
   ]
  },
  {
   "cell_type": "code",
   "execution_count": null,
   "metadata": {},
   "outputs": [],
   "source": [
    "total_list = []\n",
    "for i in range(len(result)):\n",
    "    vector_list = []\n",
    "    for j in range(5):\n",
    "        vector_list.append(nsmallest(5, word_vectors_list, key=lambda x: abs(x-result['predicted'].iloc[i]))[j][0])\n",
    "    total_list.append(vector_list)"
   ]
  },
  {
   "cell_type": "code",
   "execution_count": null,
   "metadata": {},
   "outputs": [],
   "source": [
    "real_itemnum = []\n",
    "for i in range(len(total_list)):\n",
    "    real_item = []\n",
    "    for j in range(5):\n",
    "        real_item.append(num_vec[total_list[i][j]])\n",
    "    real_itemnum.append(real_item)"
   ]
  },
  {
   "cell_type": "code",
   "execution_count": null,
   "metadata": {},
   "outputs": [],
   "source": [
    "result['Item5'] = real_itemnum"
   ]
  },
  {
   "cell_type": "code",
   "execution_count": null,
   "metadata": {},
   "outputs": [],
   "source": [
    "real_itemnum"
   ]
  },
  {
   "cell_type": "code",
   "execution_count": null,
   "metadata": {},
   "outputs": [],
   "source": [
    "len(real_itemnum)"
   ]
  },
  {
   "cell_type": "code",
   "execution_count": 34,
   "metadata": {},
   "outputs": [
    {
     "ename": "AttributeError",
     "evalue": "'XGBClassifier' object has no attribute 'decision_function'",
     "output_type": "error",
     "traceback": [
      "\u001b[1;31m---------------------------------------------------------------------------\u001b[0m",
      "\u001b[1;31mAttributeError\u001b[0m                            Traceback (most recent call last)",
      "\u001b[1;32m<ipython-input-34-8e30a8ad3c29>\u001b[0m in \u001b[0;36m<module>\u001b[1;34m\u001b[0m\n\u001b[0;32m      8\u001b[0m \u001b[0mmodel\u001b[0m \u001b[1;33m=\u001b[0m \u001b[0mxgb\u001b[0m\u001b[1;33m.\u001b[0m\u001b[0mXGBClassifier\u001b[0m\u001b[1;33m(\u001b[0m\u001b[0mn_estimators\u001b[0m\u001b[1;33m=\u001b[0m\u001b[1;36m500\u001b[0m\u001b[1;33m,\u001b[0m\u001b[0mmax_depth\u001b[0m\u001b[1;33m=\u001b[0m\u001b[1;36m8\u001b[0m\u001b[1;33m,\u001b[0m\u001b[0mlearning_rate\u001b[0m\u001b[1;33m=\u001b[0m\u001b[1;36m0.05\u001b[0m\u001b[1;33m,\u001b[0m\u001b[0msubsample\u001b[0m\u001b[1;33m=\u001b[0m\u001b[1;36m0.5\u001b[0m\u001b[1;33m)\u001b[0m\u001b[1;33m\u001b[0m\u001b[1;33m\u001b[0m\u001b[0m\n\u001b[0;32m      9\u001b[0m \u001b[0mmodel\u001b[0m\u001b[1;33m.\u001b[0m\u001b[0mfit\u001b[0m\u001b[1;33m(\u001b[0m\u001b[0mX_train\u001b[0m\u001b[1;33m,\u001b[0m \u001b[0mY_train\u001b[0m\u001b[1;33m)\u001b[0m\u001b[1;33m\u001b[0m\u001b[1;33m\u001b[0m\u001b[0m\n\u001b[1;32m---> 10\u001b[1;33m \u001b[0my_score\u001b[0m \u001b[1;33m=\u001b[0m \u001b[0mmodel\u001b[0m\u001b[1;33m.\u001b[0m\u001b[0mdecision_function\u001b[0m\u001b[1;33m(\u001b[0m\u001b[0mX_test\u001b[0m\u001b[1;33m)\u001b[0m\u001b[1;33m\u001b[0m\u001b[1;33m\u001b[0m\u001b[0m\n\u001b[0m",
      "\u001b[1;31mAttributeError\u001b[0m: 'XGBClassifier' object has no attribute 'decision_function'"
     ]
    }
   ],
   "source": [
    "from sklearn.preprocessing import label_binarize\n",
    "\n",
    "\n",
    "# Split into training and test\n",
    "X_train, X_test, Y_train, Y_test = train_test_split(X_data, Y_data, test_size=.2,\n",
    "                                                    random_state=6)\n",
    "\n",
    "model = xgb.XGBClassifier(n_estimators=500,max_depth=8,learning_rate=0.05,subsample=0.5)\n",
    "model.fit(X_train, Y_train)\n",
    "y_score = model.decision_function(X_test)"
   ]
  },
  {
   "cell_type": "code",
   "execution_count": null,
   "metadata": {},
   "outputs": [],
   "source": []
  }
 ],
 "metadata": {
  "kernelspec": {
   "display_name": "Python 3",
   "language": "python",
   "name": "python3"
  },
  "language_info": {
   "codemirror_mode": {
    "name": "ipython",
    "version": 3
   },
   "file_extension": ".py",
   "mimetype": "text/x-python",
   "name": "python",
   "nbconvert_exporter": "python",
   "pygments_lexer": "ipython3",
   "version": "3.7.11"
  }
 },
 "nbformat": 4,
 "nbformat_minor": 4
}

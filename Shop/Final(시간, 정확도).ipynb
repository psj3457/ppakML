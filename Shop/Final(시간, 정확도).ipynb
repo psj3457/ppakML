{
 "cells": [
  {
   "cell_type": "code",
   "execution_count": 1,
   "metadata": {},
   "outputs": [],
   "source": [
    "import pandas as pd\n",
    "import numpy as np\n",
    "import warnings\n",
    "warnings.filterwarnings(action='ignore')"
   ]
  },
  {
   "cell_type": "code",
   "execution_count": 2,
   "metadata": {},
   "outputs": [],
   "source": [
    "data = pd.read_csv('Final.csv')"
   ]
  },
  {
   "cell_type": "code",
   "execution_count": 3,
   "metadata": {},
   "outputs": [],
   "source": [
    "data_list = data.values.tolist()"
   ]
  },
  {
   "cell_type": "code",
   "execution_count": 4,
   "metadata": {},
   "outputs": [],
   "source": [
    "item_list = []\n",
    "\n",
    "for i in data_list:\n",
    "    item_list.append(list(map(str,i)))"
   ]
  },
  {
   "cell_type": "code",
   "execution_count": 5,
   "metadata": {},
   "outputs": [],
   "source": [
    "data = data.astype(float)"
   ]
  },
  {
   "cell_type": "code",
   "execution_count": 6,
   "metadata": {},
   "outputs": [],
   "source": [
    "data = data.applymap(str)"
   ]
  },
  {
   "cell_type": "markdown",
   "metadata": {},
   "source": [
    "# Word2Vec"
   ]
  },
  {
   "cell_type": "code",
   "execution_count": 7,
   "metadata": {},
   "outputs": [],
   "source": [
    "from gensim.models import Word2Vec\n",
    "from gensim.test.utils import common_texts, get_tmpfile"
   ]
  },
  {
   "cell_type": "code",
   "execution_count": 8,
   "metadata": {},
   "outputs": [],
   "source": [
    "path = get_tmpfile('word2vec.model')"
   ]
  },
  {
   "cell_type": "code",
   "execution_count": 9,
   "metadata": {},
   "outputs": [],
   "source": [
    "model = Word2Vec(item_list, size=1 ,window=5, min_count=1,workers=5)\n",
    "model.save('word2vec.model')"
   ]
  },
  {
   "cell_type": "code",
   "execution_count": 10,
   "metadata": {},
   "outputs": [],
   "source": [
    "model = Word2Vec.load('word2vec.model')"
   ]
  },
  {
   "cell_type": "code",
   "execution_count": 11,
   "metadata": {},
   "outputs": [],
   "source": [
    "word_vectors = model.wv  \n",
    "vocabs = word_vectors.vocab.keys() #vocabs has keys that is item number\n",
    "\n",
    "#word_vectors_list has values that is vector value from item number\n",
    "word_vectors_list = [word_vectors[v] for v in vocabs] "
   ]
  },
  {
   "cell_type": "code",
   "execution_count": 12,
   "metadata": {},
   "outputs": [],
   "source": [
    "for i in range(len(data)):            #word2vec value를 data로 넣음\n",
    "    for j in range(len(data.iloc[i])):\n",
    "        key=str(data.iloc[i,j])\n",
    "        data.iloc[i,j] = word_vectors[key].tolist()[0]"
   ]
  },
  {
   "cell_type": "code",
   "execution_count": 13,
   "metadata": {},
   "outputs": [],
   "source": [
    "data = data.apply(pd.to_numeric)"
   ]
  },
  {
   "cell_type": "markdown",
   "metadata": {},
   "source": [
    "# {item_id : word2vec} 벡터값과 아이템넘버 맞추기"
   ]
  },
  {
   "cell_type": "code",
   "execution_count": 14,
   "metadata": {},
   "outputs": [],
   "source": [
    "num_vec = {}"
   ]
  },
  {
   "cell_type": "code",
   "execution_count": 15,
   "metadata": {},
   "outputs": [],
   "source": [
    "item_id = word_vectors.vocab"
   ]
  },
  {
   "cell_type": "code",
   "execution_count": 16,
   "metadata": {},
   "outputs": [],
   "source": [
    "item_num = []\n",
    "for i in item_id.keys():\n",
    "    item_num.append(i)"
   ]
  },
  {
   "cell_type": "code",
   "execution_count": 17,
   "metadata": {},
   "outputs": [],
   "source": [
    "item_vec = []\n",
    "for i in vocabs:\n",
    "    item_vec.append(word_vectors[i][0])"
   ]
  },
  {
   "cell_type": "code",
   "execution_count": 18,
   "metadata": {},
   "outputs": [],
   "source": [
    "num_vec = num_vec.fromkeys(item_vec)"
   ]
  },
  {
   "cell_type": "code",
   "execution_count": 19,
   "metadata": {},
   "outputs": [],
   "source": [
    "j = 0\n",
    "for i in num_vec.keys():\n",
    "    num_vec[i] = item_num[j]\n",
    "    j = j+1"
   ]
  },
  {
   "cell_type": "markdown",
   "metadata": {},
   "source": [
    "# Data split && Learning"
   ]
  },
  {
   "cell_type": "code",
   "execution_count": 20,
   "metadata": {},
   "outputs": [],
   "source": [
    "from sklearn.model_selection import train_test_split\n",
    "import xgboost as xgb\n",
    "from heapq import nsmallest\n",
    "import time"
   ]
  },
  {
   "cell_type": "markdown",
   "metadata": {},
   "source": [
    "# 학습데이터와 테스트데이터"
   ]
  },
  {
   "cell_type": "code",
   "execution_count": 21,
   "metadata": {},
   "outputs": [
    {
     "name": "stdout",
     "output_type": "stream",
     "text": [
      "          0         1         2         3         4         5         6  \\\n",
      "0 -0.673092 -0.767208 -0.754473 -0.767208 -0.757247 -0.767208 -0.768221   \n",
      "1 -0.464439 -0.518068 -0.518068 -0.536233 -0.518068 -0.523037 -0.536233   \n",
      "2 -3.326532 -1.932247 -1.529899 -2.107408 -2.728838 -1.580990 -2.162528   \n",
      "3 -3.326532 -2.242144 -1.935960 -1.991401 -1.265548 -1.359664 -2.920877   \n",
      "4 -1.129507 -1.260457 -1.260457 -1.274987 -1.286799 -1.262502 -1.262502   \n",
      "\n",
      "          7         8         9        10        11        12  \n",
      "0 -0.754473 -0.757247 -0.757247 -0.767208 -0.768221 -0.757247  \n",
      "1 -0.536233 -0.523037 -0.523037 -0.523037 -0.523037 -0.518068  \n",
      "2 -2.106616 -2.549870 -1.630203 -1.585553 -1.602095 -2.140919  \n",
      "3 -2.920877 -1.889275 -1.581453 -3.072871 -1.687228 -2.089056  \n",
      "4 -1.265346 -1.251907 -1.267736 -1.286799 -1.265346 -1.260457  \n",
      "(10000, 13)\n"
     ]
    }
   ],
   "source": [
    "X_data = data.drop('13',axis=1)\n",
    "y_data = data['13']\n",
    "print(X_data.head())\n",
    "print(X_data.shape)"
   ]
  },
  {
   "cell_type": "markdown",
   "metadata": {},
   "source": [
    "# 데이터 확인"
   ]
  },
  {
   "cell_type": "code",
   "execution_count": 22,
   "metadata": {},
   "outputs": [
    {
     "name": "stdout",
     "output_type": "stream",
     "text": [
      "(8000, 13)\n",
      "(2000, 13)\n"
     ]
    }
   ],
   "source": [
    "seed = 0\n",
    "test_size = 0.2\n",
    "X_train,X_test,y_train,y_test = train_test_split(X_data,y_data,test_size=0.2, random_state=seed)\n",
    "\n",
    "print(X_train.shape)\n",
    "print(X_test.shape)"
   ]
  },
  {
   "cell_type": "code",
   "execution_count": 23,
   "metadata": {},
   "outputs": [
    {
     "name": "stdout",
     "output_type": "stream",
     "text": [
      "학습하는데 걸린 시간(분): 46.06496846278508\n"
     ]
    }
   ],
   "source": [
    "start = time.time()\n",
    "\n",
    "model = xgb.XGBClassifier(n_estimators=500,max_depth=8,learning_rate=0.05,subsample=0.5)\n",
    "model.fit(X_train,y_train)\n",
    "\n",
    "end = time.time()\n",
    "print(\"학습하는데 걸린 시간(분):\", (end-start)/60)"
   ]
  },
  {
   "cell_type": "code",
   "execution_count": 24,
   "metadata": {},
   "outputs": [],
   "source": [
    "dtrain = xgb.DMatrix(data=X_train, label=y_train)\n",
    "params = {\n",
    "    \"Objective\": 'gbtree',\n",
    "    \"eval_metric\": 'rmse',\n",
    "    \"eta\" : 0.1 #learning late\n",
    "}\n",
    "cv = xgb.cv(params=params, dtrain=dtrain, num_boost_round=100, nfold=5,\n",
    "            seed=41, early_stopping_rounds= 100)"
   ]
  },
  {
   "cell_type": "code",
   "execution_count": 25,
   "metadata": {},
   "outputs": [
    {
     "data": {
      "text/html": [
       "<div>\n",
       "<style scoped>\n",
       "    .dataframe tbody tr th:only-of-type {\n",
       "        vertical-align: middle;\n",
       "    }\n",
       "\n",
       "    .dataframe tbody tr th {\n",
       "        vertical-align: top;\n",
       "    }\n",
       "\n",
       "    .dataframe thead th {\n",
       "        text-align: right;\n",
       "    }\n",
       "</style>\n",
       "<table border=\"1\" class=\"dataframe\">\n",
       "  <thead>\n",
       "    <tr style=\"text-align: right;\">\n",
       "      <th></th>\n",
       "      <th>train-rmse-mean</th>\n",
       "      <th>train-rmse-std</th>\n",
       "      <th>test-rmse-mean</th>\n",
       "      <th>test-rmse-std</th>\n",
       "    </tr>\n",
       "  </thead>\n",
       "  <tbody>\n",
       "    <tr>\n",
       "      <th>0</th>\n",
       "      <td>1.502638</td>\n",
       "      <td>0.003926</td>\n",
       "      <td>1.502659</td>\n",
       "      <td>0.016017</td>\n",
       "    </tr>\n",
       "    <tr>\n",
       "      <th>1</th>\n",
       "      <td>1.353343</td>\n",
       "      <td>0.003524</td>\n",
       "      <td>1.353477</td>\n",
       "      <td>0.014381</td>\n",
       "    </tr>\n",
       "    <tr>\n",
       "      <th>2</th>\n",
       "      <td>1.218963</td>\n",
       "      <td>0.003167</td>\n",
       "      <td>1.219002</td>\n",
       "      <td>0.012835</td>\n",
       "    </tr>\n",
       "    <tr>\n",
       "      <th>3</th>\n",
       "      <td>1.098004</td>\n",
       "      <td>0.002851</td>\n",
       "      <td>1.098270</td>\n",
       "      <td>0.011506</td>\n",
       "    </tr>\n",
       "    <tr>\n",
       "      <th>4</th>\n",
       "      <td>0.989069</td>\n",
       "      <td>0.002519</td>\n",
       "      <td>0.989461</td>\n",
       "      <td>0.010158</td>\n",
       "    </tr>\n",
       "    <tr>\n",
       "      <th>...</th>\n",
       "      <td>...</td>\n",
       "      <td>...</td>\n",
       "      <td>...</td>\n",
       "      <td>...</td>\n",
       "    </tr>\n",
       "    <tr>\n",
       "      <th>95</th>\n",
       "      <td>0.007609</td>\n",
       "      <td>0.000681</td>\n",
       "      <td>0.043715</td>\n",
       "      <td>0.010669</td>\n",
       "    </tr>\n",
       "    <tr>\n",
       "      <th>96</th>\n",
       "      <td>0.007507</td>\n",
       "      <td>0.000637</td>\n",
       "      <td>0.043699</td>\n",
       "      <td>0.010712</td>\n",
       "    </tr>\n",
       "    <tr>\n",
       "      <th>97</th>\n",
       "      <td>0.007424</td>\n",
       "      <td>0.000651</td>\n",
       "      <td>0.043704</td>\n",
       "      <td>0.010733</td>\n",
       "    </tr>\n",
       "    <tr>\n",
       "      <th>98</th>\n",
       "      <td>0.007345</td>\n",
       "      <td>0.000639</td>\n",
       "      <td>0.043672</td>\n",
       "      <td>0.010739</td>\n",
       "    </tr>\n",
       "    <tr>\n",
       "      <th>99</th>\n",
       "      <td>0.007241</td>\n",
       "      <td>0.000630</td>\n",
       "      <td>0.043639</td>\n",
       "      <td>0.010747</td>\n",
       "    </tr>\n",
       "  </tbody>\n",
       "</table>\n",
       "<p>100 rows × 4 columns</p>\n",
       "</div>"
      ],
      "text/plain": [
       "    train-rmse-mean  train-rmse-std  test-rmse-mean  test-rmse-std\n",
       "0          1.502638        0.003926        1.502659       0.016017\n",
       "1          1.353343        0.003524        1.353477       0.014381\n",
       "2          1.218963        0.003167        1.219002       0.012835\n",
       "3          1.098004        0.002851        1.098270       0.011506\n",
       "4          0.989069        0.002519        0.989461       0.010158\n",
       "..              ...             ...             ...            ...\n",
       "95         0.007609        0.000681        0.043715       0.010669\n",
       "96         0.007507        0.000637        0.043699       0.010712\n",
       "97         0.007424        0.000651        0.043704       0.010733\n",
       "98         0.007345        0.000639        0.043672       0.010739\n",
       "99         0.007241        0.000630        0.043639       0.010747\n",
       "\n",
       "[100 rows x 4 columns]"
      ]
     },
     "execution_count": 25,
     "metadata": {},
     "output_type": "execute_result"
    }
   ],
   "source": [
    "cv"
   ]
  },
  {
   "cell_type": "markdown",
   "metadata": {},
   "source": [
    "# 추천 정확도 (TC2)"
   ]
  },
  {
   "cell_type": "code",
   "execution_count": 26,
   "metadata": {
    "scrolled": false
   },
   "outputs": [
    {
     "name": "stdout",
     "output_type": "stream",
     "text": [
      "1 번째 추천 시작\n",
      "예측한 값과 가까운 아이템 5개의 Accuracy : 0.9445\n",
      "----------------------------------------------------\n",
      "2 번째 추천 시작\n",
      "예측한 값과 가까운 아이템 5개의 Accuracy : 0.9425\n",
      "----------------------------------------------------\n",
      "3 번째 추천 시작\n",
      "예측한 값과 가까운 아이템 5개의 Accuracy : 0.9405\n",
      "----------------------------------------------------\n",
      "4 번째 추천 시작\n",
      "예측한 값과 가까운 아이템 5개의 Accuracy : 0.9365\n",
      "----------------------------------------------------\n",
      "5 번째 추천 시작\n",
      "예측한 값과 가까운 아이템 5개의 Accuracy : 0.9455\n",
      "----------------------------------------------------\n",
      "6 번째 추천 시작\n",
      "예측한 값과 가까운 아이템 5개의 Accuracy : 0.941\n",
      "----------------------------------------------------\n",
      "7 번째 추천 시작\n",
      "예측한 값과 가까운 아이템 5개의 Accuracy : 0.9435\n",
      "----------------------------------------------------\n",
      "8 번째 추천 시작\n",
      "예측한 값과 가까운 아이템 5개의 Accuracy : 0.9385\n",
      "----------------------------------------------------\n",
      "9 번째 추천 시작\n",
      "예측한 값과 가까운 아이템 5개의 Accuracy : 0.9375\n",
      "----------------------------------------------------\n",
      "10 번째 추천 시작\n",
      "예측한 값과 가까운 아이템 5개의 Accuracy : 0.9345\n",
      "----------------------------------------------------\n",
      "추천 정확도의 평균 : 0.94045\n"
     ]
    },
    {
     "data": {
      "image/png": "[encoded data removed]",
      "text/plain": [
       "<Figure size 432x288 with 1 Axes>"
      ]
     },
     "metadata": {
      "needs_background": "light"
     },
     "output_type": "display_data"
    }
   ],
   "source": [
    "avg_acu = [0]\n",
    "\n",
    "for i in range(1, 11):\n",
    "    print(i, \"번째 추천 시작\")\n",
    "    \n",
    "    result = pd.DataFrame()\n",
    "    seed = i\n",
    "    X_train,X_test,y_train,y_test = train_test_split(X_data,y_data,test_size=test_size, random_state=seed)\n",
    "    prediction = model.predict(X_test)\n",
    "    \n",
    "    result['predicted'] = prediction\n",
    "    result['Y_test'] = y_test.tolist()\n",
    "    \n",
    "    #예측값과 근사한 값 5개 출력\n",
    "    vector_list = []\n",
    "\n",
    "    for i in range(len(result)):\n",
    "        vector_list.append(nsmallest(5, word_vectors_list, key=lambda x: abs(x-result['predicted'].iloc[i])))\n",
    "    \n",
    "    result['Nearby5'] = pd.Series(vector_list)\n",
    "    \n",
    "    for i in range(len(result)):\n",
    "        result['Nearby5'].iloc[i] = vector_list[i]\n",
    "    \n",
    "    T_F = []\n",
    "    for i in range(len(result)):\n",
    "        if result['Y_test'].iloc[i] in result['Nearby5'].iloc[i]:\n",
    "            T_F.append('True')\n",
    "        else:\n",
    "            T_F.append('False')\n",
    "    \n",
    "    result['T_F'] = T_F\n",
    "    \n",
    "    print(\"예측한 값과 가까운 아이템 5개의 Accuracy :\", len(result[result['T_F']=='True'])/len(result))\n",
    "    \n",
    "    \n",
    "    avg_acu.append(len(result[result['T_F']=='True'])/len(result))\n",
    "\n",
    "    \n",
    "    print(\"----------------------------------------------------\")\n",
    "\n",
    "print(\"추천 정확도의 평균 :\", sum(avg_acu[1:])/len(avg_acu[1:]))\n",
    "\n",
    "import matplotlib.pyplot as plt\n",
    "\n",
    "plt.plot(avg_acu)\n",
    "plt.xlabel(\"Recommendation time\")\n",
    "plt.ylabel(\"Accuracy(num_item=2000)\")\n",
    "plt.xlim(1,10)\n",
    "plt.ylim(0,1)\n",
    "plt.rcParams[\"figure.figsize\"] = 10, 6\n",
    "plt.show()"
   ]
  },
  {
   "cell_type": "markdown",
   "metadata": {},
   "source": [
    "# 추천 시간 (TC3)"
   ]
  },
  {
   "cell_type": "code",
   "execution_count": null,
   "metadata": {},
   "outputs": [
    {
     "name": "stdout",
     "output_type": "stream",
     "text": [
      "1 번째 추천 시작\n"
     ]
    }
   ],
   "source": [
    "avg_time = [0]\n",
    "\n",
    "for i in range(1, 11):\n",
    "    print(i, \"번째 추천 시작\")\n",
    "    \n",
    "    result = pd.DataFrame()\n",
    "    start = time.time()\n",
    "    seed = i\n",
    "    X_train,X_test,y_train,y_test = train_test_split(X_data,y_data,test_size=test_size, random_state=seed)\n",
    "    prediction = model.predict(X_test)\n",
    "    \n",
    "    \n",
    "    result['predicted'] = prediction\n",
    "    result['Y_test'] = y_test.tolist()\n",
    "    \n",
    "    #예측값과 근사한 값 5개 출력\n",
    "    vector_list = []\n",
    "\n",
    "    for i in range(len(result)):\n",
    "        vector_list.append(nsmallest(5, word_vectors_list, key=lambda x: abs(x-result['predicted'].iloc[i])))\n",
    "    \n",
    "    result['Nearby5'] = pd.Series(vector_list)\n",
    "    \n",
    "    for i in range(len(result)):\n",
    "        result['Nearby5'].iloc[i] = vector_list[i]\n",
    "    \n",
    "    T_F = []\n",
    "    for i in range(len(result)):\n",
    "        if result['Y_test'].iloc[i] in result['Nearby5'].iloc[i]:\n",
    "            T_F.append('True')\n",
    "        else:\n",
    "            T_F.append('False')\n",
    "    \n",
    "    result['T_F'] = T_F\n",
    "    \n",
    "    end = time.time()\n",
    "    \n",
    "    print(\"추천(2000건)에 걸린 시간(초):\", end-start)\n",
    "    print(\"데이터 한개당 걸린 시간 :\", (end-start)/2000)\n",
    "    \n",
    "    \n",
    "    avg_acu.append(len(result[result['T_F']=='True'])/len(result))\n",
    "\n",
    "    \n",
    "    avg_time.append((end - start)/2000)\n",
    "    print(\"----------------------------------------------------\")\n",
    "\n",
    "print(\"데이터 한개당 걸린 시간의 평균 :\", sum(avg_time[1:])/len(avg_time[1:]))\n",
    "\n",
    "import matplotlib.pyplot as plt\n",
    "\n",
    "plt.plot(avg_time)\n",
    "plt.xlabel(\"Recommendation time\")\n",
    "plt.ylabel(\"Take time per item(sec)\")\n",
    "plt.xlim(1,10)\n",
    "plt.ylim(0,0.1)\n",
    "plt.rcParams[\"figure.figsize\"] = 10, 6\n",
    "plt.show()"
   ]
  },
  {
   "cell_type": "markdown",
   "metadata": {},
   "source": [
    "# 쇼핑 패턴에서 나온 최종 추천 아이템 5개"
   ]
  },
  {
   "cell_type": "code",
   "execution_count": null,
   "metadata": {},
   "outputs": [],
   "source": [
    "total_list = []\n",
    "for i in range(len(result)):\n",
    "    vector_list = []\n",
    "    for j in range(5):\n",
    "        vector_list.append(nsmallest(5, word_vectors_list, key=lambda x: abs(x-result['predicted'].iloc[i]))[j][0])\n",
    "    total_list.append(vector_list)"
   ]
  },
  {
   "cell_type": "code",
   "execution_count": null,
   "metadata": {},
   "outputs": [],
   "source": [
    "real_itemnum = []\n",
    "for i in range(len(total_list)):\n",
    "    real_item = []\n",
    "    for j in range(5):\n",
    "        real_item.append(num_vec[total_list[i][j]])\n",
    "    real_itemnum.append(real_item)"
   ]
  },
  {
   "cell_type": "code",
   "execution_count": null,
   "metadata": {},
   "outputs": [],
   "source": [
    "result['Item5'] = real_itemnum"
   ]
  },
  {
   "cell_type": "code",
   "execution_count": null,
   "metadata": {},
   "outputs": [],
   "source": [
    "result"
   ]
  },
  {
   "cell_type": "code",
   "execution_count": null,
   "metadata": {},
   "outputs": [],
   "source": [
    "real_itemnum"
   ]
  }
 ],
 "metadata": {
  "kernelspec": {
   "display_name": "Python 3",
   "language": "python",
   "name": "python3"
  },
  "language_info": {
   "codemirror_mode": {
    "name": "ipython",
    "version": 3
   },
   "file_extension": ".py",
   "mimetype": "text/x-python",
   "name": "python",
   "nbconvert_exporter": "python",
   "pygments_lexer": "ipython3",
   "version": "3.7.6"
  }
 },
 "nbformat": 4,
 "nbformat_minor": 4
}

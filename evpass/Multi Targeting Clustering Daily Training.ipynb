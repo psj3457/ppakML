{
 "cells": [
  {
   "cell_type": "code",
   "execution_count": 1,
   "metadata": {},
   "outputs": [],
   "source": [
    "import pandas as pd\n",
    "import numpy as np\n",
    "import matplotlib.pyplot as plt\n",
    "import seaborn as sns\n",
    "import datetime"
   ]
  },
  {
   "cell_type": "code",
   "execution_count": 2,
   "metadata": {
    "scrolled": true
   },
   "outputs": [],
   "source": [
    "weather = pd.read_csv('./fullweather.csv')"
   ]
  },
  {
   "cell_type": "code",
   "execution_count": 3,
   "metadata": {},
   "outputs": [
    {
     "data": {
      "text/html": [
       "<div>\n",
       "<style scoped>\n",
       "    .dataframe tbody tr th:only-of-type {\n",
       "        vertical-align: middle;\n",
       "    }\n",
       "\n",
       "    .dataframe tbody tr th {\n",
       "        vertical-align: top;\n",
       "    }\n",
       "\n",
       "    .dataframe thead th {\n",
       "        text-align: right;\n",
       "    }\n",
       "</style>\n",
       "<table border=\"1\" class=\"dataframe\">\n",
       "  <thead>\n",
       "    <tr style=\"text-align: right;\">\n",
       "      <th></th>\n",
       "      <th>Local time in Jeju (airport)</th>\n",
       "      <th>T</th>\n",
       "      <th>WW</th>\n",
       "      <th>H</th>\n",
       "      <th>I</th>\n",
       "    </tr>\n",
       "  </thead>\n",
       "  <tbody>\n",
       "    <tr>\n",
       "      <th>0</th>\n",
       "      <td>2019-04-16 0:00</td>\n",
       "      <td>11.7</td>\n",
       "      <td>NaN</td>\n",
       "      <td>47</td>\n",
       "      <td>NaN</td>\n",
       "    </tr>\n",
       "    <tr>\n",
       "      <th>1</th>\n",
       "      <td>2019-04-16 1:00</td>\n",
       "      <td>11.6</td>\n",
       "      <td>NaN</td>\n",
       "      <td>46</td>\n",
       "      <td>NaN</td>\n",
       "    </tr>\n",
       "    <tr>\n",
       "      <th>2</th>\n",
       "      <td>2019-04-16 2:00</td>\n",
       "      <td>11.4</td>\n",
       "      <td>NaN</td>\n",
       "      <td>46</td>\n",
       "      <td>NaN</td>\n",
       "    </tr>\n",
       "    <tr>\n",
       "      <th>3</th>\n",
       "      <td>2019-04-16 3:00</td>\n",
       "      <td>11.4</td>\n",
       "      <td>NaN</td>\n",
       "      <td>45</td>\n",
       "      <td>NaN</td>\n",
       "    </tr>\n",
       "    <tr>\n",
       "      <th>4</th>\n",
       "      <td>2019-04-16 4:00</td>\n",
       "      <td>11.1</td>\n",
       "      <td>NaN</td>\n",
       "      <td>44</td>\n",
       "      <td>NaN</td>\n",
       "    </tr>\n",
       "    <tr>\n",
       "      <th>...</th>\n",
       "      <td>...</td>\n",
       "      <td>...</td>\n",
       "      <td>...</td>\n",
       "      <td>...</td>\n",
       "      <td>...</td>\n",
       "    </tr>\n",
       "    <tr>\n",
       "      <th>20587</th>\n",
       "      <td>2021-08-20 19:00</td>\n",
       "      <td>29.3</td>\n",
       "      <td>NaN</td>\n",
       "      <td>63</td>\n",
       "      <td>0.14</td>\n",
       "    </tr>\n",
       "    <tr>\n",
       "      <th>20588</th>\n",
       "      <td>2021-08-20 20:00</td>\n",
       "      <td>28.3</td>\n",
       "      <td>NaN</td>\n",
       "      <td>69</td>\n",
       "      <td>0.00</td>\n",
       "    </tr>\n",
       "    <tr>\n",
       "      <th>20589</th>\n",
       "      <td>2021-08-20 21:00</td>\n",
       "      <td>27.7</td>\n",
       "      <td>NaN</td>\n",
       "      <td>74</td>\n",
       "      <td>NaN</td>\n",
       "    </tr>\n",
       "    <tr>\n",
       "      <th>20590</th>\n",
       "      <td>2021-08-20 22:00</td>\n",
       "      <td>27.5</td>\n",
       "      <td>NaN</td>\n",
       "      <td>74</td>\n",
       "      <td>NaN</td>\n",
       "    </tr>\n",
       "    <tr>\n",
       "      <th>20591</th>\n",
       "      <td>2021-08-20 23:00</td>\n",
       "      <td>27.4</td>\n",
       "      <td>NaN</td>\n",
       "      <td>74</td>\n",
       "      <td>NaN</td>\n",
       "    </tr>\n",
       "  </tbody>\n",
       "</table>\n",
       "<p>20592 rows × 5 columns</p>\n",
       "</div>"
      ],
      "text/plain": [
       "      Local time in Jeju (airport)     T  WW   H     I\n",
       "0                  2019-04-16 0:00  11.7 NaN  47   NaN\n",
       "1                  2019-04-16 1:00  11.6 NaN  46   NaN\n",
       "2                  2019-04-16 2:00  11.4 NaN  46   NaN\n",
       "3                  2019-04-16 3:00  11.4 NaN  45   NaN\n",
       "4                  2019-04-16 4:00  11.1 NaN  44   NaN\n",
       "...                            ...   ...  ..  ..   ...\n",
       "20587             2021-08-20 19:00  29.3 NaN  63  0.14\n",
       "20588             2021-08-20 20:00  28.3 NaN  69  0.00\n",
       "20589             2021-08-20 21:00  27.7 NaN  74   NaN\n",
       "20590             2021-08-20 22:00  27.5 NaN  74   NaN\n",
       "20591             2021-08-20 23:00  27.4 NaN  74   NaN\n",
       "\n",
       "[20592 rows x 5 columns]"
      ]
     },
     "execution_count": 3,
     "metadata": {},
     "output_type": "execute_result"
    }
   ],
   "source": [
    "weather"
   ]
  },
  {
   "cell_type": "code",
   "execution_count": 4,
   "metadata": {},
   "outputs": [
    {
     "name": "stderr",
     "output_type": "stream",
     "text": [
      "C:\\Users\\mllab\\Anaconda3\\lib\\site-packages\\ipykernel_launcher.py:3: SettingWithCopyWarning: \n",
      "A value is trying to be set on a copy of a slice from a DataFrame\n",
      "\n",
      "See the caveats in the documentation: https://pandas.pydata.org/pandas-docs/stable/user_guide/indexing.html#returning-a-view-versus-a-copy\n",
      "  This is separate from the ipykernel package so we can avoid doing imports until\n",
      "C:\\Users\\mllab\\Anaconda3\\lib\\site-packages\\ipykernel_launcher.py:4: SettingWithCopyWarning: \n",
      "A value is trying to be set on a copy of a slice from a DataFrame\n",
      "\n",
      "See the caveats in the documentation: https://pandas.pydata.org/pandas-docs/stable/user_guide/indexing.html#returning-a-view-versus-a-copy\n",
      "  after removing the cwd from sys.path.\n"
     ]
    }
   ],
   "source": [
    "weather['Local time in Jeju (airport)'] = pd.to_datetime(weather['Local time in Jeju (airport)'], format='%Y-%m-%d %H:%M', errors='raise')\n",
    "weather['Date'] = weather['Local time in Jeju (airport)'].dt.date\n",
    "weather['WW'][weather['WW'].notnull()] = 1\n",
    "weather['WW'][weather['WW'].isnull()] = 0\n",
    "weather['WW'] = pd.to_numeric(weather['WW'])\n"
   ]
  },
  {
   "cell_type": "code",
   "execution_count": 5,
   "metadata": {},
   "outputs": [],
   "source": [
    "temp_rain = weather.groupby('Date',as_index=False).mean()\n",
    "temp_rain.rename(columns={'WW':'rain'},inplace=True)\n",
    "temp_rain['Date'] = temp_rain['Date'].astype(str)"
   ]
  },
  {
   "cell_type": "code",
   "execution_count": 6,
   "metadata": {},
   "outputs": [
    {
     "data": {
      "text/html": [
       "<div>\n",
       "<style scoped>\n",
       "    .dataframe tbody tr th:only-of-type {\n",
       "        vertical-align: middle;\n",
       "    }\n",
       "\n",
       "    .dataframe tbody tr th {\n",
       "        vertical-align: top;\n",
       "    }\n",
       "\n",
       "    .dataframe thead th {\n",
       "        text-align: right;\n",
       "    }\n",
       "</style>\n",
       "<table border=\"1\" class=\"dataframe\">\n",
       "  <thead>\n",
       "    <tr style=\"text-align: right;\">\n",
       "      <th></th>\n",
       "      <th>Date</th>\n",
       "      <th>T</th>\n",
       "      <th>rain</th>\n",
       "      <th>H</th>\n",
       "      <th>I</th>\n",
       "    </tr>\n",
       "  </thead>\n",
       "  <tbody>\n",
       "    <tr>\n",
       "      <th>0</th>\n",
       "      <td>2019-04-16</td>\n",
       "      <td>16.479167</td>\n",
       "      <td>0.000000</td>\n",
       "      <td>45.375000</td>\n",
       "      <td>1.387857</td>\n",
       "    </tr>\n",
       "    <tr>\n",
       "      <th>1</th>\n",
       "      <td>2019-04-17</td>\n",
       "      <td>16.054167</td>\n",
       "      <td>0.000000</td>\n",
       "      <td>71.125000</td>\n",
       "      <td>1.531429</td>\n",
       "    </tr>\n",
       "    <tr>\n",
       "      <th>2</th>\n",
       "      <td>2019-04-18</td>\n",
       "      <td>16.487500</td>\n",
       "      <td>0.000000</td>\n",
       "      <td>69.833333</td>\n",
       "      <td>1.858571</td>\n",
       "    </tr>\n",
       "    <tr>\n",
       "      <th>3</th>\n",
       "      <td>2019-04-19</td>\n",
       "      <td>16.958333</td>\n",
       "      <td>0.000000</td>\n",
       "      <td>75.125000</td>\n",
       "      <td>1.698571</td>\n",
       "    </tr>\n",
       "    <tr>\n",
       "      <th>4</th>\n",
       "      <td>2019-04-20</td>\n",
       "      <td>17.125000</td>\n",
       "      <td>0.000000</td>\n",
       "      <td>76.375000</td>\n",
       "      <td>1.622000</td>\n",
       "    </tr>\n",
       "    <tr>\n",
       "      <th>...</th>\n",
       "      <td>...</td>\n",
       "      <td>...</td>\n",
       "      <td>...</td>\n",
       "      <td>...</td>\n",
       "      <td>...</td>\n",
       "    </tr>\n",
       "    <tr>\n",
       "      <th>853</th>\n",
       "      <td>2021-08-16</td>\n",
       "      <td>24.633333</td>\n",
       "      <td>0.541667</td>\n",
       "      <td>85.625000</td>\n",
       "      <td>0.478667</td>\n",
       "    </tr>\n",
       "    <tr>\n",
       "      <th>854</th>\n",
       "      <td>2021-08-17</td>\n",
       "      <td>25.479167</td>\n",
       "      <td>0.291667</td>\n",
       "      <td>75.916667</td>\n",
       "      <td>1.228667</td>\n",
       "    </tr>\n",
       "    <tr>\n",
       "      <th>855</th>\n",
       "      <td>2021-08-18</td>\n",
       "      <td>26.004167</td>\n",
       "      <td>0.000000</td>\n",
       "      <td>71.541667</td>\n",
       "      <td>1.559333</td>\n",
       "    </tr>\n",
       "    <tr>\n",
       "      <th>856</th>\n",
       "      <td>2021-08-19</td>\n",
       "      <td>25.662500</td>\n",
       "      <td>0.083333</td>\n",
       "      <td>70.125000</td>\n",
       "      <td>1.094000</td>\n",
       "    </tr>\n",
       "    <tr>\n",
       "      <th>857</th>\n",
       "      <td>2021-08-20</td>\n",
       "      <td>27.583333</td>\n",
       "      <td>0.000000</td>\n",
       "      <td>64.958333</td>\n",
       "      <td>1.551333</td>\n",
       "    </tr>\n",
       "  </tbody>\n",
       "</table>\n",
       "<p>858 rows × 5 columns</p>\n",
       "</div>"
      ],
      "text/plain": [
       "           Date          T      rain          H         I\n",
       "0    2019-04-16  16.479167  0.000000  45.375000  1.387857\n",
       "1    2019-04-17  16.054167  0.000000  71.125000  1.531429\n",
       "2    2019-04-18  16.487500  0.000000  69.833333  1.858571\n",
       "3    2019-04-19  16.958333  0.000000  75.125000  1.698571\n",
       "4    2019-04-20  17.125000  0.000000  76.375000  1.622000\n",
       "..          ...        ...       ...        ...       ...\n",
       "853  2021-08-16  24.633333  0.541667  85.625000  0.478667\n",
       "854  2021-08-17  25.479167  0.291667  75.916667  1.228667\n",
       "855  2021-08-18  26.004167  0.000000  71.541667  1.559333\n",
       "856  2021-08-19  25.662500  0.083333  70.125000  1.094000\n",
       "857  2021-08-20  27.583333  0.000000  64.958333  1.551333\n",
       "\n",
       "[858 rows x 5 columns]"
      ]
     },
     "execution_count": 6,
     "metadata": {},
     "output_type": "execute_result"
    }
   ],
   "source": [
    "temp_rain"
   ]
  },
  {
   "cell_type": "code",
   "execution_count": 7,
   "metadata": {},
   "outputs": [
    {
     "data": {
      "text/html": [
       "<div>\n",
       "<style scoped>\n",
       "    .dataframe tbody tr th:only-of-type {\n",
       "        vertical-align: middle;\n",
       "    }\n",
       "\n",
       "    .dataframe tbody tr th {\n",
       "        vertical-align: top;\n",
       "    }\n",
       "\n",
       "    .dataframe thead th {\n",
       "        text-align: right;\n",
       "    }\n",
       "</style>\n",
       "<table border=\"1\" class=\"dataframe\">\n",
       "  <thead>\n",
       "    <tr style=\"text-align: right;\">\n",
       "      <th></th>\n",
       "      <th>Local time in Jeju (airport)</th>\n",
       "      <th>T</th>\n",
       "      <th>WW</th>\n",
       "      <th>H</th>\n",
       "      <th>I</th>\n",
       "      <th>Date</th>\n",
       "    </tr>\n",
       "  </thead>\n",
       "  <tbody>\n",
       "    <tr>\n",
       "      <th>0</th>\n",
       "      <td>2019-04-16 00:00:00</td>\n",
       "      <td>11.7</td>\n",
       "      <td>0.0</td>\n",
       "      <td>47</td>\n",
       "      <td>NaN</td>\n",
       "      <td>2019-04-16</td>\n",
       "    </tr>\n",
       "    <tr>\n",
       "      <th>1</th>\n",
       "      <td>2019-04-16 01:00:00</td>\n",
       "      <td>11.6</td>\n",
       "      <td>0.0</td>\n",
       "      <td>46</td>\n",
       "      <td>NaN</td>\n",
       "      <td>2019-04-16</td>\n",
       "    </tr>\n",
       "    <tr>\n",
       "      <th>2</th>\n",
       "      <td>2019-04-16 02:00:00</td>\n",
       "      <td>11.4</td>\n",
       "      <td>0.0</td>\n",
       "      <td>46</td>\n",
       "      <td>NaN</td>\n",
       "      <td>2019-04-16</td>\n",
       "    </tr>\n",
       "    <tr>\n",
       "      <th>3</th>\n",
       "      <td>2019-04-16 03:00:00</td>\n",
       "      <td>11.4</td>\n",
       "      <td>0.0</td>\n",
       "      <td>45</td>\n",
       "      <td>NaN</td>\n",
       "      <td>2019-04-16</td>\n",
       "    </tr>\n",
       "    <tr>\n",
       "      <th>4</th>\n",
       "      <td>2019-04-16 04:00:00</td>\n",
       "      <td>11.1</td>\n",
       "      <td>0.0</td>\n",
       "      <td>44</td>\n",
       "      <td>NaN</td>\n",
       "      <td>2019-04-16</td>\n",
       "    </tr>\n",
       "    <tr>\n",
       "      <th>...</th>\n",
       "      <td>...</td>\n",
       "      <td>...</td>\n",
       "      <td>...</td>\n",
       "      <td>...</td>\n",
       "      <td>...</td>\n",
       "      <td>...</td>\n",
       "    </tr>\n",
       "    <tr>\n",
       "      <th>20587</th>\n",
       "      <td>2021-08-20 19:00:00</td>\n",
       "      <td>29.3</td>\n",
       "      <td>0.0</td>\n",
       "      <td>63</td>\n",
       "      <td>0.14</td>\n",
       "      <td>2021-08-20</td>\n",
       "    </tr>\n",
       "    <tr>\n",
       "      <th>20588</th>\n",
       "      <td>2021-08-20 20:00:00</td>\n",
       "      <td>28.3</td>\n",
       "      <td>0.0</td>\n",
       "      <td>69</td>\n",
       "      <td>0.00</td>\n",
       "      <td>2021-08-20</td>\n",
       "    </tr>\n",
       "    <tr>\n",
       "      <th>20589</th>\n",
       "      <td>2021-08-20 21:00:00</td>\n",
       "      <td>27.7</td>\n",
       "      <td>0.0</td>\n",
       "      <td>74</td>\n",
       "      <td>NaN</td>\n",
       "      <td>2021-08-20</td>\n",
       "    </tr>\n",
       "    <tr>\n",
       "      <th>20590</th>\n",
       "      <td>2021-08-20 22:00:00</td>\n",
       "      <td>27.5</td>\n",
       "      <td>0.0</td>\n",
       "      <td>74</td>\n",
       "      <td>NaN</td>\n",
       "      <td>2021-08-20</td>\n",
       "    </tr>\n",
       "    <tr>\n",
       "      <th>20591</th>\n",
       "      <td>2021-08-20 23:00:00</td>\n",
       "      <td>27.4</td>\n",
       "      <td>0.0</td>\n",
       "      <td>74</td>\n",
       "      <td>NaN</td>\n",
       "      <td>2021-08-20</td>\n",
       "    </tr>\n",
       "  </tbody>\n",
       "</table>\n",
       "<p>20592 rows × 6 columns</p>\n",
       "</div>"
      ],
      "text/plain": [
       "      Local time in Jeju (airport)     T   WW   H     I        Date\n",
       "0              2019-04-16 00:00:00  11.7  0.0  47   NaN  2019-04-16\n",
       "1              2019-04-16 01:00:00  11.6  0.0  46   NaN  2019-04-16\n",
       "2              2019-04-16 02:00:00  11.4  0.0  46   NaN  2019-04-16\n",
       "3              2019-04-16 03:00:00  11.4  0.0  45   NaN  2019-04-16\n",
       "4              2019-04-16 04:00:00  11.1  0.0  44   NaN  2019-04-16\n",
       "...                            ...   ...  ...  ..   ...         ...\n",
       "20587          2021-08-20 19:00:00  29.3  0.0  63  0.14  2021-08-20\n",
       "20588          2021-08-20 20:00:00  28.3  0.0  69  0.00  2021-08-20\n",
       "20589          2021-08-20 21:00:00  27.7  0.0  74   NaN  2021-08-20\n",
       "20590          2021-08-20 22:00:00  27.5  0.0  74   NaN  2021-08-20\n",
       "20591          2021-08-20 23:00:00  27.4  0.0  74   NaN  2021-08-20\n",
       "\n",
       "[20592 rows x 6 columns]"
      ]
     },
     "execution_count": 7,
     "metadata": {},
     "output_type": "execute_result"
    }
   ],
   "source": [
    "weather"
   ]
  },
  {
   "cell_type": "code",
   "execution_count": 8,
   "metadata": {
    "scrolled": true
   },
   "outputs": [],
   "source": [
    "data = pd.read_csv('fulldata.csv', encoding='euc-kr')\n",
    "data.drop(['year','month'],axis=1,inplace=True)"
   ]
  },
  {
   "cell_type": "code",
   "execution_count": 9,
   "metadata": {
    "scrolled": true
   },
   "outputs": [],
   "source": [
    "place = pd.read_csv('station.csv', encoding='euc-kr') #길거리에 Iot 있는 킥보드가 있는 장소"
   ]
  },
  {
   "cell_type": "code",
   "execution_count": 10,
   "metadata": {},
   "outputs": [
    {
     "name": "stderr",
     "output_type": "stream",
     "text": [
      "C:\\Users\\mllab\\Anaconda3\\lib\\site-packages\\pandas\\core\\indexing.py:670: SettingWithCopyWarning: \n",
      "A value is trying to be set on a copy of a slice from a DataFrame\n",
      "\n",
      "See the caveats in the documentation: https://pandas.pydata.org/pandas-docs/stable/user_guide/indexing.html#returning-a-view-versus-a-copy\n",
      "  self._setitem_with_indexer(indexer, value)\n"
     ]
    }
   ],
   "source": [
    "data['Xpos'] = None\n",
    "data['Ypos']= None\n",
    "\n",
    "#위치 추가\n",
    "for i in range(len(data)):\n",
    "    for j in range(len(place)):\n",
    "        if(data['rent_station'].iloc[i] == place['id'].iloc[j]):\n",
    "            data['Xpos'].iloc[i] = float(round(place['x_pos'].iloc[j],3))\n",
    "            data['Ypos'].iloc[i] = float(round(place['y_pos'].iloc[j],3))"
   ]
  },
  {
   "cell_type": "code",
   "execution_count": 11,
   "metadata": {},
   "outputs": [],
   "source": [
    "data['Xpos'] = data['Xpos'].astype('float')\n",
    "data['Ypos'] = data['Ypos'].astype('float')"
   ]
  },
  {
   "cell_type": "code",
   "execution_count": 12,
   "metadata": {},
   "outputs": [],
   "source": [
    "# data = data.iloc[:11648]"
   ]
  },
  {
   "cell_type": "code",
   "execution_count": 13,
   "metadata": {},
   "outputs": [],
   "source": [
    "data = data.iloc[:11971]"
   ]
  },
  {
   "cell_type": "code",
   "execution_count": 14,
   "metadata": {},
   "outputs": [],
   "source": [
    "#data = data.iloc[138:] #2019-08-01~\n",
    "#data = data.iloc[385:] #2019-12-01~\n",
    "#data = data.iloc[592:] #2020-04-01~"
   ]
  },
  {
   "cell_type": "code",
   "execution_count": 15,
   "metadata": {},
   "outputs": [],
   "source": [
    "#data = data.iloc[887:] #일정한 수요가 생기는 2020-04-30일 이후 데이터를 자름"
   ]
  },
  {
   "cell_type": "code",
   "execution_count": 16,
   "metadata": {},
   "outputs": [],
   "source": [
    "data = data.dropna(axis=0).reset_index(drop=True)"
   ]
  },
  {
   "cell_type": "code",
   "execution_count": 17,
   "metadata": {},
   "outputs": [
    {
     "data": {
      "text/html": [
       "<div>\n",
       "<style scoped>\n",
       "    .dataframe tbody tr th:only-of-type {\n",
       "        vertical-align: middle;\n",
       "    }\n",
       "\n",
       "    .dataframe tbody tr th {\n",
       "        vertical-align: top;\n",
       "    }\n",
       "\n",
       "    .dataframe thead th {\n",
       "        text-align: right;\n",
       "    }\n",
       "</style>\n",
       "<table border=\"1\" class=\"dataframe\">\n",
       "  <thead>\n",
       "    <tr style=\"text-align: right;\">\n",
       "      <th></th>\n",
       "      <th>rent_date</th>\n",
       "      <th>rent_number</th>\n",
       "      <th>rent_station</th>\n",
       "      <th>day</th>\n",
       "      <th>day_name</th>\n",
       "      <th>Xpos</th>\n",
       "      <th>Ypos</th>\n",
       "    </tr>\n",
       "  </thead>\n",
       "  <tbody>\n",
       "    <tr>\n",
       "      <th>0</th>\n",
       "      <td>2019-04-16</td>\n",
       "      <td>1</td>\n",
       "      <td>EVS_000003</td>\n",
       "      <td>16</td>\n",
       "      <td>Tuesday</td>\n",
       "      <td>126.922</td>\n",
       "      <td>33.470</td>\n",
       "    </tr>\n",
       "    <tr>\n",
       "      <th>1</th>\n",
       "      <td>2019-04-20</td>\n",
       "      <td>2</td>\n",
       "      <td>EVS_000001</td>\n",
       "      <td>20</td>\n",
       "      <td>Saturday</td>\n",
       "      <td>126.499</td>\n",
       "      <td>33.518</td>\n",
       "    </tr>\n",
       "    <tr>\n",
       "      <th>2</th>\n",
       "      <td>2019-04-21</td>\n",
       "      <td>2</td>\n",
       "      <td>EVS_000001</td>\n",
       "      <td>21</td>\n",
       "      <td>Sunday</td>\n",
       "      <td>126.499</td>\n",
       "      <td>33.518</td>\n",
       "    </tr>\n",
       "    <tr>\n",
       "      <th>3</th>\n",
       "      <td>2019-04-24</td>\n",
       "      <td>2</td>\n",
       "      <td>EVS_000003</td>\n",
       "      <td>24</td>\n",
       "      <td>Wednesday</td>\n",
       "      <td>126.922</td>\n",
       "      <td>33.470</td>\n",
       "    </tr>\n",
       "    <tr>\n",
       "      <th>4</th>\n",
       "      <td>2019-04-25</td>\n",
       "      <td>3</td>\n",
       "      <td>EVS_000003</td>\n",
       "      <td>25</td>\n",
       "      <td>Thursday</td>\n",
       "      <td>126.922</td>\n",
       "      <td>33.470</td>\n",
       "    </tr>\n",
       "    <tr>\n",
       "      <th>...</th>\n",
       "      <td>...</td>\n",
       "      <td>...</td>\n",
       "      <td>...</td>\n",
       "      <td>...</td>\n",
       "      <td>...</td>\n",
       "      <td>...</td>\n",
       "      <td>...</td>\n",
       "    </tr>\n",
       "    <tr>\n",
       "      <th>11966</th>\n",
       "      <td>2021-06-11</td>\n",
       "      <td>1</td>\n",
       "      <td>EVS_000260</td>\n",
       "      <td>11</td>\n",
       "      <td>Friday</td>\n",
       "      <td>126.496</td>\n",
       "      <td>33.485</td>\n",
       "    </tr>\n",
       "    <tr>\n",
       "      <th>11967</th>\n",
       "      <td>2021-06-11</td>\n",
       "      <td>1</td>\n",
       "      <td>EVS_000115</td>\n",
       "      <td>11</td>\n",
       "      <td>Friday</td>\n",
       "      <td>126.484</td>\n",
       "      <td>33.513</td>\n",
       "    </tr>\n",
       "    <tr>\n",
       "      <th>11968</th>\n",
       "      <td>2021-06-11</td>\n",
       "      <td>1</td>\n",
       "      <td>EVS_000381</td>\n",
       "      <td>11</td>\n",
       "      <td>Friday</td>\n",
       "      <td>126.859</td>\n",
       "      <td>33.525</td>\n",
       "    </tr>\n",
       "    <tr>\n",
       "      <th>11969</th>\n",
       "      <td>2021-06-11</td>\n",
       "      <td>1</td>\n",
       "      <td>EVS_000339</td>\n",
       "      <td>11</td>\n",
       "      <td>Friday</td>\n",
       "      <td>126.494</td>\n",
       "      <td>33.520</td>\n",
       "    </tr>\n",
       "    <tr>\n",
       "      <th>11970</th>\n",
       "      <td>2021-06-11</td>\n",
       "      <td>1</td>\n",
       "      <td>EVS_000138</td>\n",
       "      <td>11</td>\n",
       "      <td>Friday</td>\n",
       "      <td>126.527</td>\n",
       "      <td>33.517</td>\n",
       "    </tr>\n",
       "  </tbody>\n",
       "</table>\n",
       "<p>11971 rows × 7 columns</p>\n",
       "</div>"
      ],
      "text/plain": [
       "        rent_date  rent_number rent_station  day   day_name     Xpos    Ypos\n",
       "0      2019-04-16            1   EVS_000003   16    Tuesday  126.922  33.470\n",
       "1      2019-04-20            2   EVS_000001   20   Saturday  126.499  33.518\n",
       "2      2019-04-21            2   EVS_000001   21     Sunday  126.499  33.518\n",
       "3      2019-04-24            2   EVS_000003   24  Wednesday  126.922  33.470\n",
       "4      2019-04-25            3   EVS_000003   25   Thursday  126.922  33.470\n",
       "...           ...          ...          ...  ...        ...      ...     ...\n",
       "11966  2021-06-11            1   EVS_000260   11     Friday  126.496  33.485\n",
       "11967  2021-06-11            1   EVS_000115   11     Friday  126.484  33.513\n",
       "11968  2021-06-11            1   EVS_000381   11     Friday  126.859  33.525\n",
       "11969  2021-06-11            1   EVS_000339   11     Friday  126.494  33.520\n",
       "11970  2021-06-11            1   EVS_000138   11     Friday  126.527  33.517\n",
       "\n",
       "[11971 rows x 7 columns]"
      ]
     },
     "execution_count": 17,
     "metadata": {},
     "output_type": "execute_result"
    }
   ],
   "source": [
    "data"
   ]
  },
  {
   "cell_type": "markdown",
   "metadata": {},
   "source": [
    "## 지역 여러개 데이터 분할"
   ]
  },
  {
   "cell_type": "code",
   "execution_count": 18,
   "metadata": {},
   "outputs": [],
   "source": [
    "NineSector_data = data.copy()\n",
    "TwoSector_data = data.copy()\n",
    "OneSector_data = data.copy()\n",
    "FourSector_data = data.copy()\n",
    "OneSector_data['Sector'] = 0"
   ]
  },
  {
   "cell_type": "markdown",
   "metadata": {},
   "source": [
    "# ========================================================"
   ]
  },
  {
   "cell_type": "code",
   "execution_count": 19,
   "metadata": {},
   "outputs": [],
   "source": [
    "def preprocessing(data):\n",
    "    data['rent_date'] = pd.to_datetime(data['rent_date'], format='%Y-%m-%d %H:%M:%S', errors='raise')\n",
    "    data['year'] =data['rent_date'].dt.year\n",
    "    data['month'] =data['rent_date'].dt.month\n",
    "    data['day'] =data['rent_date'].dt.day\n",
    "    data['day_name'] = data['rent_date'].dt.day_name()\n",
    "    data = data.sort_values(by='rent_date')\n",
    "    data['rent_date'] = data['rent_date'].astype(str)\n",
    "    data['T'] = None\n",
    "    data['rain'] = None\n",
    "    data['H'] = None\n",
    "    data['I'] = None\n",
    "    return data"
   ]
  },
  {
   "cell_type": "code",
   "execution_count": 20,
   "metadata": {},
   "outputs": [],
   "source": [
    "def temp_rain_preprocessing(data,length,temp_length):\n",
    "    for i in range(temp_length):\n",
    "        for j in range(length):\n",
    "            if(data['rent_date'].iloc[j] == temp_rain['Date'].iloc[i]):\n",
    "                data['T'].iloc[j] = temp_rain['T'].iloc[i]\n",
    "                data['H'].iloc[j] = temp_rain['H'].iloc[i]\n",
    "                data['I'].iloc[j] = temp_rain['I'].iloc[i]                \n",
    "                data['rain'].iloc[j] = temp_rain['rain'].iloc[i]\n",
    "                if(data['rain'].iloc[j]<=0):\n",
    "                    data['rain'].iloc[j] = 0\n",
    "                if((data['rain'].iloc[j]>0) or (data['rain'].iloc[j]<=10)):\n",
    "                    data['rain'].iloc[j] = 1\n",
    "                else:\n",
    "                    data['rain'].iloc[j] = 2\n",
    "    data['T'] = data['T'].astype(float)\n",
    "    data['H'] = data['H'].astype(float)\n",
    "    data['I'] = data['I'].astype(float)\n",
    "    data['rent_date']=pd.to_datetime(data['rent_date'])\n",
    "    return data"
   ]
  },
  {
   "cell_type": "code",
   "execution_count": 21,
   "metadata": {},
   "outputs": [],
   "source": [
    "def holiday_preprocessing(data, length):\n",
    "    data['holiday'] = None\n",
    "    for i in range(length):\n",
    "        if((data['rent_date'].iloc[i]==datetime.datetime(2019,5,5)) or \n",
    "           (data['rent_date'].iloc[i]==datetime.datetime(2019,5,6)) or \n",
    "           (data['rent_date'].iloc[i]==datetime.datetime(2019,5,12)) or\n",
    "           (data['rent_date'].iloc[i]==datetime.datetime(2019,6,6)) or\n",
    "           (data['rent_date'].iloc[i]==datetime.datetime(2019,8,15)) or\n",
    "           (data['rent_date'].iloc[i]==datetime.datetime(2019,9,12)) or\n",
    "           (data['rent_date'].iloc[i]==datetime.datetime(2019,9,13)) or\n",
    "           (data['rent_date'].iloc[i]==datetime.datetime(2019,9,14)) or\n",
    "           (data['rent_date'].iloc[i]==datetime.datetime(2019,10,3)) or\n",
    "           (data['rent_date'].iloc[i]==datetime.datetime(2019,10,9)) or\n",
    "           (data['rent_date'].iloc[i]==datetime.datetime(2019,12,25)) or\n",
    "           (data['rent_date'].iloc[i]==datetime.datetime(2020,1,1)) or\n",
    "           (data['rent_date'].iloc[i]==datetime.datetime(2020,1,24)) or\n",
    "           (data['rent_date'].iloc[i]==datetime.datetime(2020,1,25)) or\n",
    "           (data['rent_date'].iloc[i]==datetime.datetime(2020,1,26)) or\n",
    "           (data['rent_date'].iloc[i]==datetime.datetime(2020,3,1)) or\n",
    "           (data['rent_date'].iloc[i]==datetime.datetime(2020,4,15)) or\n",
    "           (data['rent_date'].iloc[i]==datetime.datetime(2020,4,30)) or\n",
    "           (data['rent_date'].iloc[i]==datetime.datetime(2020,5,5)) or\n",
    "           (data['rent_date'].iloc[i]==datetime.datetime(2020,6,6)) or\n",
    "           (data['rent_date'].iloc[i]==datetime.datetime(2020,8,15)) or\n",
    "           (data['rent_date'].iloc[i]==datetime.datetime(2020,9,30)) or\n",
    "           (data['rent_date'].iloc[i]==datetime.datetime(2020,10,1)) or\n",
    "           (data['rent_date'].iloc[i]==datetime.datetime(2020,10,2)) or\n",
    "           (data['rent_date'].iloc[i]==datetime.datetime(2020,10,3)) or\n",
    "           (data['rent_date'].iloc[i]==datetime.datetime(2020,10,9)) or\n",
    "           (data['rent_date'].iloc[i]==datetime.datetime(2020,12,25)) or\n",
    "           (data['rent_date'].iloc[i]==datetime.datetime(2021,1,1)) or\n",
    "           (data['rent_date'].iloc[i]==datetime.datetime(2021,2,11)) or\n",
    "           (data['rent_date'].iloc[i]==datetime.datetime(2021,2,12)) or\n",
    "           (data['rent_date'].iloc[i]==datetime.datetime(2021,2,13)) or\n",
    "           (data['rent_date'].iloc[i]==datetime.datetime(2021,3,1)) or\n",
    "           (data['rent_date'].iloc[i]==datetime.datetime(2021,5,5)) or\n",
    "           (data['rent_date'].iloc[i]==datetime.datetime(2021,5,19)) or\n",
    "           (data['rent_date'].iloc[i]==datetime.datetime(2021,6,6)) or\n",
    "           (data['rent_date'].iloc[i]==datetime.datetime(2021,8,15)) or\n",
    "           (data['rent_date'].iloc[i]==datetime.datetime(2021,8,16)) or\n",
    "           (data['rent_date'].iloc[i]==datetime.datetime(2021,9,20)) or\n",
    "           (data['rent_date'].iloc[i]==datetime.datetime(2021,9,21)) or\n",
    "           (data['rent_date'].iloc[i]==datetime.datetime(2021,9,22))):\n",
    "            data['holiday'].iloc[i] = 1\n",
    "        else:\n",
    "            data['holiday'].iloc[i] = 0\n",
    "    data['holiday']=data['holiday'].astype(int)\n",
    "    return data"
   ]
  },
  {
   "cell_type": "code",
   "execution_count": 22,
   "metadata": {},
   "outputs": [],
   "source": [
    "def weekend_weekday_preprocessing(data,length):\n",
    "    data['weekend'] = None\n",
    "    for i in range(length):\n",
    "        if(('Friday' == data['day_name'].iloc[i]) or ('Saturday'== data['day_name'].iloc[i]) or ('Sunday' == data['day_name'].iloc[i])):\n",
    "            data['weekend'].iloc[i] = 1\n",
    "        else:\n",
    "            data['weekend'].iloc[i] = 0\n",
    "\n",
    "    data['weekend']=data['weekend'].astype(int)\n",
    "    return data"
   ]
  },
  {
   "cell_type": "code",
   "execution_count": 23,
   "metadata": {},
   "outputs": [],
   "source": [
    "def dummy_preprocessing(data):\n",
    "    data = pd.get_dummies(data, columns=['Sector'])\n",
    "    return data"
   ]
  },
  {
   "cell_type": "code",
   "execution_count": 24,
   "metadata": {},
   "outputs": [],
   "source": [
    "# def dummy_preprocessing(data):\n",
    "#     data['weekday'] = data['rent_date'].dt.weekday\n",
    "#     data = pd.get_dummies(data,columns=['weekday'])\n",
    "#     data = pd.get_dummies(data,columns=['month'])\n",
    "#     data = pd.get_dummies(data,columns=['year'])\n",
    "#     return data"
   ]
  },
  {
   "cell_type": "code",
   "execution_count": 25,
   "metadata": {},
   "outputs": [],
   "source": [
    "def WholePreprocessing(data):\n",
    "    data = data.groupby(['rent_date','Sector'],as_index=False).sum()\n",
    "    length = len(data)\n",
    "    temp_length = len(temp_rain)\n",
    "    data = preprocessing(data)\n",
    "    data = temp_rain_preprocessing(data,length,temp_length)\n",
    "    data = weekend_weekday_preprocessing(data,length)\n",
    "    data = dummy_preprocessing(data)\n",
    "    data = holiday_preprocessing(data, length)\n",
    "    data.drop(['day_name','Xpos','Ypos'],axis=1,inplace=True)\n",
    "    return data"
   ]
  },
  {
   "cell_type": "markdown",
   "metadata": {},
   "source": [
    "# 지역 한개 모델"
   ]
  },
  {
   "cell_type": "code",
   "execution_count": 26,
   "metadata": {},
   "outputs": [
    {
     "name": "stderr",
     "output_type": "stream",
     "text": [
      "[MLENS] backend: threading\n"
     ]
    }
   ],
   "source": [
    "import xgboost as xgb\n",
    "from sklearn.model_selection import train_test_split\n",
    "from sklearn.multioutput import MultiOutputRegressor\n",
    "from sklearn.metrics import explained_variance_score\n",
    "from sklearn.metrics import make_scorer, mean_squared_error,r2_score\n",
    "from sklearn.model_selection import cross_val_score\n",
    "from math import sqrt\n",
    "import lightgbm as lgb\n",
    "from sklearn.ensemble import RandomForestRegressor\n",
    "from catboost import CatBoostRegressor\n",
    "from mlens.ensemble import BlendEnsemble\n",
    "from sklearn.linear_model import LinearRegression\n",
    "from mlens.ensemble import SuperLearner\n",
    "from sklearn.metrics import mean_absolute_error"
   ]
  },
  {
   "cell_type": "code",
   "execution_count": 27,
   "metadata": {},
   "outputs": [],
   "source": [
    "# def Scatter(data):\n",
    "#     plt.figure(figsize=(12,8))\n",
    "#     data = data.groupby(['Xpos', 'Ypos', 'Sector'], as_index=False).sum()\n",
    "#     num = data['rent_number'].to_numpy()\n",
    "#     area = num*6\n",
    "#     plt.xlabel('Longitude', fontsize=14)\n",
    "#     plt.ylabel('Latitude', fontsize=14)\n",
    "#     plt.yticks(fontsize=14)\n",
    "#     plt.xticks(fontsize=14)\n",
    "#     sns.scatterplot(x='Xpos',y ='Ypos',hue='Sector',data=data,s=area, alpha=0.5)"
   ]
  },
  {
   "cell_type": "code",
   "execution_count": 28,
   "metadata": {},
   "outputs": [],
   "source": [
    "def Scatter(data):\n",
    "    plt.figure(figsize=(12,8))\n",
    "    data = data.groupby(['Xpos', 'Ypos'], as_index=False).sum()\n",
    "    num = data['rent_number'].to_numpy()\n",
    "    area = num*6\n",
    "    sns.scatterplot(x='Xpos',y ='Ypos',hue='Sector',data=data,s=area, alpha=0.5)\n",
    "    centers = pd.DataFrame(kmeans.cluster_centers_,columns=['Sepal length','Sepal width'])\n",
    "    center_x = centers['Sepal length']\n",
    "    center_y = centers['Sepal width']\n",
    "    plt.xlabel('Longitude', fontsize=20)\n",
    "    plt.ylabel('Latitude', fontsize=20)\n",
    "    plt.yticks(fontsize=20)\n",
    "    plt.xticks(fontsize=20)\n",
    "    plt.scatter(center_x,center_y,s=250,marker='D',c='r')\n",
    "    plt.legend([],[], frameon=False)"
   ]
  },
  {
   "cell_type": "code",
   "execution_count": 29,
   "metadata": {},
   "outputs": [],
   "source": [
    "def Plot(xgb_preds,y_test):\n",
    "\n",
    "    fig, axes = plt.subplots(1,1,figsize=(8,4))\n",
    "    axes.plot(xgb_preds,'r',label='predictions_value')\n",
    "    axes.plot(y_test,label='real_value')\n",
    "    axes.set_xlabel('Date')\n",
    "    axes.set_ylabel('Rent Count')\n",
    "    plt.tight_layout()\n",
    "    axes.legend()\n",
    "    plt.show()"
   ]
  },
  {
   "cell_type": "code",
   "execution_count": 30,
   "metadata": {},
   "outputs": [],
   "source": [
    "# from scipy.signal import savgol_filter\n",
    "# def Smoothing(data):\n",
    "#     x = data['rent_number'].to_numpy()\n",
    "#     x = savgol_filter(x, 3, 2)\n",
    "#     data['rent_number'] = x\n",
    "#     data['rent_number'] = data['rent_number'].astype(float)\n",
    "#     return data"
   ]
  },
  {
   "cell_type": "code",
   "execution_count": 31,
   "metadata": {
    "scrolled": true
   },
   "outputs": [
    {
     "name": "stderr",
     "output_type": "stream",
     "text": [
      "C:\\Users\\mllab\\Anaconda3\\lib\\site-packages\\pandas\\core\\indexing.py:670: SettingWithCopyWarning: \n",
      "A value is trying to be set on a copy of a slice from a DataFrame\n",
      "\n",
      "See the caveats in the documentation: https://pandas.pydata.org/pandas-docs/stable/user_guide/indexing.html#returning-a-view-versus-a-copy\n",
      "  self._setitem_with_indexer(indexer, value)\n"
     ]
    }
   ],
   "source": [
    "OneSector_data = OneSector_data.groupby(['rent_date','Sector'],as_index=False).sum()\n",
    "OneSector_data = WholePreprocessing(OneSector_data)\n",
    "#OneSector_data = Smoothing(OneSector_data)"
   ]
  },
  {
   "cell_type": "code",
   "execution_count": 32,
   "metadata": {},
   "outputs": [],
   "source": [
    "OneSector_data['rain'] = OneSector_data['rain'].astype(str).astype(int)"
   ]
  },
  {
   "cell_type": "code",
   "execution_count": 33,
   "metadata": {},
   "outputs": [],
   "source": [
    "from sklearn.cluster import KMeans\n",
    "from sklearn.cluster import MiniBatchKMeans\n",
    "Two_points = pd.DataFrame().reset_index(drop=True)\n",
    "Two_points['Xpos'] = TwoSector_data['Xpos']\n",
    "Two_points['Ypos'] = TwoSector_data['Ypos']\n",
    "kmeans = KMeans(n_clusters=2, random_state=np.random.RandomState(seed=1))\n",
    "kmeans.fit(Two_points)\n",
    "TwoSector_data['Sector'] = kmeans.labels_"
   ]
  },
  {
   "cell_type": "code",
   "execution_count": 34,
   "metadata": {
    "scrolled": false
   },
   "outputs": [
    {
     "name": "stderr",
     "output_type": "stream",
     "text": [
      "C:\\Users\\mllab\\Anaconda3\\lib\\site-packages\\pandas\\core\\indexing.py:670: SettingWithCopyWarning: \n",
      "A value is trying to be set on a copy of a slice from a DataFrame\n",
      "\n",
      "See the caveats in the documentation: https://pandas.pydata.org/pandas-docs/stable/user_guide/indexing.html#returning-a-view-versus-a-copy\n",
      "  self._setitem_with_indexer(indexer, value)\n"
     ]
    }
   ],
   "source": [
    "TwoSector_data = WholePreprocessing(TwoSector_data)\n",
    "#TwoSector_data = Smoothing(TwoSector_data)"
   ]
  },
  {
   "cell_type": "code",
   "execution_count": 35,
   "metadata": {},
   "outputs": [],
   "source": [
    "TwoSector_data['rain'] = TwoSector_data['rain'].astype(str).astype(int)"
   ]
  },
  {
   "cell_type": "code",
   "execution_count": 36,
   "metadata": {},
   "outputs": [],
   "source": [
    "from sklearn.cluster import KMeans\n",
    "Four_points = pd.DataFrame().reset_index(drop=True)\n",
    "Four_points['Xpos'] = FourSector_data['Xpos']\n",
    "Four_points['Ypos'] = FourSector_data['Ypos']\n",
    "kmeans = KMeans(n_clusters=4, random_state=np.random.RandomState(seed=1))\n",
    "kmeans.fit(Four_points)\n",
    "FourSector_data['Sector'] = kmeans.labels_"
   ]
  },
  {
   "cell_type": "code",
   "execution_count": 37,
   "metadata": {},
   "outputs": [
    {
     "name": "stderr",
     "output_type": "stream",
     "text": [
      "C:\\Users\\mllab\\Anaconda3\\lib\\site-packages\\pandas\\core\\indexing.py:670: SettingWithCopyWarning: \n",
      "A value is trying to be set on a copy of a slice from a DataFrame\n",
      "\n",
      "See the caveats in the documentation: https://pandas.pydata.org/pandas-docs/stable/user_guide/indexing.html#returning-a-view-versus-a-copy\n",
      "  self._setitem_with_indexer(indexer, value)\n"
     ]
    }
   ],
   "source": [
    "FourSector_data = WholePreprocessing(FourSector_data)\n",
    "#FourSector_data = Smoothing(FourSector_data)"
   ]
  },
  {
   "cell_type": "code",
   "execution_count": 38,
   "metadata": {},
   "outputs": [],
   "source": [
    "FourSector_data['rain'] = FourSector_data['rain'].astype(str).astype(int)"
   ]
  },
  {
   "cell_type": "code",
   "execution_count": 39,
   "metadata": {},
   "outputs": [
    {
     "data": {
      "text/html": [
       "<div>\n",
       "<style scoped>\n",
       "    .dataframe tbody tr th:only-of-type {\n",
       "        vertical-align: middle;\n",
       "    }\n",
       "\n",
       "    .dataframe tbody tr th {\n",
       "        vertical-align: top;\n",
       "    }\n",
       "\n",
       "    .dataframe thead th {\n",
       "        text-align: right;\n",
       "    }\n",
       "</style>\n",
       "<table border=\"1\" class=\"dataframe\">\n",
       "  <thead>\n",
       "    <tr style=\"text-align: right;\">\n",
       "      <th></th>\n",
       "      <th>rent_date</th>\n",
       "      <th>rent_number</th>\n",
       "      <th>day</th>\n",
       "      <th>year</th>\n",
       "      <th>month</th>\n",
       "      <th>T</th>\n",
       "      <th>rain</th>\n",
       "      <th>H</th>\n",
       "      <th>I</th>\n",
       "      <th>weekend</th>\n",
       "      <th>Sector_0</th>\n",
       "      <th>holiday</th>\n",
       "    </tr>\n",
       "  </thead>\n",
       "  <tbody>\n",
       "    <tr>\n",
       "      <th>0</th>\n",
       "      <td>2019-04-16</td>\n",
       "      <td>1</td>\n",
       "      <td>16</td>\n",
       "      <td>2019</td>\n",
       "      <td>4</td>\n",
       "      <td>16.479167</td>\n",
       "      <td>1</td>\n",
       "      <td>45.375000</td>\n",
       "      <td>1.387857</td>\n",
       "      <td>0</td>\n",
       "      <td>1</td>\n",
       "      <td>0</td>\n",
       "    </tr>\n",
       "    <tr>\n",
       "      <th>1</th>\n",
       "      <td>2019-04-20</td>\n",
       "      <td>2</td>\n",
       "      <td>20</td>\n",
       "      <td>2019</td>\n",
       "      <td>4</td>\n",
       "      <td>17.125000</td>\n",
       "      <td>1</td>\n",
       "      <td>76.375000</td>\n",
       "      <td>1.622000</td>\n",
       "      <td>1</td>\n",
       "      <td>1</td>\n",
       "      <td>0</td>\n",
       "    </tr>\n",
       "    <tr>\n",
       "      <th>2</th>\n",
       "      <td>2019-04-21</td>\n",
       "      <td>2</td>\n",
       "      <td>21</td>\n",
       "      <td>2019</td>\n",
       "      <td>4</td>\n",
       "      <td>18.308333</td>\n",
       "      <td>1</td>\n",
       "      <td>69.625000</td>\n",
       "      <td>1.358000</td>\n",
       "      <td>1</td>\n",
       "      <td>1</td>\n",
       "      <td>0</td>\n",
       "    </tr>\n",
       "    <tr>\n",
       "      <th>3</th>\n",
       "      <td>2019-04-24</td>\n",
       "      <td>2</td>\n",
       "      <td>24</td>\n",
       "      <td>2019</td>\n",
       "      <td>4</td>\n",
       "      <td>18.420833</td>\n",
       "      <td>1</td>\n",
       "      <td>86.083333</td>\n",
       "      <td>1.126667</td>\n",
       "      <td>0</td>\n",
       "      <td>1</td>\n",
       "      <td>0</td>\n",
       "    </tr>\n",
       "    <tr>\n",
       "      <th>4</th>\n",
       "      <td>2019-04-25</td>\n",
       "      <td>3</td>\n",
       "      <td>25</td>\n",
       "      <td>2019</td>\n",
       "      <td>4</td>\n",
       "      <td>15.937500</td>\n",
       "      <td>1</td>\n",
       "      <td>90.833333</td>\n",
       "      <td>0.678667</td>\n",
       "      <td>0</td>\n",
       "      <td>1</td>\n",
       "      <td>0</td>\n",
       "    </tr>\n",
       "    <tr>\n",
       "      <th>...</th>\n",
       "      <td>...</td>\n",
       "      <td>...</td>\n",
       "      <td>...</td>\n",
       "      <td>...</td>\n",
       "      <td>...</td>\n",
       "      <td>...</td>\n",
       "      <td>...</td>\n",
       "      <td>...</td>\n",
       "      <td>...</td>\n",
       "      <td>...</td>\n",
       "      <td>...</td>\n",
       "      <td>...</td>\n",
       "    </tr>\n",
       "    <tr>\n",
       "      <th>712</th>\n",
       "      <td>2021-06-07</td>\n",
       "      <td>117</td>\n",
       "      <td>7</td>\n",
       "      <td>2021</td>\n",
       "      <td>6</td>\n",
       "      <td>21.733333</td>\n",
       "      <td>1</td>\n",
       "      <td>74.000000</td>\n",
       "      <td>1.834000</td>\n",
       "      <td>0</td>\n",
       "      <td>1</td>\n",
       "      <td>0</td>\n",
       "    </tr>\n",
       "    <tr>\n",
       "      <th>713</th>\n",
       "      <td>2021-06-08</td>\n",
       "      <td>117</td>\n",
       "      <td>8</td>\n",
       "      <td>2021</td>\n",
       "      <td>6</td>\n",
       "      <td>24.104167</td>\n",
       "      <td>1</td>\n",
       "      <td>73.750000</td>\n",
       "      <td>1.791333</td>\n",
       "      <td>0</td>\n",
       "      <td>1</td>\n",
       "      <td>0</td>\n",
       "    </tr>\n",
       "    <tr>\n",
       "      <th>714</th>\n",
       "      <td>2021-06-09</td>\n",
       "      <td>143</td>\n",
       "      <td>9</td>\n",
       "      <td>2021</td>\n",
       "      <td>6</td>\n",
       "      <td>26.404167</td>\n",
       "      <td>1</td>\n",
       "      <td>74.416667</td>\n",
       "      <td>1.767333</td>\n",
       "      <td>0</td>\n",
       "      <td>1</td>\n",
       "      <td>0</td>\n",
       "    </tr>\n",
       "    <tr>\n",
       "      <th>715</th>\n",
       "      <td>2021-06-10</td>\n",
       "      <td>57</td>\n",
       "      <td>10</td>\n",
       "      <td>2021</td>\n",
       "      <td>6</td>\n",
       "      <td>25.462500</td>\n",
       "      <td>1</td>\n",
       "      <td>70.541667</td>\n",
       "      <td>0.567333</td>\n",
       "      <td>0</td>\n",
       "      <td>1</td>\n",
       "      <td>0</td>\n",
       "    </tr>\n",
       "    <tr>\n",
       "      <th>716</th>\n",
       "      <td>2021-06-11</td>\n",
       "      <td>22</td>\n",
       "      <td>11</td>\n",
       "      <td>2021</td>\n",
       "      <td>6</td>\n",
       "      <td>21.937500</td>\n",
       "      <td>1</td>\n",
       "      <td>94.916667</td>\n",
       "      <td>0.444000</td>\n",
       "      <td>1</td>\n",
       "      <td>1</td>\n",
       "      <td>0</td>\n",
       "    </tr>\n",
       "  </tbody>\n",
       "</table>\n",
       "<p>717 rows × 12 columns</p>\n",
       "</div>"
      ],
      "text/plain": [
       "     rent_date  rent_number  day  year  month          T  rain          H  \\\n",
       "0   2019-04-16            1   16  2019      4  16.479167     1  45.375000   \n",
       "1   2019-04-20            2   20  2019      4  17.125000     1  76.375000   \n",
       "2   2019-04-21            2   21  2019      4  18.308333     1  69.625000   \n",
       "3   2019-04-24            2   24  2019      4  18.420833     1  86.083333   \n",
       "4   2019-04-25            3   25  2019      4  15.937500     1  90.833333   \n",
       "..         ...          ...  ...   ...    ...        ...   ...        ...   \n",
       "712 2021-06-07          117    7  2021      6  21.733333     1  74.000000   \n",
       "713 2021-06-08          117    8  2021      6  24.104167     1  73.750000   \n",
       "714 2021-06-09          143    9  2021      6  26.404167     1  74.416667   \n",
       "715 2021-06-10           57   10  2021      6  25.462500     1  70.541667   \n",
       "716 2021-06-11           22   11  2021      6  21.937500     1  94.916667   \n",
       "\n",
       "            I  weekend  Sector_0  holiday  \n",
       "0    1.387857        0         1        0  \n",
       "1    1.622000        1         1        0  \n",
       "2    1.358000        1         1        0  \n",
       "3    1.126667        0         1        0  \n",
       "4    0.678667        0         1        0  \n",
       "..        ...      ...       ...      ...  \n",
       "712  1.834000        0         1        0  \n",
       "713  1.791333        0         1        0  \n",
       "714  1.767333        0         1        0  \n",
       "715  0.567333        0         1        0  \n",
       "716  0.444000        1         1        0  \n",
       "\n",
       "[717 rows x 12 columns]"
      ]
     },
     "execution_count": 39,
     "metadata": {},
     "output_type": "execute_result"
    }
   ],
   "source": [
    "OneSector_data"
   ]
  },
  {
   "cell_type": "code",
   "execution_count": 40,
   "metadata": {},
   "outputs": [],
   "source": [
    "One_error = []"
   ]
  },
  {
   "cell_type": "code",
   "execution_count": 41,
   "metadata": {},
   "outputs": [],
   "source": [
    "for i in range(208, 700):\n",
    "    X_data = OneSector_data.drop(['rent_date','rent_number'],axis=1)\n",
    "    y_data = OneSector_data['rent_number']\n",
    "    X_train = X_data.iloc[:i]\n",
    "    y_train = y_data.iloc[:i]\n",
    "    X_test = X_data.iloc[i:i+1]\n",
    "    y_test = y_data.iloc[i:i+1]\n",
    "    xlf = lgb.LGBMRegressor()\n",
    "    xlf.fit(X_train, y_train)\n",
    "    pred = xlf.predict(X_test)\n",
    "    pred = pred.astype(float)\n",
    "    One_error.append(abs(y_test.iloc[0]-pred[0]))"
   ]
  },
  {
   "cell_type": "code",
   "execution_count": 42,
   "metadata": {},
   "outputs": [],
   "source": [
    "OneSector_data['error'] = None"
   ]
  },
  {
   "cell_type": "code",
   "execution_count": 43,
   "metadata": {},
   "outputs": [
    {
     "name": "stderr",
     "output_type": "stream",
     "text": [
      "C:\\Users\\mllab\\Anaconda3\\lib\\site-packages\\pandas\\core\\indexing.py:670: SettingWithCopyWarning: \n",
      "A value is trying to be set on a copy of a slice from a DataFrame\n",
      "\n",
      "See the caveats in the documentation: https://pandas.pydata.org/pandas-docs/stable/user_guide/indexing.html#returning-a-view-versus-a-copy\n",
      "  self._setitem_with_indexer(indexer, value)\n"
     ]
    }
   ],
   "source": [
    "OneSector_data['error'].iloc[208:700] = One_error"
   ]
  },
  {
   "cell_type": "code",
   "execution_count": 44,
   "metadata": {},
   "outputs": [],
   "source": [
    "OneSector_pred = OneSector_data.iloc[208:]"
   ]
  },
  {
   "cell_type": "code",
   "execution_count": 45,
   "metadata": {},
   "outputs": [],
   "source": [
    "OneSector_pred = OneSector_pred.reset_index(drop=True, inplace=False)"
   ]
  },
  {
   "cell_type": "code",
   "execution_count": 46,
   "metadata": {},
   "outputs": [],
   "source": [
    "OneSector_pred['error'] = OneSector_pred['error'].astype(float)"
   ]
  },
  {
   "cell_type": "code",
   "execution_count": 47,
   "metadata": {
    "scrolled": true
   },
   "outputs": [],
   "source": [
    "for i in range(492, 509):\n",
    "    X_data = OneSector_pred.drop(['rent_date','rent_number','error'],axis=1)\n",
    "    y_data = OneSector_pred['error']\n",
    "    X_train = X_data.iloc[:i]\n",
    "    y_train = y_data.iloc[:i]\n",
    "    X_test = X_data.iloc[i:i+1]\n",
    "    xlf = lgb.LGBMRegressor()\n",
    "    xlf.fit(X_train, y_train)\n",
    "    pred = xlf.predict(X_test)\n",
    "    pred = pred.astype(float)\n",
    "    OneSector_pred['error'].iloc[i] = pred"
   ]
  },
  {
   "cell_type": "code",
   "execution_count": 48,
   "metadata": {},
   "outputs": [],
   "source": [
    "One_result = []"
   ]
  },
  {
   "cell_type": "code",
   "execution_count": 49,
   "metadata": {},
   "outputs": [],
   "source": [
    "for i in range(492, 509):\n",
    "    X_data = OneSector_pred.drop(['rent_date','rent_number'],axis=1)\n",
    "    y_data = OneSector_pred['rent_number']\n",
    "    X_train = X_data.iloc[:i]\n",
    "    y_train = y_data.iloc[:i]\n",
    "    X_test = X_data.iloc[i:i+1]\n",
    "    y_test = y_data.iloc[i:i+1]\n",
    "    xlf = lgb.LGBMRegressor()\n",
    "    xlf.fit(X_train, y_train)\n",
    "    pred = xlf.predict(X_test)\n",
    "    pred = pred.astype(float)\n",
    "    One_result.append(pred[0])"
   ]
  },
  {
   "cell_type": "code",
   "execution_count": 50,
   "metadata": {},
   "outputs": [],
   "source": [
    "OneSector_result = OneSector_pred[492:]"
   ]
  },
  {
   "cell_type": "code",
   "execution_count": 51,
   "metadata": {},
   "outputs": [
    {
     "name": "stderr",
     "output_type": "stream",
     "text": [
      "C:\\Users\\mllab\\Anaconda3\\lib\\site-packages\\ipykernel_launcher.py:1: SettingWithCopyWarning: \n",
      "A value is trying to be set on a copy of a slice from a DataFrame.\n",
      "Try using .loc[row_indexer,col_indexer] = value instead\n",
      "\n",
      "See the caveats in the documentation: https://pandas.pydata.org/pandas-docs/stable/user_guide/indexing.html#returning-a-view-versus-a-copy\n",
      "  \"\"\"Entry point for launching an IPython kernel.\n"
     ]
    }
   ],
   "source": [
    "OneSector_result['pred'] = One_result"
   ]
  },
  {
   "cell_type": "code",
   "execution_count": 52,
   "metadata": {},
   "outputs": [
    {
     "data": {
      "image/png": "[encoded data removed]",
      "text/plain": [
       "<Figure size 576x288 with 1 Axes>"
      ]
     },
     "metadata": {
      "needs_background": "light"
     },
     "output_type": "display_data"
    }
   ],
   "source": [
    "Plot(OneSector_result['pred'],OneSector_result['rent_number'])"
   ]
  },
  {
   "cell_type": "code",
   "execution_count": 53,
   "metadata": {},
   "outputs": [
    {
     "data": {
      "text/plain": [
       "0.41"
      ]
     },
     "execution_count": 53,
     "metadata": {},
     "output_type": "execute_result"
    }
   ],
   "source": [
    "round(r2_score(OneSector_result['pred'],OneSector_result['rent_number']), 2)"
   ]
  },
  {
   "cell_type": "code",
   "execution_count": 54,
   "metadata": {},
   "outputs": [
    {
     "data": {
      "text/plain": [
       "25.919597562365354"
      ]
     },
     "execution_count": 54,
     "metadata": {},
     "output_type": "execute_result"
    }
   ],
   "source": [
    "sqrt(mean_squared_error(OneSector_result['pred'],OneSector_result['rent_number']))"
   ]
  },
  {
   "cell_type": "code",
   "execution_count": 55,
   "metadata": {},
   "outputs": [
    {
     "data": {
      "text/html": [
       "<div>\n",
       "<style scoped>\n",
       "    .dataframe tbody tr th:only-of-type {\n",
       "        vertical-align: middle;\n",
       "    }\n",
       "\n",
       "    .dataframe tbody tr th {\n",
       "        vertical-align: top;\n",
       "    }\n",
       "\n",
       "    .dataframe thead th {\n",
       "        text-align: right;\n",
       "    }\n",
       "</style>\n",
       "<table border=\"1\" class=\"dataframe\">\n",
       "  <thead>\n",
       "    <tr style=\"text-align: right;\">\n",
       "      <th></th>\n",
       "      <th>rent_date</th>\n",
       "      <th>rent_number</th>\n",
       "      <th>day</th>\n",
       "      <th>year</th>\n",
       "      <th>month</th>\n",
       "      <th>T</th>\n",
       "      <th>rain</th>\n",
       "      <th>H</th>\n",
       "      <th>I</th>\n",
       "      <th>weekend</th>\n",
       "      <th>Sector_0</th>\n",
       "      <th>holiday</th>\n",
       "      <th>error</th>\n",
       "      <th>pred</th>\n",
       "    </tr>\n",
       "  </thead>\n",
       "  <tbody>\n",
       "    <tr>\n",
       "      <th>492</th>\n",
       "      <td>2021-05-26</td>\n",
       "      <td>43</td>\n",
       "      <td>26</td>\n",
       "      <td>2021</td>\n",
       "      <td>5</td>\n",
       "      <td>19.095833</td>\n",
       "      <td>1</td>\n",
       "      <td>51.833333</td>\n",
       "      <td>0.456000</td>\n",
       "      <td>0</td>\n",
       "      <td>1</td>\n",
       "      <td>0</td>\n",
       "      <td>21.228091</td>\n",
       "      <td>56.654316</td>\n",
       "    </tr>\n",
       "    <tr>\n",
       "      <th>493</th>\n",
       "      <td>2021-05-27</td>\n",
       "      <td>116</td>\n",
       "      <td>27</td>\n",
       "      <td>2021</td>\n",
       "      <td>5</td>\n",
       "      <td>19.062500</td>\n",
       "      <td>1</td>\n",
       "      <td>82.250000</td>\n",
       "      <td>1.520000</td>\n",
       "      <td>0</td>\n",
       "      <td>1</td>\n",
       "      <td>0</td>\n",
       "      <td>25.442657</td>\n",
       "      <td>124.600031</td>\n",
       "    </tr>\n",
       "    <tr>\n",
       "      <th>494</th>\n",
       "      <td>2021-05-28</td>\n",
       "      <td>129</td>\n",
       "      <td>28</td>\n",
       "      <td>2021</td>\n",
       "      <td>5</td>\n",
       "      <td>20.887500</td>\n",
       "      <td>1</td>\n",
       "      <td>62.208333</td>\n",
       "      <td>1.468000</td>\n",
       "      <td>1</td>\n",
       "      <td>1</td>\n",
       "      <td>0</td>\n",
       "      <td>28.513622</td>\n",
       "      <td>153.115643</td>\n",
       "    </tr>\n",
       "    <tr>\n",
       "      <th>495</th>\n",
       "      <td>2021-05-29</td>\n",
       "      <td>146</td>\n",
       "      <td>29</td>\n",
       "      <td>2021</td>\n",
       "      <td>5</td>\n",
       "      <td>19.741667</td>\n",
       "      <td>1</td>\n",
       "      <td>64.958333</td>\n",
       "      <td>1.948000</td>\n",
       "      <td>1</td>\n",
       "      <td>1</td>\n",
       "      <td>0</td>\n",
       "      <td>24.544607</td>\n",
       "      <td>140.328618</td>\n",
       "    </tr>\n",
       "    <tr>\n",
       "      <th>496</th>\n",
       "      <td>2021-05-30</td>\n",
       "      <td>179</td>\n",
       "      <td>30</td>\n",
       "      <td>2021</td>\n",
       "      <td>5</td>\n",
       "      <td>21.308333</td>\n",
       "      <td>1</td>\n",
       "      <td>64.333333</td>\n",
       "      <td>1.871333</td>\n",
       "      <td>1</td>\n",
       "      <td>1</td>\n",
       "      <td>0</td>\n",
       "      <td>23.939929</td>\n",
       "      <td>143.793595</td>\n",
       "    </tr>\n",
       "    <tr>\n",
       "      <th>497</th>\n",
       "      <td>2021-05-31</td>\n",
       "      <td>155</td>\n",
       "      <td>31</td>\n",
       "      <td>2021</td>\n",
       "      <td>5</td>\n",
       "      <td>21.866667</td>\n",
       "      <td>1</td>\n",
       "      <td>67.875000</td>\n",
       "      <td>1.818000</td>\n",
       "      <td>0</td>\n",
       "      <td>1</td>\n",
       "      <td>0</td>\n",
       "      <td>15.711078</td>\n",
       "      <td>144.277395</td>\n",
       "    </tr>\n",
       "    <tr>\n",
       "      <th>498</th>\n",
       "      <td>2021-06-01</td>\n",
       "      <td>104</td>\n",
       "      <td>1</td>\n",
       "      <td>2021</td>\n",
       "      <td>6</td>\n",
       "      <td>22.304167</td>\n",
       "      <td>1</td>\n",
       "      <td>66.250000</td>\n",
       "      <td>1.726667</td>\n",
       "      <td>0</td>\n",
       "      <td>1</td>\n",
       "      <td>0</td>\n",
       "      <td>19.453819</td>\n",
       "      <td>139.587898</td>\n",
       "    </tr>\n",
       "    <tr>\n",
       "      <th>499</th>\n",
       "      <td>2021-06-02</td>\n",
       "      <td>119</td>\n",
       "      <td>2</td>\n",
       "      <td>2021</td>\n",
       "      <td>6</td>\n",
       "      <td>24.341667</td>\n",
       "      <td>1</td>\n",
       "      <td>57.541667</td>\n",
       "      <td>0.781333</td>\n",
       "      <td>0</td>\n",
       "      <td>1</td>\n",
       "      <td>0</td>\n",
       "      <td>20.078223</td>\n",
       "      <td>81.686359</td>\n",
       "    </tr>\n",
       "    <tr>\n",
       "      <th>500</th>\n",
       "      <td>2021-06-03</td>\n",
       "      <td>76</td>\n",
       "      <td>3</td>\n",
       "      <td>2021</td>\n",
       "      <td>6</td>\n",
       "      <td>23.537500</td>\n",
       "      <td>1</td>\n",
       "      <td>75.833333</td>\n",
       "      <td>1.166667</td>\n",
       "      <td>0</td>\n",
       "      <td>1</td>\n",
       "      <td>0</td>\n",
       "      <td>21.774038</td>\n",
       "      <td>114.746271</td>\n",
       "    </tr>\n",
       "    <tr>\n",
       "      <th>501</th>\n",
       "      <td>2021-06-04</td>\n",
       "      <td>112</td>\n",
       "      <td>4</td>\n",
       "      <td>2021</td>\n",
       "      <td>6</td>\n",
       "      <td>20.466667</td>\n",
       "      <td>1</td>\n",
       "      <td>73.625000</td>\n",
       "      <td>1.626000</td>\n",
       "      <td>1</td>\n",
       "      <td>1</td>\n",
       "      <td>0</td>\n",
       "      <td>26.155780</td>\n",
       "      <td>141.591122</td>\n",
       "    </tr>\n",
       "    <tr>\n",
       "      <th>502</th>\n",
       "      <td>2021-06-05</td>\n",
       "      <td>176</td>\n",
       "      <td>5</td>\n",
       "      <td>2021</td>\n",
       "      <td>6</td>\n",
       "      <td>23.929167</td>\n",
       "      <td>1</td>\n",
       "      <td>54.958333</td>\n",
       "      <td>1.560667</td>\n",
       "      <td>1</td>\n",
       "      <td>1</td>\n",
       "      <td>0</td>\n",
       "      <td>27.009144</td>\n",
       "      <td>142.341971</td>\n",
       "    </tr>\n",
       "    <tr>\n",
       "      <th>503</th>\n",
       "      <td>2021-06-06</td>\n",
       "      <td>188</td>\n",
       "      <td>6</td>\n",
       "      <td>2021</td>\n",
       "      <td>6</td>\n",
       "      <td>22.304167</td>\n",
       "      <td>1</td>\n",
       "      <td>71.000000</td>\n",
       "      <td>1.826000</td>\n",
       "      <td>1</td>\n",
       "      <td>1</td>\n",
       "      <td>1</td>\n",
       "      <td>24.110726</td>\n",
       "      <td>158.228321</td>\n",
       "    </tr>\n",
       "    <tr>\n",
       "      <th>504</th>\n",
       "      <td>2021-06-07</td>\n",
       "      <td>117</td>\n",
       "      <td>7</td>\n",
       "      <td>2021</td>\n",
       "      <td>6</td>\n",
       "      <td>21.733333</td>\n",
       "      <td>1</td>\n",
       "      <td>74.000000</td>\n",
       "      <td>1.834000</td>\n",
       "      <td>0</td>\n",
       "      <td>1</td>\n",
       "      <td>0</td>\n",
       "      <td>9.754913</td>\n",
       "      <td>143.714348</td>\n",
       "    </tr>\n",
       "    <tr>\n",
       "      <th>505</th>\n",
       "      <td>2021-06-08</td>\n",
       "      <td>117</td>\n",
       "      <td>8</td>\n",
       "      <td>2021</td>\n",
       "      <td>6</td>\n",
       "      <td>24.104167</td>\n",
       "      <td>1</td>\n",
       "      <td>73.750000</td>\n",
       "      <td>1.791333</td>\n",
       "      <td>0</td>\n",
       "      <td>1</td>\n",
       "      <td>0</td>\n",
       "      <td>4.146423</td>\n",
       "      <td>129.987920</td>\n",
       "    </tr>\n",
       "    <tr>\n",
       "      <th>506</th>\n",
       "      <td>2021-06-09</td>\n",
       "      <td>143</td>\n",
       "      <td>9</td>\n",
       "      <td>2021</td>\n",
       "      <td>6</td>\n",
       "      <td>26.404167</td>\n",
       "      <td>1</td>\n",
       "      <td>74.416667</td>\n",
       "      <td>1.767333</td>\n",
       "      <td>0</td>\n",
       "      <td>1</td>\n",
       "      <td>0</td>\n",
       "      <td>2.349223</td>\n",
       "      <td>122.609336</td>\n",
       "    </tr>\n",
       "    <tr>\n",
       "      <th>507</th>\n",
       "      <td>2021-06-10</td>\n",
       "      <td>57</td>\n",
       "      <td>10</td>\n",
       "      <td>2021</td>\n",
       "      <td>6</td>\n",
       "      <td>25.462500</td>\n",
       "      <td>1</td>\n",
       "      <td>70.541667</td>\n",
       "      <td>0.567333</td>\n",
       "      <td>0</td>\n",
       "      <td>1</td>\n",
       "      <td>0</td>\n",
       "      <td>18.741840</td>\n",
       "      <td>72.053774</td>\n",
       "    </tr>\n",
       "    <tr>\n",
       "      <th>508</th>\n",
       "      <td>2021-06-11</td>\n",
       "      <td>22</td>\n",
       "      <td>11</td>\n",
       "      <td>2021</td>\n",
       "      <td>6</td>\n",
       "      <td>21.937500</td>\n",
       "      <td>1</td>\n",
       "      <td>94.916667</td>\n",
       "      <td>0.444000</td>\n",
       "      <td>1</td>\n",
       "      <td>1</td>\n",
       "      <td>0</td>\n",
       "      <td>18.694241</td>\n",
       "      <td>46.754222</td>\n",
       "    </tr>\n",
       "  </tbody>\n",
       "</table>\n",
       "</div>"
      ],
      "text/plain": [
       "     rent_date  rent_number  day  year  month          T  rain          H  \\\n",
       "492 2021-05-26           43   26  2021      5  19.095833     1  51.833333   \n",
       "493 2021-05-27          116   27  2021      5  19.062500     1  82.250000   \n",
       "494 2021-05-28          129   28  2021      5  20.887500     1  62.208333   \n",
       "495 2021-05-29          146   29  2021      5  19.741667     1  64.958333   \n",
       "496 2021-05-30          179   30  2021      5  21.308333     1  64.333333   \n",
       "497 2021-05-31          155   31  2021      5  21.866667     1  67.875000   \n",
       "498 2021-06-01          104    1  2021      6  22.304167     1  66.250000   \n",
       "499 2021-06-02          119    2  2021      6  24.341667     1  57.541667   \n",
       "500 2021-06-03           76    3  2021      6  23.537500     1  75.833333   \n",
       "501 2021-06-04          112    4  2021      6  20.466667     1  73.625000   \n",
       "502 2021-06-05          176    5  2021      6  23.929167     1  54.958333   \n",
       "503 2021-06-06          188    6  2021      6  22.304167     1  71.000000   \n",
       "504 2021-06-07          117    7  2021      6  21.733333     1  74.000000   \n",
       "505 2021-06-08          117    8  2021      6  24.104167     1  73.750000   \n",
       "506 2021-06-09          143    9  2021      6  26.404167     1  74.416667   \n",
       "507 2021-06-10           57   10  2021      6  25.462500     1  70.541667   \n",
       "508 2021-06-11           22   11  2021      6  21.937500     1  94.916667   \n",
       "\n",
       "            I  weekend  Sector_0  holiday      error        pred  \n",
       "492  0.456000        0         1        0  21.228091   56.654316  \n",
       "493  1.520000        0         1        0  25.442657  124.600031  \n",
       "494  1.468000        1         1        0  28.513622  153.115643  \n",
       "495  1.948000        1         1        0  24.544607  140.328618  \n",
       "496  1.871333        1         1        0  23.939929  143.793595  \n",
       "497  1.818000        0         1        0  15.711078  144.277395  \n",
       "498  1.726667        0         1        0  19.453819  139.587898  \n",
       "499  0.781333        0         1        0  20.078223   81.686359  \n",
       "500  1.166667        0         1        0  21.774038  114.746271  \n",
       "501  1.626000        1         1        0  26.155780  141.591122  \n",
       "502  1.560667        1         1        0  27.009144  142.341971  \n",
       "503  1.826000        1         1        1  24.110726  158.228321  \n",
       "504  1.834000        0         1        0   9.754913  143.714348  \n",
       "505  1.791333        0         1        0   4.146423  129.987920  \n",
       "506  1.767333        0         1        0   2.349223  122.609336  \n",
       "507  0.567333        0         1        0  18.741840   72.053774  \n",
       "508  0.444000        1         1        0  18.694241   46.754222  "
      ]
     },
     "execution_count": 55,
     "metadata": {},
     "output_type": "execute_result"
    }
   ],
   "source": [
    "OneSector_result"
   ]
  },
  {
   "cell_type": "code",
   "execution_count": 56,
   "metadata": {},
   "outputs": [],
   "source": [
    "Fir_TwoSector_data = TwoSector_data[TwoSector_data['Sector_0'] == 1]\n",
    "Sec_TwoSector_data = TwoSector_data[TwoSector_data['Sector_1'] == 1]\n",
    "Fir_TwoSector_data = Fir_TwoSector_data.reset_index(drop=True, inplace=False)\n",
    "Sec_TwoSector_data = Sec_TwoSector_data.reset_index(drop=True, inplace=False)"
   ]
  },
  {
   "cell_type": "code",
   "execution_count": 57,
   "metadata": {},
   "outputs": [],
   "source": [
    "Fir_Two_error = []\n",
    "for i in range(93, 486):\n",
    "    X_data = Fir_TwoSector_data.drop(['rent_date','rent_number'],axis=1)\n",
    "    y_data = Fir_TwoSector_data['rent_number']\n",
    "    X_train = X_data.iloc[:i]\n",
    "    y_train = y_data.iloc[:i]\n",
    "    X_test = X_data.iloc[i:i+1]\n",
    "    y_test = y_data.iloc[i:i+1]\n",
    "    xlf = lgb.LGBMRegressor()\n",
    "    xlf.fit(X_train, y_train)\n",
    "    pred = xlf.predict(X_test)\n",
    "    pred = pred.astype(float)\n",
    "    Fir_Two_error.append(abs(y_test.iloc[0]-pred[0]))"
   ]
  },
  {
   "cell_type": "code",
   "execution_count": 58,
   "metadata": {},
   "outputs": [
    {
     "name": "stderr",
     "output_type": "stream",
     "text": [
      "C:\\Users\\mllab\\Anaconda3\\lib\\site-packages\\pandas\\core\\indexing.py:670: SettingWithCopyWarning: \n",
      "A value is trying to be set on a copy of a slice from a DataFrame\n",
      "\n",
      "See the caveats in the documentation: https://pandas.pydata.org/pandas-docs/stable/user_guide/indexing.html#returning-a-view-versus-a-copy\n",
      "  self._setitem_with_indexer(indexer, value)\n"
     ]
    }
   ],
   "source": [
    "Fir_TwoSector_data['error'] = None\n",
    "Fir_TwoSector_data['error'].iloc[93:486] = Fir_Two_error"
   ]
  },
  {
   "cell_type": "code",
   "execution_count": 59,
   "metadata": {},
   "outputs": [],
   "source": [
    "Fir_TwoSector_pred = Fir_TwoSector_data.iloc[93:]\n",
    "Fir_TwoSector_pred = Fir_TwoSector_pred.reset_index(drop=True, inplace=False)\n",
    "Fir_TwoSector_pred['error'] = Fir_TwoSector_pred['error'].astype(float)"
   ]
  },
  {
   "cell_type": "code",
   "execution_count": 60,
   "metadata": {
    "scrolled": true
   },
   "outputs": [],
   "source": [
    "for i in range(393, 410):\n",
    "    X_data = Fir_TwoSector_pred.drop(['rent_date','rent_number', 'error'],axis=1)\n",
    "    y_data = Fir_TwoSector_pred['error']\n",
    "    X_train = X_data.iloc[:i]\n",
    "    y_train = y_data.iloc[:i]\n",
    "    X_test = X_data.iloc[i:i+1]\n",
    "    xlf = lgb.LGBMRegressor()\n",
    "    xlf.fit(X_train, y_train)\n",
    "    pred = xlf.predict(X_test)\n",
    "    pred = pred.astype(float)\n",
    "    Fir_TwoSector_pred['error'].iloc[i] = pred"
   ]
  },
  {
   "cell_type": "code",
   "execution_count": 61,
   "metadata": {},
   "outputs": [
    {
     "name": "stderr",
     "output_type": "stream",
     "text": [
      "C:\\Users\\mllab\\Anaconda3\\lib\\site-packages\\ipykernel_launcher.py:16: SettingWithCopyWarning: \n",
      "A value is trying to be set on a copy of a slice from a DataFrame.\n",
      "Try using .loc[row_indexer,col_indexer] = value instead\n",
      "\n",
      "See the caveats in the documentation: https://pandas.pydata.org/pandas-docs/stable/user_guide/indexing.html#returning-a-view-versus-a-copy\n",
      "  app.launch_new_instance()\n"
     ]
    }
   ],
   "source": [
    "Fir_Two_result = []\n",
    "for i in range(393, 410):\n",
    "    X_data = Fir_TwoSector_pred.drop(['rent_date','rent_number'],axis=1)\n",
    "    y_data = Fir_TwoSector_pred['rent_number']\n",
    "    X_train = X_data.iloc[:i]\n",
    "    y_train = y_data.iloc[:i]\n",
    "    X_test = X_data.iloc[i:i+1]\n",
    "    y_test = y_data.iloc[i:i+1]\n",
    "    xlf = lgb.LGBMRegressor()\n",
    "    xlf.fit(X_train, y_train)\n",
    "    pred = xlf.predict(X_test)\n",
    "    pred = pred.astype(float)\n",
    "    Fir_Two_result.append(pred[0])\n",
    "\n",
    "Fir_TwoSector_result = Fir_TwoSector_pred[393:]\n",
    "Fir_TwoSector_result['pred'] = Fir_Two_result"
   ]
  },
  {
   "cell_type": "code",
   "execution_count": 62,
   "metadata": {},
   "outputs": [
    {
     "data": {
      "image/png": "[encoded data removed]",
      "text/plain": [
       "<Figure size 576x288 with 1 Axes>"
      ]
     },
     "metadata": {
      "needs_background": "light"
     },
     "output_type": "display_data"
    }
   ],
   "source": [
    "Plot(Fir_TwoSector_result['pred'],Fir_TwoSector_result['rent_number'])"
   ]
  },
  {
   "cell_type": "code",
   "execution_count": 63,
   "metadata": {},
   "outputs": [
    {
     "name": "stderr",
     "output_type": "stream",
     "text": [
      "C:\\Users\\mllab\\Anaconda3\\lib\\site-packages\\pandas\\core\\indexing.py:670: SettingWithCopyWarning: \n",
      "A value is trying to be set on a copy of a slice from a DataFrame\n",
      "\n",
      "See the caveats in the documentation: https://pandas.pydata.org/pandas-docs/stable/user_guide/indexing.html#returning-a-view-versus-a-copy\n",
      "  self._setitem_with_indexer(indexer, value)\n"
     ]
    }
   ],
   "source": [
    "Sec_Two_error = []\n",
    "for i in range(186, 666):\n",
    "    X_data = Sec_TwoSector_data.drop(['rent_date','rent_number'],axis=1)\n",
    "    y_data = Sec_TwoSector_data['rent_number']\n",
    "    X_train = X_data.iloc[:i]\n",
    "    y_train = y_data.iloc[:i]\n",
    "    X_test = X_data.iloc[i:i+1]\n",
    "    y_test = y_data.iloc[i:i+1]\n",
    "    xlf = lgb.LGBMRegressor()\n",
    "    xlf.fit(X_train, y_train)\n",
    "    pred = xlf.predict(X_test)\n",
    "    pred = pred.astype(float)\n",
    "    Sec_Two_error.append(abs(y_test.iloc[0]-pred[0]))\n",
    "\n",
    "Sec_TwoSector_data['error'] = None\n",
    "Sec_TwoSector_data['error'].iloc[186:666] = Sec_Two_error\n",
    "\n",
    "Sec_TwoSector_pred = Sec_TwoSector_data.iloc[186:]\n",
    "Sec_TwoSector_pred = Sec_TwoSector_pred.reset_index(drop=True, inplace=False)\n",
    "Sec_TwoSector_pred['error'] = Sec_TwoSector_pred['error'].astype(float)"
   ]
  },
  {
   "cell_type": "code",
   "execution_count": 64,
   "metadata": {},
   "outputs": [
    {
     "name": "stderr",
     "output_type": "stream",
     "text": [
      "C:\\Users\\mllab\\Anaconda3\\lib\\site-packages\\ipykernel_launcher.py:28: SettingWithCopyWarning: \n",
      "A value is trying to be set on a copy of a slice from a DataFrame.\n",
      "Try using .loc[row_indexer,col_indexer] = value instead\n",
      "\n",
      "See the caveats in the documentation: https://pandas.pydata.org/pandas-docs/stable/user_guide/indexing.html#returning-a-view-versus-a-copy\n"
     ]
    }
   ],
   "source": [
    "for i in range(480, 497):\n",
    "    X_data = Sec_TwoSector_pred.drop(['rent_date','rent_number', 'error'],axis=1)\n",
    "    y_data = Sec_TwoSector_pred['error']\n",
    "    X_train = X_data.iloc[:i]\n",
    "    y_train = y_data.iloc[:i]\n",
    "    X_test = X_data.iloc[i:i+1]\n",
    "    xlf = lgb.LGBMRegressor()\n",
    "    xlf.fit(X_train, y_train)\n",
    "    pred = xlf.predict(X_test)\n",
    "    pred = pred.astype(float)\n",
    "    Sec_TwoSector_pred['error'].iloc[i] = pred\n",
    "\n",
    "Sec_Two_result = []\n",
    "for i in range(480, 497):\n",
    "    X_data = Sec_TwoSector_pred.drop(['rent_date','rent_number'],axis=1)\n",
    "    y_data = Sec_TwoSector_pred['rent_number']\n",
    "    X_train = X_data.iloc[:i]\n",
    "    y_train = y_data.iloc[:i]\n",
    "    X_test = X_data.iloc[i:i+1]\n",
    "    y_test = y_data.iloc[i:i+1]\n",
    "    xlf = lgb.LGBMRegressor()\n",
    "    xlf.fit(X_train, y_train)\n",
    "    pred = xlf.predict(X_test)\n",
    "    pred = pred.astype(float)\n",
    "    Sec_Two_result.append(pred[0])\n",
    "\n",
    "Sec_TwoSector_result = Sec_TwoSector_pred[480:]\n",
    "Sec_TwoSector_result['pred'] = Sec_Two_result"
   ]
  },
  {
   "cell_type": "code",
   "execution_count": 65,
   "metadata": {},
   "outputs": [
    {
     "data": {
      "image/png": "[encoded data removed]",
      "text/plain": [
       "<Figure size 576x288 with 1 Axes>"
      ]
     },
     "metadata": {
      "needs_background": "light"
     },
     "output_type": "display_data"
    }
   ],
   "source": [
    "Plot(Sec_TwoSector_result['pred'],Sec_TwoSector_result['rent_number'])"
   ]
  },
  {
   "cell_type": "code",
   "execution_count": 66,
   "metadata": {},
   "outputs": [
    {
     "name": "stderr",
     "output_type": "stream",
     "text": [
      "C:\\Users\\mllab\\Anaconda3\\lib\\site-packages\\pandas\\core\\indexing.py:670: SettingWithCopyWarning: \n",
      "A value is trying to be set on a copy of a slice from a DataFrame\n",
      "\n",
      "See the caveats in the documentation: https://pandas.pydata.org/pandas-docs/stable/user_guide/indexing.html#returning-a-view-versus-a-copy\n",
      "  self._setitem_with_indexer(indexer, value)\n"
     ]
    }
   ],
   "source": [
    "Two_error = []\n",
    "for i in range(279, 1152):\n",
    "    X_data = TwoSector_data.drop(['rent_date','rent_number'],axis=1)\n",
    "    y_data = TwoSector_data['rent_number']\n",
    "    X_train = X_data.iloc[:i]\n",
    "    y_train = y_data.iloc[:i]\n",
    "    X_test = X_data.iloc[i:i+1]\n",
    "    y_test = y_data.iloc[i:i+1]\n",
    "    xlf = lgb.LGBMRegressor()\n",
    "    xlf.fit(X_train, y_train)\n",
    "    pred = xlf.predict(X_test)\n",
    "    pred = pred.astype(float)\n",
    "    Two_error.append(abs(y_test.iloc[0]-pred[0]))\n",
    "\n",
    "TwoSector_data['error'] = None\n",
    "TwoSector_data['error'].iloc[279:1152] = Two_error\n",
    "\n",
    "TwoSector_pred = TwoSector_data.iloc[279:]\n",
    "TwoSector_pred = TwoSector_pred.reset_index(drop=True, inplace=False)\n",
    "TwoSector_pred['error'] = TwoSector_pred['error'].astype(float)"
   ]
  },
  {
   "cell_type": "code",
   "execution_count": 67,
   "metadata": {},
   "outputs": [
    {
     "name": "stderr",
     "output_type": "stream",
     "text": [
      "C:\\Users\\mllab\\Anaconda3\\lib\\site-packages\\ipykernel_launcher.py:29: SettingWithCopyWarning: \n",
      "A value is trying to be set on a copy of a slice from a DataFrame.\n",
      "Try using .loc[row_indexer,col_indexer] = value instead\n",
      "\n",
      "See the caveats in the documentation: https://pandas.pydata.org/pandas-docs/stable/user_guide/indexing.html#returning-a-view-versus-a-copy\n"
     ]
    }
   ],
   "source": [
    "for i in range(873, 907):\n",
    "    X_data = TwoSector_pred.drop(['rent_date','rent_number', 'error'],axis=1)\n",
    "    y_data = TwoSector_pred['error']\n",
    "    X_train = X_data.iloc[:i]\n",
    "    y_train = y_data.iloc[:i]\n",
    "    X_test = X_data.iloc[i:i+1]\n",
    "    xlf = lgb.LGBMRegressor()\n",
    "    xlf.fit(X_train, y_train)\n",
    "    pred = xlf.predict(X_test)\n",
    "    pred = pred.astype(float)\n",
    "    TwoSector_pred['error'].iloc[i] = pred\n",
    "\n",
    "Two_result = []\n",
    "\n",
    "for i in range(873, 907):\n",
    "    X_data = TwoSector_pred.drop(['rent_date','rent_number','error'],axis=1)\n",
    "    y_data = TwoSector_pred['rent_number']\n",
    "    X_train = X_data.iloc[:i]\n",
    "    y_train = y_data.iloc[:i]\n",
    "    X_test = X_data.iloc[i:i+1]\n",
    "    y_test = y_data.iloc[i:i+1]\n",
    "    xlf = lgb.LGBMRegressor()\n",
    "    xlf.fit(X_train, y_train)\n",
    "    pred = xlf.predict(X_test)\n",
    "    pred = pred.astype(float)\n",
    "    Two_result.append(pred[0])\n",
    "\n",
    "TwoSector_result = TwoSector_pred[873:]\n",
    "TwoSector_result['pred'] = Two_result"
   ]
  },
  {
   "cell_type": "code",
   "execution_count": 68,
   "metadata": {},
   "outputs": [
    {
     "data": {
      "image/png": "[encoded data removed]",
      "text/plain": [
       "<Figure size 576x288 with 1 Axes>"
      ]
     },
     "metadata": {
      "needs_background": "light"
     },
     "output_type": "display_data"
    }
   ],
   "source": [
    "Plot(TwoSector_result['pred'],TwoSector_result['rent_number'])"
   ]
  },
  {
   "cell_type": "code",
   "execution_count": 69,
   "metadata": {},
   "outputs": [
    {
     "data": {
      "text/plain": [
       "0.73"
      ]
     },
     "execution_count": 69,
     "metadata": {},
     "output_type": "execute_result"
    }
   ],
   "source": [
    "round(r2_score(TwoSector_result['pred'],TwoSector_result['rent_number']), 2)"
   ]
  },
  {
   "cell_type": "code",
   "execution_count": 70,
   "metadata": {},
   "outputs": [
    {
     "data": {
      "text/plain": [
       "16.315030737164083"
      ]
     },
     "execution_count": 70,
     "metadata": {},
     "output_type": "execute_result"
    }
   ],
   "source": [
    "sqrt(mean_squared_error(TwoSector_result['pred'],TwoSector_result['rent_number']))"
   ]
  },
  {
   "cell_type": "code",
   "execution_count": 71,
   "metadata": {},
   "outputs": [
    {
     "name": "stderr",
     "output_type": "stream",
     "text": [
      "C:\\Users\\mllab\\Anaconda3\\lib\\site-packages\\pandas\\core\\indexing.py:670: SettingWithCopyWarning: \n",
      "A value is trying to be set on a copy of a slice from a DataFrame\n",
      "\n",
      "See the caveats in the documentation: https://pandas.pydata.org/pandas-docs/stable/user_guide/indexing.html#returning-a-view-versus-a-copy\n",
      "  self._setitem_with_indexer(indexer, value)\n"
     ]
    }
   ],
   "source": [
    "Four_error = []\n",
    "for i in range(363, 1741):\n",
    "    X_data = FourSector_data.drop(['rent_date','rent_number'],axis=1)\n",
    "    y_data = FourSector_data['rent_number']\n",
    "    X_train = X_data.iloc[:i]\n",
    "    y_train = y_data.iloc[:i]\n",
    "    X_test = X_data.iloc[i:i+1]\n",
    "    y_test = y_data.iloc[i:i+1]\n",
    "    xlf = lgb.LGBMRegressor()\n",
    "    xlf.fit(X_train, y_train)\n",
    "    pred = xlf.predict(X_test)\n",
    "    pred = pred.astype(float)\n",
    "    Four_error.append(abs(y_test.iloc[0]-pred[0]))\n",
    "\n",
    "FourSector_data['error'] = None\n",
    "FourSector_data['error'].iloc[363:1741] = Four_error\n",
    "\n",
    "FourSector_pred = FourSector_data.iloc[363:]\n",
    "FourSector_pred = FourSector_pred.reset_index(drop=True, inplace=False)\n",
    "FourSector_pred['error'] = FourSector_pred['error'].astype(float)"
   ]
  },
  {
   "cell_type": "code",
   "execution_count": 72,
   "metadata": {},
   "outputs": [
    {
     "name": "stderr",
     "output_type": "stream",
     "text": [
      "C:\\Users\\mllab\\Anaconda3\\lib\\site-packages\\ipykernel_launcher.py:29: SettingWithCopyWarning: \n",
      "A value is trying to be set on a copy of a slice from a DataFrame.\n",
      "Try using .loc[row_indexer,col_indexer] = value instead\n",
      "\n",
      "See the caveats in the documentation: https://pandas.pydata.org/pandas-docs/stable/user_guide/indexing.html#returning-a-view-versus-a-copy\n"
     ]
    }
   ],
   "source": [
    "for i in range(1378, 1444):\n",
    "    X_data = FourSector_pred.drop(['rent_date','rent_number', 'error'],axis=1)\n",
    "    y_data = FourSector_pred['error']\n",
    "    X_train = X_data.iloc[:i]\n",
    "    y_train = y_data.iloc[:i]\n",
    "    X_test = X_data.iloc[i:i+1]\n",
    "    xlf = lgb.LGBMRegressor()\n",
    "    xlf.fit(X_train, y_train)\n",
    "    pred = xlf.predict(X_test)\n",
    "    pred = pred.astype(float)\n",
    "    FourSector_pred['error'].iloc[i] = pred\n",
    "\n",
    "Four_result = []\n",
    "\n",
    "for i in range(1378, 1444):\n",
    "    X_data = FourSector_pred.drop(['rent_date','rent_number','error'],axis=1)\n",
    "    y_data = FourSector_pred['rent_number']\n",
    "    X_train = X_data.iloc[:i]\n",
    "    y_train = y_data.iloc[:i]\n",
    "    X_test = X_data.iloc[i:i+1]\n",
    "    y_test = y_data.iloc[i:i+1]\n",
    "    xlf = lgb.LGBMRegressor()\n",
    "    xlf.fit(X_train, y_train)\n",
    "    pred = xlf.predict(X_test)\n",
    "    pred = pred.astype(float)\n",
    "    Four_result.append(pred[0])\n",
    "\n",
    "FourSector_result = FourSector_pred[1378:]\n",
    "FourSector_result['pred'] = Four_result"
   ]
  },
  {
   "cell_type": "code",
   "execution_count": 73,
   "metadata": {},
   "outputs": [
    {
     "data": {
      "image/png": "[encoded data removed]",
      "text/plain": [
       "<Figure size 576x288 with 1 Axes>"
      ]
     },
     "metadata": {
      "needs_background": "light"
     },
     "output_type": "display_data"
    }
   ],
   "source": [
    "Plot(FourSector_result['pred'],FourSector_result['rent_number'])"
   ]
  },
  {
   "cell_type": "code",
   "execution_count": 74,
   "metadata": {},
   "outputs": [
    {
     "data": {
      "text/plain": [
       "0.53"
      ]
     },
     "execution_count": 74,
     "metadata": {},
     "output_type": "execute_result"
    }
   ],
   "source": [
    "round(r2_score(FourSector_result['pred'],FourSector_result['rent_number']), 2)"
   ]
  },
  {
   "cell_type": "code",
   "execution_count": 75,
   "metadata": {},
   "outputs": [
    {
     "data": {
      "text/plain": [
       "10.447783900704048"
      ]
     },
     "execution_count": 75,
     "metadata": {},
     "output_type": "execute_result"
    }
   ],
   "source": [
    "sqrt(mean_squared_error(FourSector_result['pred'],FourSector_result['rent_number']))"
   ]
  },
  {
   "cell_type": "markdown",
   "metadata": {},
   "source": [
    "# ------------------------------------------------------"
   ]
  },
  {
   "cell_type": "code",
   "execution_count": 76,
   "metadata": {},
   "outputs": [
    {
     "name": "stdout",
     "output_type": "stream",
     "text": [
      "492 번째\n"
     ]
    },
    {
     "ename": "NameError",
     "evalue": "name 'One_pred' is not defined",
     "output_type": "error",
     "traceback": [
      "\u001b[1;31m---------------------------------------------------------------------------\u001b[0m",
      "\u001b[1;31mNameError\u001b[0m                                 Traceback (most recent call last)",
      "\u001b[1;32m<ipython-input-76-e695bc4c9dfb>\u001b[0m in \u001b[0;36m<module>\u001b[1;34m\u001b[0m\n\u001b[0;32m     11\u001b[0m     \u001b[0mpred\u001b[0m \u001b[1;33m=\u001b[0m \u001b[0mxlf\u001b[0m\u001b[1;33m.\u001b[0m\u001b[0mpredict\u001b[0m\u001b[1;33m(\u001b[0m\u001b[0mX_test\u001b[0m\u001b[1;33m)\u001b[0m\u001b[1;33m\u001b[0m\u001b[1;33m\u001b[0m\u001b[0m\n\u001b[0;32m     12\u001b[0m     \u001b[0mpred\u001b[0m \u001b[1;33m=\u001b[0m \u001b[0mpred\u001b[0m\u001b[1;33m.\u001b[0m\u001b[0mastype\u001b[0m\u001b[1;33m(\u001b[0m\u001b[0mfloat\u001b[0m\u001b[1;33m)\u001b[0m\u001b[1;33m\u001b[0m\u001b[1;33m\u001b[0m\u001b[0m\n\u001b[1;32m---> 13\u001b[1;33m     \u001b[0mOne_pred\u001b[0m\u001b[1;33m.\u001b[0m\u001b[0mappend\u001b[0m\u001b[1;33m(\u001b[0m\u001b[0mpred\u001b[0m\u001b[1;33m[\u001b[0m\u001b[1;36m0\u001b[0m\u001b[1;33m]\u001b[0m\u001b[1;33m)\u001b[0m\u001b[1;33m\u001b[0m\u001b[1;33m\u001b[0m\u001b[0m\n\u001b[0m\u001b[0;32m     14\u001b[0m     \u001b[0ma\u001b[0m \u001b[1;33m=\u001b[0m \u001b[0mabs\u001b[0m\u001b[1;33m(\u001b[0m\u001b[0my_test\u001b[0m\u001b[1;33m.\u001b[0m\u001b[0miloc\u001b[0m\u001b[1;33m[\u001b[0m\u001b[1;36m0\u001b[0m\u001b[1;33m]\u001b[0m\u001b[1;33m-\u001b[0m\u001b[0mpred\u001b[0m\u001b[1;33m[\u001b[0m\u001b[1;36m0\u001b[0m\u001b[1;33m]\u001b[0m\u001b[1;33m)\u001b[0m\u001b[1;33m\u001b[0m\u001b[1;33m\u001b[0m\u001b[0m\n\u001b[0;32m     15\u001b[0m     \u001b[0mOneSector_pred\u001b[0m\u001b[1;33m[\u001b[0m\u001b[1;34m'error'\u001b[0m\u001b[1;33m]\u001b[0m\u001b[1;33m.\u001b[0m\u001b[0miloc\u001b[0m\u001b[1;33m[\u001b[0m\u001b[0mi\u001b[0m\u001b[1;33m]\u001b[0m \u001b[1;33m=\u001b[0m \u001b[0ma\u001b[0m\u001b[1;33m\u001b[0m\u001b[1;33m\u001b[0m\u001b[0m\n",
      "\u001b[1;31mNameError\u001b[0m: name 'One_pred' is not defined"
     ]
    }
   ],
   "source": [
    "for i in range(492, 509):\n",
    "    print(i, '번째')\n",
    "    X_data = OneSector_pred.drop(['rent_date','rent_number'],axis=1)\n",
    "    y_data = OneSector_pred['rent_number']\n",
    "    X_train = X_data.iloc[:i]\n",
    "    y_train = y_data.iloc[:i]\n",
    "    X_test = X_data.iloc[i:i+1]\n",
    "    y_test = y_data.iloc[i:i+1]\n",
    "    xlf = lgb.LGBMRegressor()\n",
    "    xlf.fit(X_train, y_train)\n",
    "    pred = xlf.predict(X_test)\n",
    "    pred = pred.astype(float)\n",
    "    One_pred.append(pred[0])\n",
    "    a = abs(y_test.iloc[0]-pred[0])\n",
    "    OneSector_pred['error'].iloc[i] = a"
   ]
  },
  {
   "cell_type": "code",
   "execution_count": null,
   "metadata": {},
   "outputs": [],
   "source": [
    "OneSector_pred = OneSector_pred.iloc[492:508]"
   ]
  },
  {
   "cell_type": "code",
   "execution_count": null,
   "metadata": {},
   "outputs": [],
   "source": [
    "OneSector_pred['pred'] = One_pred"
   ]
  },
  {
   "cell_type": "code",
   "execution_count": null,
   "metadata": {},
   "outputs": [],
   "source": [
    "OneSector_pred"
   ]
  },
  {
   "cell_type": "code",
   "execution_count": null,
   "metadata": {},
   "outputs": [],
   "source": [
    "for i in range(208, 700):\n",
    "    print(i, '번째')\n",
    "    X_data = OneSector_data.drop(['rent_date','rent_number'],axis=1)\n",
    "    y_data = OneSector_data['rent_number']\n",
    "    X_train = X_data.iloc[:i]\n",
    "    y_train = y_data.iloc[:i]\n",
    "    X_test = X_data.iloc[i:i+1]\n",
    "    y_test = y_data.iloc[i:i+1]\n",
    "    xlf = lgb.LGBMRegressor()\n",
    "    xlf.fit(X_train, y_train)\n",
    "    pred = xlf.predict(X_test)\n",
    "    pred = pred.astype(float)\n",
    "    One_pred_result.append(pred[0])\n",
    "    One_error.append(abs(y_test-pred))\n",
    "\n",
    "    \n",
    "for i in range(1284, 1305, 2):\n",
    "    print(i, '번째')\n",
    "    Two_X_data = TwoSector_data.drop(['rent_date','rent_number'],axis=1)\n",
    "    Two_y_data = TwoSector_data['rent_number']\n",
    "    Two_X_train = Two_X_data.iloc[:i]\n",
    "    Two_y_train = Two_y_data.iloc[:i]\n",
    "    Two_X_test = Two_X_data.iloc[i:i+2]\n",
    "    Two_y_test = Two_y_data.iloc[i:i+2]\n",
    "    Two_xlf = lgb.LGBMRegressor()\n",
    "    Two_xlf.fit(Two_X_train, Two_y_train)\n",
    "    Two_pred = Two_xlf.predict(Two_X_test)\n",
    "    Two_pred = Two_pred.astype(float)\n",
    "    Two_pred_result.append(Two_pred[0])\n",
    "    Two_pred_result.append(Two_pred[1])\n",
    "    Two_error.append(abs(Two_y_test.iloc[0]-Two_pred[0]))\n",
    "    Two_error.append(abs(Two_y_test.iloc[1]-Two_pred[1]))\n",
    "    \n",
    "    \n",
    "for i in range(2001, 2044, 4):\n",
    "    Four_X_data = FourSector_data.drop(['rent_date','rent_number'],axis=1)\n",
    "    Four_y_data = FourSector_data['rent_number']\n",
    "    Four_X_train = Four_X_data.iloc[:i]\n",
    "    Four_y_train = Four_y_data.iloc[:i]\n",
    "    Four_X_test = Four_X_data.iloc[i:i+4]\n",
    "    Four_y_test = Four_y_data.iloc[i:i+4]\n",
    "    Four_xlf = lgb.LGBMRegressor()\n",
    "    Four_xlf.fit(Four_X_train, Four_y_train)\n",
    "    Four_pred = Four_xlf.predict(Four_X_test)\n",
    "    Four_pred = Four_pred.astype(float)\n",
    "    Four_pred_result.append(Four_pred[0])\n",
    "    Four_pred_result.append(Four_pred[1])\n",
    "    Four_pred_result.append(Four_pred[2])\n",
    "    Four_pred_result.append(Four_pred[3])\n",
    "    Four_error.append(abs(Four_y_test.iloc[0]-Four_pred[0]))\n",
    "    Four_error.append(abs(Four_y_test.iloc[1]-Four_pred[1]))\n",
    "    Four_error.append(abs(Four_y_test.iloc[2]-Four_pred[2]))\n",
    "    Four_error.append(abs(Four_y_test.iloc[3]-Four_pred[3]))"
   ]
  },
  {
   "cell_type": "code",
   "execution_count": null,
   "metadata": {},
   "outputs": [],
   "source": [
    "One_error_pred = "
   ]
  },
  {
   "cell_type": "code",
   "execution_count": null,
   "metadata": {},
   "outputs": [],
   "source": [
    "#701:716\n",
    "#1155:1185\n",
    "#1769:1829\n",
    "OneSector_pred = OneSector_data[767:778]\n",
    "TwoSector_pred = TwoSector_data[1284:1306]\n",
    "FourSector_pred = FourSector_data[2001:2045]"
   ]
  },
  {
   "cell_type": "code",
   "execution_count": null,
   "metadata": {},
   "outputs": [],
   "source": [
    "One_pred_result = []\n",
    "Two_pred_result = []\n",
    "Four_pred_result = []\n",
    "One_error = []\n",
    "Two_error = []\n",
    "Four_error = []"
   ]
  },
  {
   "cell_type": "code",
   "execution_count": null,
   "metadata": {
    "scrolled": true
   },
   "outputs": [],
   "source": [
    "for i in range(767, 778):\n",
    "    print(i, '번째')\n",
    "    X_data = OneSector_data.drop(['rent_date','rent_number'],axis=1)\n",
    "    y_data = OneSector_data['rent_number']\n",
    "    X_train = X_data.iloc[:i]\n",
    "    y_train = y_data.iloc[:i]\n",
    "    X_test = X_data.iloc[i:i+1]\n",
    "    y_test = y_data.iloc[i:i+1]\n",
    "    xlf = lgb.LGBMRegressor()\n",
    "    xlf.fit(X_train, y_train)\n",
    "    pred = xlf.predict(X_test)\n",
    "    pred = pred.astype(float)\n",
    "    One_pred_result.append(pred[0])\n",
    "    One_error.append(abs(y_test-pred))\n",
    "\n",
    "    \n",
    "for i in range(1284, 1305, 2):\n",
    "    print(i, '번째')\n",
    "    Two_X_data = TwoSector_data.drop(['rent_date','rent_number'],axis=1)\n",
    "    Two_y_data = TwoSector_data['rent_number']\n",
    "    Two_X_train = Two_X_data.iloc[:i]\n",
    "    Two_y_train = Two_y_data.iloc[:i]\n",
    "    Two_X_test = Two_X_data.iloc[i:i+2]\n",
    "    Two_y_test = Two_y_data.iloc[i:i+2]\n",
    "    Two_xlf = lgb.LGBMRegressor()\n",
    "    Two_xlf.fit(Two_X_train, Two_y_train)\n",
    "    Two_pred = Two_xlf.predict(Two_X_test)\n",
    "    Two_pred = Two_pred.astype(float)\n",
    "    Two_pred_result.append(Two_pred[0])\n",
    "    Two_pred_result.append(Two_pred[1])\n",
    "    Two_error.append(abs(Two_y_test.iloc[0]-Two_pred[0]))\n",
    "    Two_error.append(abs(Two_y_test.iloc[1]-Two_pred[1]))\n",
    "    \n",
    "    \n",
    "for i in range(2001, 2044, 4):\n",
    "    Four_X_data = FourSector_data.drop(['rent_date','rent_number'],axis=1)\n",
    "    Four_y_data = FourSector_data['rent_number']\n",
    "    Four_X_train = Four_X_data.iloc[:i]\n",
    "    Four_y_train = Four_y_data.iloc[:i]\n",
    "    Four_X_test = Four_X_data.iloc[i:i+4]\n",
    "    Four_y_test = Four_y_data.iloc[i:i+4]\n",
    "    Four_xlf = lgb.LGBMRegressor()\n",
    "    Four_xlf.fit(Four_X_train, Four_y_train)\n",
    "    Four_pred = Four_xlf.predict(Four_X_test)\n",
    "    Four_pred = Four_pred.astype(float)\n",
    "    Four_pred_result.append(Four_pred[0])\n",
    "    Four_pred_result.append(Four_pred[1])\n",
    "    Four_pred_result.append(Four_pred[2])\n",
    "    Four_pred_result.append(Four_pred[3])\n",
    "    Four_error.append(abs(Four_y_test.iloc[0]-Four_pred[0]))\n",
    "    Four_error.append(abs(Four_y_test.iloc[1]-Four_pred[1]))\n",
    "    Four_error.append(abs(Four_y_test.iloc[2]-Four_pred[2]))\n",
    "    Four_error.append(abs(Four_y_test.iloc[3]-Four_pred[3]))"
   ]
  },
  {
   "cell_type": "code",
   "execution_count": null,
   "metadata": {
    "scrolled": true
   },
   "outputs": [],
   "source": [
    "OneSector_pred['pred'] = One_pred_result\n",
    "TwoSector_pred['pred'] = Two_pred_result\n",
    "FourSector_pred['pred'] = Four_pred_result"
   ]
  },
  {
   "cell_type": "code",
   "execution_count": null,
   "metadata": {},
   "outputs": [],
   "source": [
    "One_error"
   ]
  },
  {
   "cell_type": "code",
   "execution_count": null,
   "metadata": {
    "scrolled": false
   },
   "outputs": [],
   "source": [
    "Plot(OneSector_pred['pred'] , OneSector_pred['rent_number'])"
   ]
  },
  {
   "cell_type": "code",
   "execution_count": null,
   "metadata": {},
   "outputs": [],
   "source": [
    "round(r2_score(OneSector_pred['pred'] , OneSector_pred['rent_number']), 2)"
   ]
  },
  {
   "cell_type": "code",
   "execution_count": null,
   "metadata": {
    "scrolled": true
   },
   "outputs": [],
   "source": [
    "TwoSector_plot = TwoSector_pred.groupby(['rent_date']).sum()"
   ]
  },
  {
   "cell_type": "code",
   "execution_count": null,
   "metadata": {
    "scrolled": true
   },
   "outputs": [],
   "source": [
    "Plot(TwoSector_plot['pred'], TwoSector_plot['rent_number'])"
   ]
  },
  {
   "cell_type": "code",
   "execution_count": null,
   "metadata": {},
   "outputs": [],
   "source": [
    "round(r2_score(TwoSector_pred['pred'] , TwoSector_pred['rent_number']), 2)"
   ]
  },
  {
   "cell_type": "code",
   "execution_count": null,
   "metadata": {
    "scrolled": true
   },
   "outputs": [],
   "source": [
    "FourSector_plot = FourSector_pred.groupby(['rent_date']).sum()"
   ]
  },
  {
   "cell_type": "code",
   "execution_count": null,
   "metadata": {},
   "outputs": [],
   "source": [
    "Plot(FourSector_plot['pred'], FourSector_plot['rent_number'])"
   ]
  },
  {
   "cell_type": "code",
   "execution_count": null,
   "metadata": {},
   "outputs": [],
   "source": [
    "round(r2_score(FourSector_pred['pred'] , FourSector_pred['rent_number']), 2)"
   ]
  },
  {
   "cell_type": "code",
   "execution_count": null,
   "metadata": {
    "scrolled": true
   },
   "outputs": [],
   "source": [
    "OneSector_data.groupby(['rent_date']).sum()['rent_number'].sort_values(ascending=False).head(30)"
   ]
  },
  {
   "cell_type": "code",
   "execution_count": null,
   "metadata": {
    "scrolled": true
   },
   "outputs": [],
   "source": [
    "Fir_TwoSector_pred = TwoSector_pred[TwoSector_pred['Sector_0']==1]\n",
    "Sec_TwoSector_pred = TwoSector_pred[TwoSector_pred['Sector_1']==1]"
   ]
  },
  {
   "cell_type": "code",
   "execution_count": null,
   "metadata": {
    "scrolled": true
   },
   "outputs": [],
   "source": [
    "Fir_FourSector_pred = FourSector_pred[FourSector_pred['Sector_0']==1]\n",
    "Sec_FourSector_pred = FourSector_pred[FourSector_pred['Sector_1']==1]\n",
    "Thr_FourSector_pred = FourSector_pred[FourSector_pred['Sector_2']==1]\n",
    "Four_FourSector_pred = FourSector_pred[FourSector_pred['Sector_3']==1]"
   ]
  },
  {
   "cell_type": "code",
   "execution_count": null,
   "metadata": {},
   "outputs": [],
   "source": [
    "Plot(Fir_TwoSector_pred['pred'], Fir_TwoSector_pred['rent_number'])"
   ]
  },
  {
   "cell_type": "code",
   "execution_count": null,
   "metadata": {},
   "outputs": [],
   "source": [
    "Plot(Sec_TwoSector_pred['pred'], Sec_TwoSector_pred['rent_number'])"
   ]
  },
  {
   "cell_type": "code",
   "execution_count": null,
   "metadata": {},
   "outputs": [],
   "source": [
    "Plot(Fir_FourSector_pred['pred'], Fir_FourSector_pred['rent_number'])"
   ]
  },
  {
   "cell_type": "code",
   "execution_count": null,
   "metadata": {},
   "outputs": [],
   "source": [
    "Plot(Sec_FourSector_pred['pred'], Sec_FourSector_pred['rent_number'])"
   ]
  },
  {
   "cell_type": "code",
   "execution_count": null,
   "metadata": {},
   "outputs": [],
   "source": [
    "Plot(Thr_FourSector_pred['pred'], Thr_FourSector_pred['rent_number'])"
   ]
  },
  {
   "cell_type": "code",
   "execution_count": null,
   "metadata": {},
   "outputs": [],
   "source": [
    "Plot(Four_FourSector_pred['pred'], Four_FourSector_pred['rent_number'])"
   ]
  },
  {
   "cell_type": "code",
   "execution_count": null,
   "metadata": {},
   "outputs": [],
   "source": []
  }
 ],
 "metadata": {
  "kernelspec": {
   "display_name": "Python 3",
   "language": "python",
   "name": "python3"
  },
  "language_info": {
   "codemirror_mode": {
    "name": "ipython",
    "version": 3
   },
   "file_extension": ".py",
   "mimetype": "text/x-python",
   "name": "python",
   "nbconvert_exporter": "python",
   "pygments_lexer": "ipython3",
   "version": "3.7.6"
  }
 },
 "nbformat": 4,
 "nbformat_minor": 4
}

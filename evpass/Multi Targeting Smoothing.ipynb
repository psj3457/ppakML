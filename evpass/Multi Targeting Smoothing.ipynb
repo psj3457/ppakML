{
 "cells": [
  {
   "cell_type": "code",
   "execution_count": 1,
   "metadata": {},
   "outputs": [],
   "source": [
    "import pandas as pd\n",
    "import numpy as np\n",
    "import matplotlib.pyplot as plt\n",
    "import seaborn as sns\n",
    "import datetime"
   ]
  },
  {
   "cell_type": "code",
   "execution_count": 2,
   "metadata": {
    "scrolled": true
   },
   "outputs": [],
   "source": [
    "weather = pd.read_csv('./fullweather.csv')"
   ]
  },
  {
   "cell_type": "code",
   "execution_count": 3,
   "metadata": {},
   "outputs": [
    {
     "data": {
      "text/html": [
       "<div>\n",
       "<style scoped>\n",
       "    .dataframe tbody tr th:only-of-type {\n",
       "        vertical-align: middle;\n",
       "    }\n",
       "\n",
       "    .dataframe tbody tr th {\n",
       "        vertical-align: top;\n",
       "    }\n",
       "\n",
       "    .dataframe thead th {\n",
       "        text-align: right;\n",
       "    }\n",
       "</style>\n",
       "<table border=\"1\" class=\"dataframe\">\n",
       "  <thead>\n",
       "    <tr style=\"text-align: right;\">\n",
       "      <th></th>\n",
       "      <th>Local time in Jeju (airport)</th>\n",
       "      <th>T</th>\n",
       "      <th>WW</th>\n",
       "    </tr>\n",
       "  </thead>\n",
       "  <tbody>\n",
       "    <tr>\n",
       "      <th>0</th>\n",
       "      <td>2019-04-16 1:00</td>\n",
       "      <td>11.6</td>\n",
       "      <td>NaN</td>\n",
       "    </tr>\n",
       "    <tr>\n",
       "      <th>1</th>\n",
       "      <td>2019-04-16 2:00</td>\n",
       "      <td>11.4</td>\n",
       "      <td>NaN</td>\n",
       "    </tr>\n",
       "    <tr>\n",
       "      <th>2</th>\n",
       "      <td>2019-04-16 3:00</td>\n",
       "      <td>11.4</td>\n",
       "      <td>NaN</td>\n",
       "    </tr>\n",
       "    <tr>\n",
       "      <th>3</th>\n",
       "      <td>2019-04-16 4:00</td>\n",
       "      <td>11.1</td>\n",
       "      <td>NaN</td>\n",
       "    </tr>\n",
       "    <tr>\n",
       "      <th>4</th>\n",
       "      <td>2019-04-16 5:00</td>\n",
       "      <td>11.2</td>\n",
       "      <td>NaN</td>\n",
       "    </tr>\n",
       "    <tr>\n",
       "      <th>...</th>\n",
       "      <td>...</td>\n",
       "      <td>...</td>\n",
       "      <td>...</td>\n",
       "    </tr>\n",
       "    <tr>\n",
       "      <th>74759</th>\n",
       "      <td>2021-06-02 20:00</td>\n",
       "      <td>22.0</td>\n",
       "      <td>NaN</td>\n",
       "    </tr>\n",
       "    <tr>\n",
       "      <th>74760</th>\n",
       "      <td>2021-06-02 21:00</td>\n",
       "      <td>22.0</td>\n",
       "      <td>NaN</td>\n",
       "    </tr>\n",
       "    <tr>\n",
       "      <th>74761</th>\n",
       "      <td>2021-06-02 22:00</td>\n",
       "      <td>22.1</td>\n",
       "      <td>NaN</td>\n",
       "    </tr>\n",
       "    <tr>\n",
       "      <th>74762</th>\n",
       "      <td>2021-06-02 23:00</td>\n",
       "      <td>22.6</td>\n",
       "      <td>NaN</td>\n",
       "    </tr>\n",
       "    <tr>\n",
       "      <th>74763</th>\n",
       "      <td>2021-06-03 0:00</td>\n",
       "      <td>19.9</td>\n",
       "      <td>0.0</td>\n",
       "    </tr>\n",
       "  </tbody>\n",
       "</table>\n",
       "<p>74764 rows × 3 columns</p>\n",
       "</div>"
      ],
      "text/plain": [
       "      Local time in Jeju (airport)     T   WW\n",
       "0                  2019-04-16 1:00  11.6  NaN\n",
       "1                  2019-04-16 2:00  11.4  NaN\n",
       "2                  2019-04-16 3:00  11.4  NaN\n",
       "3                  2019-04-16 4:00  11.1  NaN\n",
       "4                  2019-04-16 5:00  11.2  NaN\n",
       "...                            ...   ...  ...\n",
       "74759             2021-06-02 20:00  22.0  NaN\n",
       "74760             2021-06-02 21:00  22.0  NaN\n",
       "74761             2021-06-02 22:00  22.1  NaN\n",
       "74762             2021-06-02 23:00  22.6  NaN\n",
       "74763              2021-06-03 0:00  19.9  0.0\n",
       "\n",
       "[74764 rows x 3 columns]"
      ]
     },
     "execution_count": 3,
     "metadata": {},
     "output_type": "execute_result"
    }
   ],
   "source": [
    "weather"
   ]
  },
  {
   "cell_type": "code",
   "execution_count": 4,
   "metadata": {},
   "outputs": [
    {
     "name": "stderr",
     "output_type": "stream",
     "text": [
      "C:\\Users\\mllab\\Anaconda3\\lib\\site-packages\\ipykernel_launcher.py:3: SettingWithCopyWarning: \n",
      "A value is trying to be set on a copy of a slice from a DataFrame\n",
      "\n",
      "See the caveats in the documentation: https://pandas.pydata.org/pandas-docs/stable/user_guide/indexing.html#returning-a-view-versus-a-copy\n",
      "  This is separate from the ipykernel package so we can avoid doing imports until\n",
      "C:\\Users\\mllab\\Anaconda3\\lib\\site-packages\\ipykernel_launcher.py:4: SettingWithCopyWarning: \n",
      "A value is trying to be set on a copy of a slice from a DataFrame\n",
      "\n",
      "See the caveats in the documentation: https://pandas.pydata.org/pandas-docs/stable/user_guide/indexing.html#returning-a-view-versus-a-copy\n",
      "  after removing the cwd from sys.path.\n"
     ]
    }
   ],
   "source": [
    "weather['Local time in Jeju (airport)'] = pd.to_datetime(weather['Local time in Jeju (airport)'], format='%Y-%m-%d %H:%M', errors='raise')\n",
    "weather['Date'] = weather['Local time in Jeju (airport)'].dt.date\n",
    "weather['WW'][weather['WW'].notnull()] = 1\n",
    "weather['WW'][weather['WW'].isnull()] = 0\n",
    "weather['WW'] = pd.to_numeric(weather['WW'])\n"
   ]
  },
  {
   "cell_type": "code",
   "execution_count": 5,
   "metadata": {},
   "outputs": [],
   "source": [
    "temp_rain = weather.groupby('Date',as_index=False).mean()\n",
    "temp_rain.rename(columns={'WW':'rain'},inplace=True)\n",
    "temp_rain['Date'] = temp_rain['Date'].astype(str)"
   ]
  },
  {
   "cell_type": "code",
   "execution_count": 6,
   "metadata": {},
   "outputs": [
    {
     "data": {
      "text/html": [
       "<div>\n",
       "<style scoped>\n",
       "    .dataframe tbody tr th:only-of-type {\n",
       "        vertical-align: middle;\n",
       "    }\n",
       "\n",
       "    .dataframe tbody tr th {\n",
       "        vertical-align: top;\n",
       "    }\n",
       "\n",
       "    .dataframe thead th {\n",
       "        text-align: right;\n",
       "    }\n",
       "</style>\n",
       "<table border=\"1\" class=\"dataframe\">\n",
       "  <thead>\n",
       "    <tr style=\"text-align: right;\">\n",
       "      <th></th>\n",
       "      <th>Date</th>\n",
       "      <th>T</th>\n",
       "      <th>rain</th>\n",
       "    </tr>\n",
       "  </thead>\n",
       "  <tbody>\n",
       "    <tr>\n",
       "      <th>0</th>\n",
       "      <td>2019-04-16</td>\n",
       "      <td>15.939130</td>\n",
       "      <td>0.021739</td>\n",
       "    </tr>\n",
       "    <tr>\n",
       "      <th>1</th>\n",
       "      <td>2019-04-17</td>\n",
       "      <td>15.412500</td>\n",
       "      <td>0.083333</td>\n",
       "    </tr>\n",
       "    <tr>\n",
       "      <th>2</th>\n",
       "      <td>2019-04-18</td>\n",
       "      <td>15.431250</td>\n",
       "      <td>0.000000</td>\n",
       "    </tr>\n",
       "    <tr>\n",
       "      <th>3</th>\n",
       "      <td>2019-04-19</td>\n",
       "      <td>16.289583</td>\n",
       "      <td>0.000000</td>\n",
       "    </tr>\n",
       "    <tr>\n",
       "      <th>4</th>\n",
       "      <td>2019-04-20</td>\n",
       "      <td>16.446875</td>\n",
       "      <td>0.000000</td>\n",
       "    </tr>\n",
       "    <tr>\n",
       "      <th>...</th>\n",
       "      <td>...</td>\n",
       "      <td>...</td>\n",
       "      <td>...</td>\n",
       "    </tr>\n",
       "    <tr>\n",
       "      <th>775</th>\n",
       "      <td>2021-05-30</td>\n",
       "      <td>20.061458</td>\n",
       "      <td>0.000000</td>\n",
       "    </tr>\n",
       "    <tr>\n",
       "      <th>776</th>\n",
       "      <td>2021-05-31</td>\n",
       "      <td>20.938542</td>\n",
       "      <td>0.000000</td>\n",
       "    </tr>\n",
       "    <tr>\n",
       "      <th>777</th>\n",
       "      <td>2021-06-01</td>\n",
       "      <td>21.856250</td>\n",
       "      <td>0.000000</td>\n",
       "    </tr>\n",
       "    <tr>\n",
       "      <th>778</th>\n",
       "      <td>2021-06-02</td>\n",
       "      <td>22.740625</td>\n",
       "      <td>0.000000</td>\n",
       "    </tr>\n",
       "    <tr>\n",
       "      <th>779</th>\n",
       "      <td>2021-06-03</td>\n",
       "      <td>21.450000</td>\n",
       "      <td>0.250000</td>\n",
       "    </tr>\n",
       "  </tbody>\n",
       "</table>\n",
       "<p>780 rows × 3 columns</p>\n",
       "</div>"
      ],
      "text/plain": [
       "           Date          T      rain\n",
       "0    2019-04-16  15.939130  0.021739\n",
       "1    2019-04-17  15.412500  0.083333\n",
       "2    2019-04-18  15.431250  0.000000\n",
       "3    2019-04-19  16.289583  0.000000\n",
       "4    2019-04-20  16.446875  0.000000\n",
       "..          ...        ...       ...\n",
       "775  2021-05-30  20.061458  0.000000\n",
       "776  2021-05-31  20.938542  0.000000\n",
       "777  2021-06-01  21.856250  0.000000\n",
       "778  2021-06-02  22.740625  0.000000\n",
       "779  2021-06-03  21.450000  0.250000\n",
       "\n",
       "[780 rows x 3 columns]"
      ]
     },
     "execution_count": 6,
     "metadata": {},
     "output_type": "execute_result"
    }
   ],
   "source": [
    "temp_rain"
   ]
  },
  {
   "cell_type": "code",
   "execution_count": 7,
   "metadata": {},
   "outputs": [
    {
     "data": {
      "text/html": [
       "<div>\n",
       "<style scoped>\n",
       "    .dataframe tbody tr th:only-of-type {\n",
       "        vertical-align: middle;\n",
       "    }\n",
       "\n",
       "    .dataframe tbody tr th {\n",
       "        vertical-align: top;\n",
       "    }\n",
       "\n",
       "    .dataframe thead th {\n",
       "        text-align: right;\n",
       "    }\n",
       "</style>\n",
       "<table border=\"1\" class=\"dataframe\">\n",
       "  <thead>\n",
       "    <tr style=\"text-align: right;\">\n",
       "      <th></th>\n",
       "      <th>Local time in Jeju (airport)</th>\n",
       "      <th>T</th>\n",
       "      <th>WW</th>\n",
       "      <th>Date</th>\n",
       "    </tr>\n",
       "  </thead>\n",
       "  <tbody>\n",
       "    <tr>\n",
       "      <th>0</th>\n",
       "      <td>2019-04-16 01:00:00</td>\n",
       "      <td>11.6</td>\n",
       "      <td>0.0</td>\n",
       "      <td>2019-04-16</td>\n",
       "    </tr>\n",
       "    <tr>\n",
       "      <th>1</th>\n",
       "      <td>2019-04-16 02:00:00</td>\n",
       "      <td>11.4</td>\n",
       "      <td>0.0</td>\n",
       "      <td>2019-04-16</td>\n",
       "    </tr>\n",
       "    <tr>\n",
       "      <th>2</th>\n",
       "      <td>2019-04-16 03:00:00</td>\n",
       "      <td>11.4</td>\n",
       "      <td>0.0</td>\n",
       "      <td>2019-04-16</td>\n",
       "    </tr>\n",
       "    <tr>\n",
       "      <th>3</th>\n",
       "      <td>2019-04-16 04:00:00</td>\n",
       "      <td>11.1</td>\n",
       "      <td>0.0</td>\n",
       "      <td>2019-04-16</td>\n",
       "    </tr>\n",
       "    <tr>\n",
       "      <th>4</th>\n",
       "      <td>2019-04-16 05:00:00</td>\n",
       "      <td>11.2</td>\n",
       "      <td>0.0</td>\n",
       "      <td>2019-04-16</td>\n",
       "    </tr>\n",
       "    <tr>\n",
       "      <th>...</th>\n",
       "      <td>...</td>\n",
       "      <td>...</td>\n",
       "      <td>...</td>\n",
       "      <td>...</td>\n",
       "    </tr>\n",
       "    <tr>\n",
       "      <th>74759</th>\n",
       "      <td>2021-06-02 20:00:00</td>\n",
       "      <td>22.0</td>\n",
       "      <td>0.0</td>\n",
       "      <td>2021-06-02</td>\n",
       "    </tr>\n",
       "    <tr>\n",
       "      <th>74760</th>\n",
       "      <td>2021-06-02 21:00:00</td>\n",
       "      <td>22.0</td>\n",
       "      <td>0.0</td>\n",
       "      <td>2021-06-02</td>\n",
       "    </tr>\n",
       "    <tr>\n",
       "      <th>74761</th>\n",
       "      <td>2021-06-02 22:00:00</td>\n",
       "      <td>22.1</td>\n",
       "      <td>0.0</td>\n",
       "      <td>2021-06-02</td>\n",
       "    </tr>\n",
       "    <tr>\n",
       "      <th>74762</th>\n",
       "      <td>2021-06-02 23:00:00</td>\n",
       "      <td>22.6</td>\n",
       "      <td>0.0</td>\n",
       "      <td>2021-06-02</td>\n",
       "    </tr>\n",
       "    <tr>\n",
       "      <th>74763</th>\n",
       "      <td>2021-06-03 00:00:00</td>\n",
       "      <td>19.9</td>\n",
       "      <td>1.0</td>\n",
       "      <td>2021-06-03</td>\n",
       "    </tr>\n",
       "  </tbody>\n",
       "</table>\n",
       "<p>74764 rows × 4 columns</p>\n",
       "</div>"
      ],
      "text/plain": [
       "      Local time in Jeju (airport)     T   WW        Date\n",
       "0              2019-04-16 01:00:00  11.6  0.0  2019-04-16\n",
       "1              2019-04-16 02:00:00  11.4  0.0  2019-04-16\n",
       "2              2019-04-16 03:00:00  11.4  0.0  2019-04-16\n",
       "3              2019-04-16 04:00:00  11.1  0.0  2019-04-16\n",
       "4              2019-04-16 05:00:00  11.2  0.0  2019-04-16\n",
       "...                            ...   ...  ...         ...\n",
       "74759          2021-06-02 20:00:00  22.0  0.0  2021-06-02\n",
       "74760          2021-06-02 21:00:00  22.0  0.0  2021-06-02\n",
       "74761          2021-06-02 22:00:00  22.1  0.0  2021-06-02\n",
       "74762          2021-06-02 23:00:00  22.6  0.0  2021-06-02\n",
       "74763          2021-06-03 00:00:00  19.9  1.0  2021-06-03\n",
       "\n",
       "[74764 rows x 4 columns]"
      ]
     },
     "execution_count": 7,
     "metadata": {},
     "output_type": "execute_result"
    }
   ],
   "source": [
    "weather"
   ]
  },
  {
   "cell_type": "code",
   "execution_count": 8,
   "metadata": {
    "scrolled": true
   },
   "outputs": [],
   "source": [
    "data = pd.read_csv('fulldata.csv', encoding='euc-kr')\n",
    "data.drop(['year','month'],axis=1,inplace=True)"
   ]
  },
  {
   "cell_type": "code",
   "execution_count": 9,
   "metadata": {
    "scrolled": true
   },
   "outputs": [],
   "source": [
    "place = pd.read_csv('station.csv', encoding='euc-kr') #길거리에 Iot 있는 킥보드가 있는 장소"
   ]
  },
  {
   "cell_type": "code",
   "execution_count": 10,
   "metadata": {},
   "outputs": [
    {
     "name": "stderr",
     "output_type": "stream",
     "text": [
      "C:\\Users\\mllab\\Anaconda3\\lib\\site-packages\\pandas\\core\\indexing.py:670: SettingWithCopyWarning: \n",
      "A value is trying to be set on a copy of a slice from a DataFrame\n",
      "\n",
      "See the caveats in the documentation: https://pandas.pydata.org/pandas-docs/stable/user_guide/indexing.html#returning-a-view-versus-a-copy\n",
      "  self._setitem_with_indexer(indexer, value)\n"
     ]
    }
   ],
   "source": [
    "data['Xpos'] = None\n",
    "data['Ypos']= None\n",
    "\n",
    "#위치 추가\n",
    "for i in range(len(data)):\n",
    "    for j in range(len(place)):\n",
    "        if(data['rent_station'].iloc[i] == place['id'].iloc[j]):\n",
    "            data['Xpos'].iloc[i] = float(round(place['x_pos'].iloc[j],3))\n",
    "            data['Ypos'].iloc[i] = float(round(place['y_pos'].iloc[j],3))"
   ]
  },
  {
   "cell_type": "code",
   "execution_count": 11,
   "metadata": {},
   "outputs": [],
   "source": [
    "data['Xpos'] = data['Xpos'].astype('float')\n",
    "data['Ypos'] = data['Ypos'].astype('float')"
   ]
  },
  {
   "cell_type": "code",
   "execution_count": 12,
   "metadata": {},
   "outputs": [],
   "source": [
    "#data = data.iloc[138:] #2019-08-01~\n",
    "#data = data.iloc[385:] #2019-12-01~\n",
    "#data = data.iloc[592:] #2020-04-01~"
   ]
  },
  {
   "cell_type": "code",
   "execution_count": 13,
   "metadata": {},
   "outputs": [],
   "source": [
    "#data = data.iloc[887:] #일정한 수요가 생기는 2020-04-30일 이후 데이터를 자름"
   ]
  },
  {
   "cell_type": "markdown",
   "metadata": {},
   "source": [
    "## 지역 여러개 데이터 분할"
   ]
  },
  {
   "cell_type": "code",
   "execution_count": 14,
   "metadata": {},
   "outputs": [],
   "source": [
    "NineSector_data = data.copy()\n",
    "TwoSector_data = data.copy()\n",
    "OneSector_data = data.copy()\n",
    "FourSector_data = data.copy()\n",
    "OneSector_data['Sector'] = 0"
   ]
  },
  {
   "cell_type": "markdown",
   "metadata": {},
   "source": [
    "# ========================================================"
   ]
  },
  {
   "cell_type": "code",
   "execution_count": 15,
   "metadata": {},
   "outputs": [],
   "source": [
    "def preprocessing(data):\n",
    "    data['rent_date'] = pd.to_datetime(data['rent_date'], format='%Y-%m-%d %H:%M:%S', errors='raise')\n",
    "    data['year'] =data['rent_date'].dt.year\n",
    "    data['month'] =data['rent_date'].dt.month\n",
    "    data['day'] =data['rent_date'].dt.day\n",
    "    data['day_name'] = data['rent_date'].dt.day_name()\n",
    "    data = data.sort_values(by='rent_date')\n",
    "    data['rent_date'] = data['rent_date'].astype(str)\n",
    "    data['T'] = None\n",
    "    data['rain'] = None\n",
    "    return data"
   ]
  },
  {
   "cell_type": "code",
   "execution_count": 16,
   "metadata": {},
   "outputs": [],
   "source": [
    "def temp_rain_preprocessing(data,length,temp_length):\n",
    "    for i in range(temp_length):\n",
    "        for j in range(length):\n",
    "            if(data['rent_date'].iloc[j] == temp_rain['Date'].iloc[i]):\n",
    "                data['T'].iloc[j] = temp_rain['T'].iloc[i]\n",
    "                data['rain'].iloc[j] = temp_rain['rain'].iloc[i]\n",
    "                if(data['rain'].iloc[j]>0):\n",
    "                    data['rain'].iloc[j] = 0\n",
    "                else:\n",
    "                    data['rain'].iloc[j] = 1\n",
    "    data['T'] = data['T'].astype(int)\n",
    "    data['rent_date']=pd.to_datetime(data['rent_date'])\n",
    "    return data"
   ]
  },
  {
   "cell_type": "code",
   "execution_count": 17,
   "metadata": {},
   "outputs": [],
   "source": [
    "def weekend_weekday_preprocessing(data,length):\n",
    "    data['weekend'] = None\n",
    "    for i in range(length):\n",
    "        if(('Friday' == data['day_name'].iloc[i]) or ('Saturday'== data['day_name'].iloc[i]) or ('Sunday' == data['day_name'].iloc[i])):\n",
    "            data['weekend'].iloc[i] = 1\n",
    "        else:\n",
    "            data['weekend'].iloc[i] = 0\n",
    "\n",
    "    data['weekend']=data['weekend'].astype(int)\n",
    "    return data"
   ]
  },
  {
   "cell_type": "code",
   "execution_count": 18,
   "metadata": {},
   "outputs": [],
   "source": [
    "def dummy_preprocessing(data):\n",
    "    data['weekday'] = data['rent_date'].dt.weekday\n",
    "    data = pd.get_dummies(data,columns=['weekday'])\n",
    "    data = pd.get_dummies(data,columns=['month'])\n",
    "    data = pd.get_dummies(data,columns=['year'])\n",
    "    return data"
   ]
  },
  {
   "cell_type": "code",
   "execution_count": 19,
   "metadata": {},
   "outputs": [],
   "source": [
    "def WholePreprocessing(data):\n",
    "    data = data.groupby(['rent_date','Sector'],as_index=False).sum()\n",
    "    length = len(data)\n",
    "    temp_length = len(temp_rain)\n",
    "    data = preprocessing(data)\n",
    "    data = temp_rain_preprocessing(data,length,temp_length)\n",
    "    data = weekend_weekday_preprocessing(data,length)\n",
    "    data = dummy_preprocessing(data)\n",
    "    data.drop(['day_name','Xpos','Ypos'],axis=1,inplace=True)\n",
    "    return data"
   ]
  },
  {
   "cell_type": "markdown",
   "metadata": {},
   "source": [
    "# 지역 한개 모델"
   ]
  },
  {
   "cell_type": "code",
   "execution_count": 20,
   "metadata": {},
   "outputs": [
    {
     "name": "stderr",
     "output_type": "stream",
     "text": [
      "[MLENS] backend: threading\n"
     ]
    }
   ],
   "source": [
    "import xgboost as xgb\n",
    "from sklearn.model_selection import train_test_split\n",
    "from sklearn.multioutput import MultiOutputRegressor\n",
    "from sklearn.metrics import explained_variance_score\n",
    "from sklearn.metrics import make_scorer, mean_squared_error,r2_score\n",
    "from sklearn.model_selection import cross_val_score\n",
    "from math import sqrt\n",
    "import lightgbm as lgb\n",
    "from sklearn.ensemble import RandomForestRegressor\n",
    "from catboost import CatBoostRegressor\n",
    "from mlens.ensemble import BlendEnsemble\n",
    "from sklearn.linear_model import LinearRegression\n",
    "from mlens.ensemble import SuperLearner"
   ]
  },
  {
   "cell_type": "code",
   "execution_count": 21,
   "metadata": {},
   "outputs": [
    {
     "data": {
      "text/html": [
       "<div>\n",
       "<style scoped>\n",
       "    .dataframe tbody tr th:only-of-type {\n",
       "        vertical-align: middle;\n",
       "    }\n",
       "\n",
       "    .dataframe tbody tr th {\n",
       "        vertical-align: top;\n",
       "    }\n",
       "\n",
       "    .dataframe thead th {\n",
       "        text-align: right;\n",
       "    }\n",
       "</style>\n",
       "<table border=\"1\" class=\"dataframe\">\n",
       "  <thead>\n",
       "    <tr style=\"text-align: right;\">\n",
       "      <th></th>\n",
       "      <th>rent_date</th>\n",
       "      <th>rent_number</th>\n",
       "      <th>rent_station</th>\n",
       "      <th>day</th>\n",
       "      <th>day_name</th>\n",
       "      <th>Xpos</th>\n",
       "      <th>Ypos</th>\n",
       "    </tr>\n",
       "  </thead>\n",
       "  <tbody>\n",
       "    <tr>\n",
       "      <th>0</th>\n",
       "      <td>2019-04-16</td>\n",
       "      <td>1</td>\n",
       "      <td>EVS_000003</td>\n",
       "      <td>16</td>\n",
       "      <td>Tuesday</td>\n",
       "      <td>126.922</td>\n",
       "      <td>33.470</td>\n",
       "    </tr>\n",
       "    <tr>\n",
       "      <th>1</th>\n",
       "      <td>2019-04-20</td>\n",
       "      <td>2</td>\n",
       "      <td>EVS_000001</td>\n",
       "      <td>20</td>\n",
       "      <td>Saturday</td>\n",
       "      <td>126.499</td>\n",
       "      <td>33.518</td>\n",
       "    </tr>\n",
       "    <tr>\n",
       "      <th>2</th>\n",
       "      <td>2019-04-21</td>\n",
       "      <td>2</td>\n",
       "      <td>EVS_000001</td>\n",
       "      <td>21</td>\n",
       "      <td>Sunday</td>\n",
       "      <td>126.499</td>\n",
       "      <td>33.518</td>\n",
       "    </tr>\n",
       "    <tr>\n",
       "      <th>3</th>\n",
       "      <td>2019-04-24</td>\n",
       "      <td>2</td>\n",
       "      <td>EVS_000003</td>\n",
       "      <td>24</td>\n",
       "      <td>Wednesday</td>\n",
       "      <td>126.922</td>\n",
       "      <td>33.470</td>\n",
       "    </tr>\n",
       "    <tr>\n",
       "      <th>4</th>\n",
       "      <td>2019-04-25</td>\n",
       "      <td>3</td>\n",
       "      <td>EVS_000003</td>\n",
       "      <td>25</td>\n",
       "      <td>Thursday</td>\n",
       "      <td>126.922</td>\n",
       "      <td>33.470</td>\n",
       "    </tr>\n",
       "    <tr>\n",
       "      <th>...</th>\n",
       "      <td>...</td>\n",
       "      <td>...</td>\n",
       "      <td>...</td>\n",
       "      <td>...</td>\n",
       "      <td>...</td>\n",
       "      <td>...</td>\n",
       "      <td>...</td>\n",
       "    </tr>\n",
       "    <tr>\n",
       "      <th>11643</th>\n",
       "      <td>2021-06-03</td>\n",
       "      <td>1</td>\n",
       "      <td>EVS_000108</td>\n",
       "      <td>3</td>\n",
       "      <td>Tuesday</td>\n",
       "      <td>126.574</td>\n",
       "      <td>33.245</td>\n",
       "    </tr>\n",
       "    <tr>\n",
       "      <th>11644</th>\n",
       "      <td>2021-06-03</td>\n",
       "      <td>1</td>\n",
       "      <td>EVS_000110</td>\n",
       "      <td>3</td>\n",
       "      <td>Tuesday</td>\n",
       "      <td>126.482</td>\n",
       "      <td>33.482</td>\n",
       "    </tr>\n",
       "    <tr>\n",
       "      <th>11645</th>\n",
       "      <td>2021-06-03</td>\n",
       "      <td>1</td>\n",
       "      <td>EVS_000359</td>\n",
       "      <td>3</td>\n",
       "      <td>Tuesday</td>\n",
       "      <td>126.919</td>\n",
       "      <td>33.445</td>\n",
       "    </tr>\n",
       "    <tr>\n",
       "      <th>11646</th>\n",
       "      <td>2021-06-03</td>\n",
       "      <td>1</td>\n",
       "      <td>EVS_000285</td>\n",
       "      <td>3</td>\n",
       "      <td>Tuesday</td>\n",
       "      <td>126.550</td>\n",
       "      <td>33.476</td>\n",
       "    </tr>\n",
       "    <tr>\n",
       "      <th>11647</th>\n",
       "      <td>2021-06-03</td>\n",
       "      <td>5</td>\n",
       "      <td>EVS_000127</td>\n",
       "      <td>3</td>\n",
       "      <td>Tuesday</td>\n",
       "      <td>126.377</td>\n",
       "      <td>33.484</td>\n",
       "    </tr>\n",
       "  </tbody>\n",
       "</table>\n",
       "<p>11648 rows × 7 columns</p>\n",
       "</div>"
      ],
      "text/plain": [
       "        rent_date  rent_number rent_station  day   day_name     Xpos    Ypos\n",
       "0      2019-04-16            1   EVS_000003   16    Tuesday  126.922  33.470\n",
       "1      2019-04-20            2   EVS_000001   20   Saturday  126.499  33.518\n",
       "2      2019-04-21            2   EVS_000001   21     Sunday  126.499  33.518\n",
       "3      2019-04-24            2   EVS_000003   24  Wednesday  126.922  33.470\n",
       "4      2019-04-25            3   EVS_000003   25   Thursday  126.922  33.470\n",
       "...           ...          ...          ...  ...        ...      ...     ...\n",
       "11643  2021-06-03            1   EVS_000108    3    Tuesday  126.574  33.245\n",
       "11644  2021-06-03            1   EVS_000110    3    Tuesday  126.482  33.482\n",
       "11645  2021-06-03            1   EVS_000359    3    Tuesday  126.919  33.445\n",
       "11646  2021-06-03            1   EVS_000285    3    Tuesday  126.550  33.476\n",
       "11647  2021-06-03            5   EVS_000127    3    Tuesday  126.377  33.484\n",
       "\n",
       "[11648 rows x 7 columns]"
      ]
     },
     "execution_count": 21,
     "metadata": {},
     "output_type": "execute_result"
    }
   ],
   "source": [
    "data"
   ]
  },
  {
   "cell_type": "code",
   "execution_count": 22,
   "metadata": {},
   "outputs": [],
   "source": [
    "def OneSector_split(data):\n",
    "    X_data = data.drop(['rent_date','rent_number'],axis=1)\n",
    "    y_data = data['rent_number']\n",
    "    X_train = X_data.iloc[:-7]\n",
    "    y_train = y_data.iloc[:-7]\n",
    "    X_test = X_data.iloc[-7:]\n",
    "    y_test = y_data.iloc[-7:]\n",
    "    return X_train,X_test,y_train,y_test"
   ]
  },
  {
   "cell_type": "code",
   "execution_count": 23,
   "metadata": {},
   "outputs": [],
   "source": [
    "def TwoSector_split(data):\n",
    "    X_data = data.drop(['rent_date','rent_number'],axis=1)\n",
    "    y_data = data['rent_number']\n",
    "    X_train = X_data.iloc[:-14]\n",
    "    y_train = y_data.iloc[:-14]\n",
    "    X_test = X_data.iloc[-14:]\n",
    "    y_test = y_data.iloc[-14:]\n",
    "    return X_train,X_test,y_train,y_test"
   ]
  },
  {
   "cell_type": "code",
   "execution_count": 24,
   "metadata": {},
   "outputs": [],
   "source": [
    "def FourSector_split(data):\n",
    "    X_data = data.drop(['rent_date','rent_number'],axis=1)\n",
    "    y_data = data['rent_number']\n",
    "    X_train = X_data.iloc[:-28]\n",
    "    y_train = y_data.iloc[:-28]\n",
    "    X_test = X_data.iloc[-28:]\n",
    "    y_test = y_data.iloc[-28:]\n",
    "    return X_train,X_test,y_train,y_test"
   ]
  },
  {
   "cell_type": "code",
   "execution_count": 25,
   "metadata": {},
   "outputs": [],
   "source": [
    "def PrintResult(y_test,xlf,X_test):\n",
    "\n",
    "    original_y_test_index=y_test.index\n",
    "    y_test.index = range(len(y_test)) \n",
    "    xgb_preds = xlf.predict(X_test)\n",
    "    xgb_preds = xgb_preds.astype(int)\n",
    "    print('RMSE: ', sqrt(mean_squared_error(y_test,xgb_preds)))\n",
    "    print(\"R2 SCORE\", round(r2_score(y_test, xgb_preds), 2))\n",
    "    return original_y_test_index,xgb_preds"
   ]
  },
  {
   "cell_type": "code",
   "execution_count": 26,
   "metadata": {},
   "outputs": [],
   "source": [
    "def Plot(xgb_preds,y_test):\n",
    "\n",
    "    fig, axes = plt.subplots(1,1,figsize=(8,4))\n",
    "    axes.plot(xgb_preds,'r',label='predictions_value')\n",
    "    axes.plot(y_test,label='real_value')\n",
    "    axes.set_xlabel('dataset')\n",
    "    axes.set_ylabel('rent_number')\n",
    "    plt.tight_layout()\n",
    "    axes.legend()\n",
    "    plt.show()"
   ]
  },
  {
   "cell_type": "code",
   "execution_count": 27,
   "metadata": {},
   "outputs": [],
   "source": [
    "def AddError(X_test,xgb_preds,y_test,original_y_test_index):\n",
    "    minus=xgb_preds-y_test\n",
    "    minus.index = original_y_test_index\n",
    "    y_test.index = original_y_test_index\n",
    "    X_test['Minus'] = minus\n",
    "    X_test['rent_number'] = y_test\n",
    "    X_test['rent_date'] = None\n",
    "    return X_test"
   ]
  },
  {
   "cell_type": "code",
   "execution_count": 28,
   "metadata": {},
   "outputs": [],
   "source": [
    "def Barplot(data):\n",
    "    data = data.groupby(['Sector'], as_index=False).sum()\n",
    "    sns.barplot(x= \"Sector\",y=\"rent_number\", data= data)"
   ]
  },
  {
   "cell_type": "code",
   "execution_count": 29,
   "metadata": {},
   "outputs": [],
   "source": [
    "def Scatter(data):\n",
    "    plt.figure(figsize=(12,8))\n",
    "    data = data.groupby(['Xpos', 'Ypos', 'Sector'], as_index=False).sum()\n",
    "    num = data['rent_number'].to_numpy()\n",
    "    area = num*6\n",
    "    sns.scatterplot(x='Xpos',y ='Ypos',hue='Sector',data=data,s=area, alpha=0.5)\n",
    "    centers = pd.DataFrame(kmeans.cluster_centers_,columns=['Sepal length','Sepal width'])\n",
    "    center_x = centers['Sepal length']\n",
    "    center_y = centers['Sepal width']\n",
    "    plt.scatter(center_x,center_y,s=250,marker='D',c='r')"
   ]
  },
  {
   "cell_type": "code",
   "execution_count": 30,
   "metadata": {},
   "outputs": [],
   "source": [
    "def Scatter(data):\n",
    "    plt.figure(figsize=(12,8))\n",
    "    data = data.groupby(['Xpos', 'Ypos', 'Sector'], as_index=False).sum()\n",
    "    num = data['rent_number'].to_numpy()\n",
    "    area = num*6\n",
    "    sns.scatterplot(x='Xpos',y ='Ypos',hue='Sector',data=data,s=area, alpha=0.5)"
   ]
  },
  {
   "cell_type": "code",
   "execution_count": 31,
   "metadata": {},
   "outputs": [],
   "source": [
    "from scipy.signal import savgol_filter\n",
    "def Smoothing(data):\n",
    "    x = data['rent_number'].to_numpy()\n",
    "    x = savgol_filter(x, 11, 2, mode='nearest')\n",
    "    data['rent_number'] = x\n",
    "    return data"
   ]
  },
  {
   "cell_type": "code",
   "execution_count": 32,
   "metadata": {
    "scrolled": false
   },
   "outputs": [
    {
     "data": {
      "image/png": "[encoded data removed]",
      "text/plain": [
       "<Figure size 864x576 with 1 Axes>"
      ]
     },
     "metadata": {
      "needs_background": "light"
     },
     "output_type": "display_data"
    }
   ],
   "source": [
    "Scatter(OneSector_data)"
   ]
  },
  {
   "cell_type": "code",
   "execution_count": 33,
   "metadata": {},
   "outputs": [
    {
     "data": {
      "text/plain": [
       "0        1\n",
       "1        2\n",
       "2        2\n",
       "3        2\n",
       "4        3\n",
       "        ..\n",
       "11643    1\n",
       "11644    1\n",
       "11645    1\n",
       "11646    1\n",
       "11647    5\n",
       "Name: rent_number, Length: 11648, dtype: int64"
      ]
     },
     "execution_count": 33,
     "metadata": {},
     "output_type": "execute_result"
    }
   ],
   "source": [
    "OneSector_data['rent_number']"
   ]
  },
  {
   "cell_type": "code",
   "execution_count": 34,
   "metadata": {
    "scrolled": true
   },
   "outputs": [
    {
     "name": "stderr",
     "output_type": "stream",
     "text": [
      "C:\\Users\\mllab\\Anaconda3\\lib\\site-packages\\pandas\\core\\indexing.py:670: SettingWithCopyWarning: \n",
      "A value is trying to be set on a copy of a slice from a DataFrame\n",
      "\n",
      "See the caveats in the documentation: https://pandas.pydata.org/pandas-docs/stable/user_guide/indexing.html#returning-a-view-versus-a-copy\n",
      "  self._setitem_with_indexer(indexer, value)\n"
     ]
    }
   ],
   "source": [
    "OneSector_data = OneSector_data.groupby(['rent_date','Sector'],as_index=False).sum()\n",
    "OneSector_data = WholePreprocessing(OneSector_data)"
   ]
  },
  {
   "cell_type": "code",
   "execution_count": 35,
   "metadata": {},
   "outputs": [],
   "source": [
    "OneSector_data = Smoothing(OneSector_data)"
   ]
  },
  {
   "cell_type": "code",
   "execution_count": 36,
   "metadata": {},
   "outputs": [
    {
     "data": {
      "image/png": "[encoded data removed]",
      "text/plain": [
       "<Figure size 864x432 with 1 Axes>"
      ]
     },
     "metadata": {
      "needs_background": "light"
     },
     "output_type": "display_data"
    }
   ],
   "source": [
    "plt.figure(figsize=(12,6))\n",
    "\n",
    "plt.plot(OneSector_data['rent_date'],OneSector_data['rent_number'])\n",
    "plt.xlabel('rent_date')\n",
    "plt.ylabel('rent_number')\n",
    "\n",
    "plt.show()"
   ]
  },
  {
   "cell_type": "markdown",
   "metadata": {},
   "source": [
    "## Error 추가"
   ]
  }
 ],
 "metadata": {
  "kernelspec": {
   "display_name": "Python 3",
   "language": "python",
   "name": "python3"
  },
  "language_info": {
   "codemirror_mode": {
    "name": "ipython",
    "version": 3
   },
   "file_extension": ".py",
   "mimetype": "text/x-python",
   "name": "python",
   "nbconvert_exporter": "python",
   "pygments_lexer": "ipython3",
   "version": "3.7.6"
  }
 },
 "nbformat": 4,
 "nbformat_minor": 4
}

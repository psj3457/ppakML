{
 "cells": [
  {
   "cell_type": "code",
   "execution_count": 1,
   "id": "413cc4e2",
   "metadata": {},
   "outputs": [],
   "source": [
    "import pandas as pd\n",
    "import numpy as np\n",
    "import matplotlib.pyplot as plt\n",
    "import seaborn as sns\n",
    "import datetime"
   ]
  },
  {
   "cell_type": "code",
   "execution_count": 2,
   "id": "889a5ac4",
   "metadata": {},
   "outputs": [],
   "source": [
    "data = pd.read_csv('./OneSector_data.csv')"
   ]
  },
  {
   "cell_type": "code",
   "execution_count": 4,
   "id": "716f56f5",
   "metadata": {},
   "outputs": [],
   "source": [
    "from sklearn.ensemble import ExtraTreesRegressor"
   ]
  },
  {
   "cell_type": "code",
   "execution_count": 9,
   "id": "b2ec0c2b",
   "metadata": {},
   "outputs": [],
   "source": [
    "def predict_test(year, month, day):\n",
    "    if year >= 2021 and month >=6 and day >= 6:\n",
    "        print(\"2021년 6월 5일까지만 예측 가능합니다. 이전 날짜를 입력해주세요\")\n",
    "    else:\n",
    "        test_firstday = data[(data['year']==year) & (data['month']==month) & (data['day']==day)].index[0]\n",
    "        X_data = data.drop(['rent_date','rent_number'],axis=1)\n",
    "        y_data = data['rent_number']\n",
    "        test_lastday = test_firstday + 7\n",
    "        for i in range(test_firstday, test_lastday):\n",
    "            X_train = X_data.iloc[:i]\n",
    "            y_train = y_data.iloc[:i]\n",
    "            X_test = X_data.iloc[i:i+1]\n",
    "            xlf = ExtraTreesRegressor()\n",
    "            xlf.fit(X_train, y_train)\n",
    "            pred = xlf.predict(X_test)\n",
    "            pred = pred.astype(int)\n",
    "    \n",
    "            print(data['year'][i], \"년\", data['month'][i], \"월\", data['day'][i], \"일의 예측 렌트량은\", pred[0], \"대입니다.\")"
   ]
  },
  {
   "cell_type": "code",
   "execution_count": 12,
   "id": "65f7c1bb",
   "metadata": {},
   "outputs": [
    {
     "name": "stdout",
     "output_type": "stream",
     "text": [
      "2021 년 5 월 30 일의 예측 렌트량은 134 대입니다.\n",
      "2021 년 5 월 31 일의 예측 렌트량은 148 대입니다.\n",
      "2021 년 6 월 1 일의 예측 렌트량은 147 대입니다.\n",
      "2021 년 6 월 2 일의 예측 렌트량은 91 대입니다.\n",
      "2021 년 6 월 3 일의 예측 렌트량은 100 대입니다.\n",
      "2021 년 6 월 4 일의 예측 렌트량은 119 대입니다.\n",
      "2021 년 6 월 5 일의 예측 렌트량은 146 대입니다.\n"
     ]
    }
   ],
   "source": [
    "predict_test(2021, 5, 30)"
   ]
  },
  {
   "cell_type": "code",
   "execution_count": 11,
   "id": "429d1a4e",
   "metadata": {
    "scrolled": true
   },
   "outputs": [
    {
     "name": "stdout",
     "output_type": "stream",
     "text": [
      "2021 년 6 월 5 일의 예측 렌트량은 140 대입니다.\n",
      "2021 년 6 월 6 일의 예측 렌트량은 172 대입니다.\n",
      "2021 년 6 월 7 일의 예측 렌트량은 121 대입니다.\n",
      "2021 년 6 월 8 일의 예측 렌트량은 112 대입니다.\n",
      "2021 년 6 월 9 일의 예측 렌트량은 117 대입니다.\n",
      "2021 년 6 월 10 일의 예측 렌트량은 68 대입니다.\n",
      "2021 년 6 월 11 일의 예측 렌트량은 62 대입니다.\n"
     ]
    }
   ],
   "source": [
    "predict_test(2021, 6, 5)"
   ]
  },
  {
   "cell_type": "code",
   "execution_count": 13,
   "id": "f2cf1cbb",
   "metadata": {},
   "outputs": [
    {
     "name": "stdout",
     "output_type": "stream",
     "text": [
      "2021년 6월 5일까지만 예측 가능합니다. 이전 날짜를 입력해주세요\n"
     ]
    }
   ],
   "source": [
    "predict_test(2021, 6, 6)"
   ]
  },
  {
   "cell_type": "code",
   "execution_count": null,
   "id": "d73edc2c",
   "metadata": {},
   "outputs": [],
   "source": []
  }
 ],
 "metadata": {
  "kernelspec": {
   "display_name": "Python 3",
   "language": "python",
   "name": "python3"
  },
  "language_info": {
   "codemirror_mode": {
    "name": "ipython",
    "version": 3
   },
   "file_extension": ".py",
   "mimetype": "text/x-python",
   "name": "python",
   "nbconvert_exporter": "python",
   "pygments_lexer": "ipython3",
   "version": "3.7.11"
  }
 },
 "nbformat": 4,
 "nbformat_minor": 5
}

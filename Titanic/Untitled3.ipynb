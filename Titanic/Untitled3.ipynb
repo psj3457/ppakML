{
 "cells": [
  {
   "cell_type": "code",
   "execution_count": 46,
   "metadata": {},
   "outputs": [
    {
     "name": "stdout",
     "output_type": "stream",
     "text": [
      "10\n",
      "10\n"
     ]
    }
   ],
   "source": [
    "X = list(range(10))\n",
    "Y = [1, 2, 3, 4, 5, 5, 8, 9, 9, 10]\n",
    "print(len(Y))\n",
    "\n",
    "print(len(X))"
   ]
  },
  {
   "cell_type": "code",
   "execution_count": 47,
   "metadata": {},
   "outputs": [],
   "source": [
    "import matplotlib.pyplot as plt"
   ]
  },
  {
   "cell_type": "code",
   "execution_count": 48,
   "metadata": {},
   "outputs": [
    {
     "data": {
      "text/plain": [
       "<matplotlib.collections.PathCollection at 0x1e97c30ef88>"
      ]
     },
     "execution_count": 48,
     "metadata": {},
     "output_type": "execute_result"
    },
    {
     "data": {
      "image/png": "[encoded data removed]",
      "text/plain": [
       "<Figure size 432x288 with 1 Axes>"
      ]
     },
     "metadata": {
      "needs_background": "light"
     },
     "output_type": "display_data"
    }
   ],
   "source": [
    "plt.plot(X, Y)\n",
    "plt.scatter(X, Y)"
   ]
  },
  {
   "cell_type": "code",
   "execution_count": 49,
   "metadata": {},
   "outputs": [
    {
     "data": {
      "text/plain": [
       "226.2"
      ]
     },
     "execution_count": 49,
     "metadata": {},
     "output_type": "execute_result"
    }
   ],
   "source": [
    "class H():\n",
    "    \n",
    "    def __init__(self, w):\n",
    "        self.w = w\n",
    "    \n",
    "    def forward(self, x):\n",
    "        return self.w * x\n",
    "\n",
    "def cost(h, X, Y):\n",
    "    error = 0\n",
    "    for i in range(len(X)):\n",
    "        error += (h.forward(X[i])- Y[i])** 2\n",
    "    error = error / len(X)\n",
    "    return error\n",
    "        \n",
    "h = H(4)\n",
    "cost(h, X, Y)"
   ]
  },
  {
   "cell_type": "code",
   "execution_count": 50,
   "metadata": {},
   "outputs": [
    {
     "data": {
      "text/plain": [
       "<matplotlib.collections.PathCollection at 0x1e97c46d808>"
      ]
     },
     "execution_count": 50,
     "metadata": {},
     "output_type": "execute_result"
    },
    {
     "data": {
      "image/png": "[encoded data removed]",
      "text/plain": [
       "<Figure size 216x216 with 1 Axes>"
      ]
     },
     "metadata": {
      "needs_background": "light"
     },
     "output_type": "display_data"
    }
   ],
   "source": [
    "list_w = []\n",
    "list_c = []\n",
    "for i in range(-100, 100):\n",
    "    w = i * 0.1\n",
    "    h = H(w)\n",
    "    c = cost(h, X, Y)\n",
    "    list_w.append(w)\n",
    "    list_c.append(c)\n",
    "    \n",
    "plt.figure(figsize=(3, 3))\n",
    "plt.xlabel('w')\n",
    "plt.ylabel('cost')\n",
    "plt.scatter(list_w, list_c, s=0.1)"
   ]
  },
  {
   "cell_type": "code",
   "execution_count": 66,
   "metadata": {},
   "outputs": [
    {
     "name": "stdout",
     "output_type": "stream",
     "text": [
      "12.200285000041331 12.199999999999994\n",
      "5.246122549973364 5.246000000000002\n",
      "2.2558326964738917 2.255780000000005\n",
      "0.9700080594976511 0.9699854000000068\n",
      "0.41710346564416406 0.417093721999996\n",
      "0.1793544901596 0.17935030045999376\n",
      "0.07712243078605852 0.07712062919779897\n",
      "0.03316264520769607 0.03316187055505075\n",
      "0.014259937441973845 0.014259604338677434\n",
      "0.006131773155892971 0.006131629865632959\n",
      "0.002636662421728886 0.00263660084222721\n",
      "0.0011337648930798139 0.0011337383621544462\n",
      "0.0004875188364117377 0.0004875074957318759\n",
      "0.000209633166381451 0.00020962822316619167\n",
      "9.014219370939712e-05 9.014013596591042e-05\n",
      "3.87611942542776e-05 3.876025847162623e-05\n",
      "1.6667278668336394e-05 1.6666911144369578e-05\n",
      "7.166900406474496e-06 7.1667717943313395e-06\n",
      "3.081790378445248e-06 3.0817118691572888e-06\n",
      "1.3251622021925866e-06 1.3251361071553446e-06\n",
      "5.698219673888616e-07 5.698085228544869e-07\n",
      "2.4504842599526455e-07 2.450176591395348e-07\n",
      "1.0536016503692734e-07 1.0535759784602305e-07\n",
      "4.535261055593764e-08 4.530377282208065e-08\n",
      "1.9417800700693988e-08 1.9480616586520226e-08\n",
      "8.382183835919932e-09 8.376664339948547e-09\n",
      "3.5971225997855068e-09 3.601971698685702e-09\n",
      "1.554312234475219e-09 1.548851358279535e-09\n",
      "6.550315845288423e-10 6.660080487108644e-10\n",
      "3.441691376337985e-10 2.8638673654768353e-10\n",
      "6.661338147750939e-11 1.231438062632151e-10\n",
      "5.551115123125782e-11 5.2949289397474785e-11\n",
      "3.3306690738754696e-11 2.2763657625546328e-11\n",
      "-1.1102230246251564e-11 9.79163417014206e-12\n",
      "6.661338147750939e-11 4.209610438010714e-12\n",
      "-2.2204460492503128e-11 1.8044232774627743e-12\n",
      "4.4408920985006255e-11 7.8017592386459e-13\n",
      "1.1102230246251564e-11 3.3715252811816756e-13\n",
      "-5.551115123125782e-11 1.4637180356658065e-13\n",
      "4.4408920985006255e-11 5.826450433232821e-14\n",
      "1.1102230246251564e-11 2.0961010704922957e-14\n",
      "-5.551115123125782e-11 7.815970093361103e-15\n",
      "4.4408920985006255e-11 7.815970093361103e-15\n",
      "1.1102230246251564e-11 7.815970093361103e-15\n",
      "-5.551115123125782e-11 7.815970093361103e-15\n",
      "4.4408920985006255e-11 7.815970093361103e-15\n",
      "1.1102230246251564e-11 7.815970093361103e-15\n",
      "-5.551115123125782e-11 7.815970093361103e-15\n",
      "4.4408920985006255e-11 7.815970093361103e-15\n",
      "1.1102230246251564e-11 7.815970093361103e-15\n",
      "-5.551115123125782e-11 7.815970093361103e-15\n",
      "4.4408920985006255e-11 7.815970093361103e-15\n",
      "1.1102230246251564e-11 7.815970093361103e-15\n",
      "-5.551115123125782e-11 7.815970093361103e-15\n",
      "4.4408920985006255e-11 7.815970093361103e-15\n",
      "1.1102230246251564e-11 7.815970093361103e-15\n",
      "-5.551115123125782e-11 7.815970093361103e-15\n",
      "4.4408920985006255e-11 7.815970093361103e-15\n",
      "1.1102230246251564e-11 7.815970093361103e-15\n",
      "-5.551115123125782e-11 7.815970093361103e-15\n",
      "4.4408920985006255e-11 7.815970093361103e-15\n",
      "1.1102230246251564e-11 7.815970093361103e-15\n",
      "-5.551115123125782e-11 7.815970093361103e-15\n",
      "4.4408920985006255e-11 7.815970093361103e-15\n",
      "1.1102230246251564e-11 7.815970093361103e-15\n",
      "-5.551115123125782e-11 7.815970093361103e-15\n",
      "4.4408920985006255e-11 7.815970093361103e-15\n",
      "1.1102230246251564e-11 7.815970093361103e-15\n",
      "-5.551115123125782e-11 7.815970093361103e-15\n",
      "4.4408920985006255e-11 7.815970093361103e-15\n",
      "1.1102230246251564e-11 7.815970093361103e-15\n",
      "-5.551115123125782e-11 7.815970093361103e-15\n",
      "4.4408920985006255e-11 7.815970093361103e-15\n",
      "1.1102230246251564e-11 7.815970093361103e-15\n",
      "-5.551115123125782e-11 7.815970093361103e-15\n",
      "4.4408920985006255e-11 7.815970093361103e-15\n",
      "1.1102230246251564e-11 7.815970093361103e-15\n",
      "-5.551115123125782e-11 7.815970093361103e-15\n",
      "4.4408920985006255e-11 7.815970093361103e-15\n",
      "1.1102230246251564e-11 7.815970093361103e-15\n",
      "-5.551115123125782e-11 7.815970093361103e-15\n",
      "4.4408920985006255e-11 7.815970093361103e-15\n",
      "1.1102230246251564e-11 7.815970093361103e-15\n",
      "-5.551115123125782e-11 7.815970093361103e-15\n",
      "4.4408920985006255e-11 7.815970093361103e-15\n",
      "1.1102230246251564e-11 7.815970093361103e-15\n",
      "-5.551115123125782e-11 7.815970093361103e-15\n",
      "4.4408920985006255e-11 7.815970093361103e-15\n",
      "1.1102230246251564e-11 7.815970093361103e-15\n",
      "-5.551115123125782e-11 7.815970093361103e-15\n",
      "4.4408920985006255e-11 7.815970093361103e-15\n",
      "1.1102230246251564e-11 7.815970093361103e-15\n",
      "-5.551115123125782e-11 7.815970093361103e-15\n",
      "4.4408920985006255e-11 7.815970093361103e-15\n",
      "1.1102230246251564e-11 7.815970093361103e-15\n",
      "-5.551115123125782e-11 7.815970093361103e-15\n",
      "4.4408920985006255e-11 7.815970093361103e-15\n",
      "1.1102230246251564e-11 7.815970093361103e-15\n",
      "-5.551115123125782e-11 7.815970093361103e-15\n",
      "4.4408920985006255e-11 7.815970093361103e-15\n"
     ]
    },
    {
     "data": {
      "text/plain": [
       "<matplotlib.collections.PathCollection at 0x1e97c550e48>"
      ]
     },
     "execution_count": 66,
     "metadata": {},
     "output_type": "execute_result"
    },
    {
     "data": {
      "image/png": "[encoded data removed]",
      "text/plain": [
       "<Figure size 432x288 with 1 Axes>"
      ]
     },
     "metadata": {
      "needs_background": "light"
     },
     "output_type": "display_data"
    }
   ],
   "source": [
    "def cal_grad(w, cost):\n",
    "    h = H(w)\n",
    "    cost1 = cost(h, X, Y)\n",
    "    eps = 0.00001\n",
    "    h = H(w + eps)\n",
    "    cost2 = cost(h, X, Y)\n",
    "    dcost = cost2 - cost1\n",
    "    dw = eps\n",
    "    grad = dcost / dw\n",
    "    return grad, (cost1+cost2) * 0.5\n",
    "\n",
    "def cal_grad2(w, cost):\n",
    "    h = H(w)\n",
    "    grad = 0\n",
    "    for i in range(len(X)):\n",
    "        grad += 2 * (h.forward(X[i]) - Y[i]) * X[i]\n",
    "    grad = grad / len(X)\n",
    "    cost = cost(h, X, Y)\n",
    "    return grad, c\n",
    "    \n",
    "w1 = 1.4\n",
    "w2 = 1.4\n",
    "lr = 0.01\n",
    "\n",
    "list_w1 = []\n",
    "list_w2 = []\n",
    "list_c1 = []\n",
    "list_c2 = []\n",
    "\n",
    "for i in range(100):\n",
    "    grad, mean_cost = cal_grad(w1, cost)\n",
    "    grad2, mean_cost2 = cal_grad2(w2, cost)\n",
    "    print(grad, grad2)\n",
    "    \n",
    "    w1 -= lr * grad\n",
    "    w2 -= lr * grad2\n",
    "    list_w1.append(w1)\n",
    "    list_w2.append(w2)\n",
    "    list_c1.append(mean_cost)\n",
    "    list_c2.append(mean_cost2)\n",
    "\n",
    "plt.scatter(list_w1, list_c1)\n",
    "plt.scatter(list_w2, list_c2)"
   ]
  },
  {
   "cell_type": "code",
   "execution_count": null,
   "metadata": {},
   "outputs": [],
   "source": []
  }
 ],
 "metadata": {
  "kernelspec": {
   "display_name": "Python 3",
   "language": "python",
   "name": "python3"
  },
  "language_info": {
   "codemirror_mode": {
    "name": "ipython",
    "version": 3
   },
   "file_extension": ".py",
   "mimetype": "text/x-python",
   "name": "python",
   "nbconvert_exporter": "python",
   "pygments_lexer": "ipython3",
   "version": "3.7.6"
  }
 },
 "nbformat": 4,
 "nbformat_minor": 4
}
